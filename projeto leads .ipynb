{
 "cells": [
  {
   "cell_type": "markdown",
   "metadata": {},
   "source": [
    "### Projeto DataScience: prevendo a existência e quantidade de Leads em anúncios de um marketplace veícular\n",
    "\n",
    "### Visão Geral do projeto\n",
    "\n",
    "Iremos dividir este relatório em três grandes objetivos: \n",
    "\n",
    "1. Realizar análise exploratória para, além de conhecer os dados, retirar insights dos dados: verificar como os leads variam de acordo com algumas features do dataset.\n",
    "2. Desenvolver modelos de classificação que possam prever se um determinado anúncio terá Leads ou não.\n",
    "3. Construir modelos regressivos que também possam prever quantos leads um determinado assunto irá receber."
   ]
  },
  {
   "cell_type": "markdown",
   "metadata": {},
   "source": [
    "### Endereçando o problema:\n",
    "\n",
    "1. Para o primeiro ponto acima iremos realizar uma análise exploratória (EDA) para identificar que características dos anúncios estão mais associadas com as mudanças nas quantidades de leads. Notadamente iremos verificar a quantidade de leads por marca e modelo do veículo anunciado, a sua cidade, o ano do modelo e algumas outras características pertinentes;\n",
    "\n",
    "2. Para determinar se um anúncio terá leads ou não, iremos propor a construção de 4 modelos preditivo do tipo \"two-class\" (ou binário): RandomForest, Regressão Logística, Knn e Naive Bayes. Para alcançar este objetivo, precisaremos de uma feature adequada a ser usada como label e, portanto, iremos criar uma nova coluna no dataset chamada `has_lead`. Esta coluna receberá valor `1` caso o anúncio tenha recebido algum lead e `0` caso tenha recebido nenhum. Ao final, iremos avaliar a melhor performance entre os modelos pelas métricas derivadas da matriz de confusão: Acurracy, AUC score, F1 Score e AUPRC (Area Under the Precision-Recall Curve).\n",
    "\n",
    "3. Por fim, com o objetivo de identificar quantos leads um determinado anúncio pode receber, iremos propor a construção de quatro modelos de Regressão: Linear, MLP Regressor, RandomForest e ElasticNet. O objetivo será criar uma função que possa prever a quantidade de leads com base nas características do anúncio. Aquele modelo com as melhores métricas de desempenho (MAE, MSE, RMSE) será o escolhido. \n",
    "\n",
    "4. Para dar mais robustez aos modelos, usaremos estratégias de Feature Engineering e Feature Selection visando criar features com melhor poder preditivo que as originais, além de selecionar as melhores para tal tarefa. Os modelos criados serão rodados por métodos de validação cruzada (estratificada e simples) pelo menos 5 vezes em cada folder. Cada modelo aqui criado foi computado 20 vezes (5 execuções x 4 Folds) e as médias das respectivas métricas e seu desvio-padrão serão levadas em consideração para avaliar sua consistência entre os resultados colhidos."
   ]
  },
  {
   "cell_type": "markdown",
   "metadata": {},
   "source": [
    "### Sobre o Dataset:\n",
    "\n",
    "- Cada linha representa um anúncio de um determinado veículo e suas características em um markeplace automotivo."
   ]
  },
  {
   "cell_type": "markdown",
   "metadata": {},
   "source": [
    "## Tratamento dos Dados"
   ]
  },
  {
   "cell_type": "code",
   "execution_count": 1,
   "metadata": {},
   "outputs": [],
   "source": [
    "# Importando bibliotecas\n",
    "import pandas as pd\n",
    "import numpy as np\n",
    "import warnings\n",
    "warnings.filterwarnings('ignore')"
   ]
  },
  {
   "cell_type": "code",
   "execution_count": 2,
   "metadata": {},
   "outputs": [
    {
     "data": {
      "text/html": [
       "<div>\n",
       "<style scoped>\n",
       "    .dataframe tbody tr th:only-of-type {\n",
       "        vertical-align: middle;\n",
       "    }\n",
       "\n",
       "    .dataframe tbody tr th {\n",
       "        vertical-align: top;\n",
       "    }\n",
       "\n",
       "    .dataframe thead th {\n",
       "        text-align: right;\n",
       "    }\n",
       "</style>\n",
       "<table border=\"1\" class=\"dataframe\">\n",
       "  <thead>\n",
       "    <tr style=\"text-align: right;\">\n",
       "      <th></th>\n",
       "      <th>Unnamed: 0</th>\n",
       "      <th>cod_anuncio</th>\n",
       "      <th>cod_cliente</th>\n",
       "      <th>cod_tipo_pessoa</th>\n",
       "      <th>prioridade</th>\n",
       "      <th>leads</th>\n",
       "      <th>views</th>\n",
       "      <th>cliques_telefone*</th>\n",
       "      <th>cod_marca_veiculo</th>\n",
       "      <th>cod_modelo_veiculo</th>\n",
       "      <th>...</th>\n",
       "      <th>abs</th>\n",
       "      <th>desembtras</th>\n",
       "      <th>travaeletr</th>\n",
       "      <th>vidroseletr</th>\n",
       "      <th>rodasliga</th>\n",
       "      <th>sensorchuva</th>\n",
       "      <th>sensorestacion</th>\n",
       "      <th>uf</th>\n",
       "      <th>cidade</th>\n",
       "      <th>has_leads</th>\n",
       "    </tr>\n",
       "  </thead>\n",
       "  <tbody>\n",
       "    <tr>\n",
       "      <th>0</th>\n",
       "      <td>1</td>\n",
       "      <td>6</td>\n",
       "      <td>1770</td>\n",
       "      <td>1</td>\n",
       "      <td>3</td>\n",
       "      <td>1</td>\n",
       "      <td>0</td>\n",
       "      <td>4</td>\n",
       "      <td>2</td>\n",
       "      <td>704</td>\n",
       "      <td>...</td>\n",
       "      <td>S</td>\n",
       "      <td>N</td>\n",
       "      <td>S</td>\n",
       "      <td>S</td>\n",
       "      <td>N</td>\n",
       "      <td>N</td>\n",
       "      <td>N</td>\n",
       "      <td>SP</td>\n",
       "      <td>Osasco</td>\n",
       "      <td>1</td>\n",
       "    </tr>\n",
       "    <tr>\n",
       "      <th>1</th>\n",
       "      <td>2</td>\n",
       "      <td>8</td>\n",
       "      <td>709</td>\n",
       "      <td>1</td>\n",
       "      <td>3</td>\n",
       "      <td>4</td>\n",
       "      <td>0</td>\n",
       "      <td>11</td>\n",
       "      <td>30</td>\n",
       "      <td>1071</td>\n",
       "      <td>...</td>\n",
       "      <td>S</td>\n",
       "      <td>S</td>\n",
       "      <td>S</td>\n",
       "      <td>S</td>\n",
       "      <td>S</td>\n",
       "      <td>N</td>\n",
       "      <td>N</td>\n",
       "      <td>SP</td>\n",
       "      <td>SÃ£o Paulo</td>\n",
       "      <td>1</td>\n",
       "    </tr>\n",
       "    <tr>\n",
       "      <th>2</th>\n",
       "      <td>3</td>\n",
       "      <td>13</td>\n",
       "      <td>9708</td>\n",
       "      <td>1</td>\n",
       "      <td>2</td>\n",
       "      <td>12</td>\n",
       "      <td>0</td>\n",
       "      <td>14</td>\n",
       "      <td>10</td>\n",
       "      <td>2028</td>\n",
       "      <td>...</td>\n",
       "      <td>N</td>\n",
       "      <td>N</td>\n",
       "      <td>S</td>\n",
       "      <td>S</td>\n",
       "      <td>S</td>\n",
       "      <td>N</td>\n",
       "      <td>N</td>\n",
       "      <td>SP</td>\n",
       "      <td>SÃ£o Paulo</td>\n",
       "      <td>1</td>\n",
       "    </tr>\n",
       "    <tr>\n",
       "      <th>3</th>\n",
       "      <td>4</td>\n",
       "      <td>15</td>\n",
       "      <td>1363</td>\n",
       "      <td>1</td>\n",
       "      <td>2</td>\n",
       "      <td>8</td>\n",
       "      <td>0</td>\n",
       "      <td>11</td>\n",
       "      <td>12</td>\n",
       "      <td>805</td>\n",
       "      <td>...</td>\n",
       "      <td>S</td>\n",
       "      <td>S</td>\n",
       "      <td>S</td>\n",
       "      <td>S</td>\n",
       "      <td>S</td>\n",
       "      <td>N</td>\n",
       "      <td>N</td>\n",
       "      <td>SP</td>\n",
       "      <td>SÃ£o Paulo</td>\n",
       "      <td>1</td>\n",
       "    </tr>\n",
       "    <tr>\n",
       "      <th>4</th>\n",
       "      <td>5</td>\n",
       "      <td>18</td>\n",
       "      <td>1880</td>\n",
       "      <td>2</td>\n",
       "      <td>3</td>\n",
       "      <td>0</td>\n",
       "      <td>0</td>\n",
       "      <td>4</td>\n",
       "      <td>2</td>\n",
       "      <td>1042</td>\n",
       "      <td>...</td>\n",
       "      <td>N</td>\n",
       "      <td>S</td>\n",
       "      <td>S</td>\n",
       "      <td>S</td>\n",
       "      <td>S</td>\n",
       "      <td>N</td>\n",
       "      <td>N</td>\n",
       "      <td>RS</td>\n",
       "      <td>Porto Alegre</td>\n",
       "      <td>0</td>\n",
       "    </tr>\n",
       "  </tbody>\n",
       "</table>\n",
       "<p>5 rows × 45 columns</p>\n",
       "</div>"
      ],
      "text/plain": [
       "   Unnamed: 0  cod_anuncio  cod_cliente  cod_tipo_pessoa  prioridade  leads  \\\n",
       "0           1            6         1770                1           3      1   \n",
       "1           2            8          709                1           3      4   \n",
       "2           3           13         9708                1           2     12   \n",
       "3           4           15         1363                1           2      8   \n",
       "4           5           18         1880                2           3      0   \n",
       "\n",
       "   views  cliques_telefone*  cod_marca_veiculo  cod_modelo_veiculo  ...  abs  \\\n",
       "0      0                  4                  2                 704  ...    S   \n",
       "1      0                 11                 30                1071  ...    S   \n",
       "2      0                 14                 10                2028  ...    N   \n",
       "3      0                 11                 12                 805  ...    S   \n",
       "4      0                  4                  2                1042  ...    N   \n",
       "\n",
       "   desembtras  travaeletr vidroseletr  rodasliga  sensorchuva  sensorestacion  \\\n",
       "0           N           S           S          N            N               N   \n",
       "1           S           S           S          S            N               N   \n",
       "2           N           S           S          S            N               N   \n",
       "3           S           S           S          S            N               N   \n",
       "4           S           S           S          S            N               N   \n",
       "\n",
       "   uf        cidade  has_leads  \n",
       "0  SP        Osasco          1  \n",
       "1  SP    SÃ£o Paulo          1  \n",
       "2  SP    SÃ£o Paulo          1  \n",
       "3  SP    SÃ£o Paulo          1  \n",
       "4  RS  Porto Alegre          0  \n",
       "\n",
       "[5 rows x 45 columns]"
      ]
     },
     "execution_count": 2,
     "metadata": {},
     "output_type": "execute_result"
    }
   ],
   "source": [
    "# Carregando a Base de Dados\n",
    "dados = pd.read_csv('dados_leads.csv')\n",
    "dados.head()"
   ]
  },
  {
   "cell_type": "code",
   "execution_count": 3,
   "metadata": {},
   "outputs": [
    {
     "name": "stdout",
     "output_type": "stream",
     "text": [
      "(48349, 45)\n"
     ]
    }
   ],
   "source": [
    "# Verificando estrutura do dataset\n",
    "estrutura_original = dados.shape\n",
    "print(estrutura_original)"
   ]
  },
  {
   "cell_type": "code",
   "execution_count": 4,
   "metadata": {},
   "outputs": [
    {
     "data": {
      "text/plain": [
       "Index(['Unnamed: 0', 'cod_anuncio', 'cod_cliente', 'cod_tipo_pessoa',\n",
       "       'prioridade', 'leads', 'views', 'cliques_telefone*',\n",
       "       'cod_marca_veiculo', 'cod_modelo_veiculo', 'cod_versao_veiculo',\n",
       "       'ano_modelo', 'cep_2dig', 'uf_cidade', 'vlr_anuncio', 'qtd_fotos',\n",
       "       'km_veiculo', 'vlr_mercado', 'flg_unico_dono', 'flg_licenciado',\n",
       "       'flg_ipva_pago', 'flg_todas_revisoes_concessionaria',\n",
       "       'flg_todas_revisoes_agenda_veiculo', 'flg_garantia_fabrica',\n",
       "       'flg_blindado', 'flg_aceita_troca', 'flg_adaptado_pcd', 'combustivel',\n",
       "       'cambio', 'portas', 'alarme', 'airbag', 'arquente', 'bancocouro',\n",
       "       'arcondic', 'abs', 'desembtras', 'travaeletr', 'vidroseletr',\n",
       "       'rodasliga', 'sensorchuva', 'sensorestacion', 'uf', 'cidade',\n",
       "       'has_leads'],\n",
       "      dtype='object')"
      ]
     },
     "execution_count": 4,
     "metadata": {},
     "output_type": "execute_result"
    }
   ],
   "source": [
    "# Features disponíveis\n",
    "dados.columns"
   ]
  },
  {
   "cell_type": "code",
   "execution_count": 5,
   "metadata": {},
   "outputs": [
    {
     "name": "stdout",
     "output_type": "stream",
     "text": [
      "<class 'pandas.core.frame.DataFrame'>\n",
      "RangeIndex: 48349 entries, 0 to 48348\n",
      "Data columns (total 45 columns):\n",
      " #   Column                             Non-Null Count  Dtype  \n",
      "---  ------                             --------------  -----  \n",
      " 0   Unnamed: 0                         48349 non-null  int64  \n",
      " 1   cod_anuncio                        48349 non-null  int64  \n",
      " 2   cod_cliente                        48349 non-null  int64  \n",
      " 3   cod_tipo_pessoa                    48349 non-null  int64  \n",
      " 4   prioridade                         48349 non-null  int64  \n",
      " 5   leads                              48349 non-null  int64  \n",
      " 6   views                              48349 non-null  int64  \n",
      " 7   cliques_telefone*                  48349 non-null  int64  \n",
      " 8   cod_marca_veiculo                  48349 non-null  int64  \n",
      " 9   cod_modelo_veiculo                 48349 non-null  int64  \n",
      " 10  cod_versao_veiculo                 48349 non-null  int64  \n",
      " 11  ano_modelo                         48349 non-null  int64  \n",
      " 12  cep_2dig                           48349 non-null  int64  \n",
      " 13  uf_cidade                          48349 non-null  object \n",
      " 14  vlr_anuncio                        48349 non-null  float64\n",
      " 15  qtd_fotos                          48349 non-null  int64  \n",
      " 16  km_veiculo                         48349 non-null  int64  \n",
      " 17  vlr_mercado                        48349 non-null  float64\n",
      " 18  flg_unico_dono                     48349 non-null  int64  \n",
      " 19  flg_licenciado                     48349 non-null  int64  \n",
      " 20  flg_ipva_pago                      48038 non-null  float64\n",
      " 21  flg_todas_revisoes_concessionaria  48038 non-null  float64\n",
      " 22  flg_todas_revisoes_agenda_veiculo  48349 non-null  int64  \n",
      " 23  flg_garantia_fabrica               48038 non-null  float64\n",
      " 24  flg_blindado                       48349 non-null  int64  \n",
      " 25  flg_aceita_troca                   48349 non-null  int64  \n",
      " 26  flg_adaptado_pcd                   48038 non-null  float64\n",
      " 27  combustivel                        48349 non-null  object \n",
      " 28  cambio                             48349 non-null  object \n",
      " 29  portas                             48349 non-null  float64\n",
      " 30  alarme                             48349 non-null  object \n",
      " 31  airbag                             48342 non-null  object \n",
      " 32  arquente                           48349 non-null  object \n",
      " 33  bancocouro                         48349 non-null  object \n",
      " 34  arcondic                           48349 non-null  object \n",
      " 35  abs                                48349 non-null  object \n",
      " 36  desembtras                         48349 non-null  object \n",
      " 37  travaeletr                         48349 non-null  object \n",
      " 38  vidroseletr                        48349 non-null  object \n",
      " 39  rodasliga                          48349 non-null  object \n",
      " 40  sensorchuva                        48349 non-null  object \n",
      " 41  sensorestacion                     48349 non-null  object \n",
      " 42  uf                                 48345 non-null  object \n",
      " 43  cidade                             48349 non-null  object \n",
      " 44  has_leads                          48349 non-null  int64  \n",
      "dtypes: float64(7), int64(21), object(17)\n",
      "memory usage: 16.6+ MB\n"
     ]
    }
   ],
   "source": [
    "# Verificando tipagem dos dados\n",
    "dados.info()"
   ]
  },
  {
   "cell_type": "code",
   "execution_count": 6,
   "metadata": {},
   "outputs": [
    {
     "data": {
      "text/plain": [
       "Unnamed: 0                             0\n",
       "cod_anuncio                            0\n",
       "cod_cliente                            0\n",
       "cod_tipo_pessoa                        0\n",
       "prioridade                             0\n",
       "leads                                  0\n",
       "views                                  0\n",
       "cliques_telefone*                      0\n",
       "cod_marca_veiculo                      0\n",
       "cod_modelo_veiculo                     0\n",
       "cod_versao_veiculo                     0\n",
       "ano_modelo                             0\n",
       "cep_2dig                               0\n",
       "uf_cidade                              0\n",
       "vlr_anuncio                            0\n",
       "qtd_fotos                              0\n",
       "km_veiculo                             0\n",
       "vlr_mercado                            0\n",
       "flg_unico_dono                         0\n",
       "flg_licenciado                         0\n",
       "flg_ipva_pago                        311\n",
       "flg_todas_revisoes_concessionaria    311\n",
       "flg_todas_revisoes_agenda_veiculo      0\n",
       "flg_garantia_fabrica                 311\n",
       "flg_blindado                           0\n",
       "flg_aceita_troca                       0\n",
       "flg_adaptado_pcd                     311\n",
       "combustivel                            0\n",
       "cambio                                 0\n",
       "portas                                 0\n",
       "alarme                                 0\n",
       "airbag                                 7\n",
       "arquente                               0\n",
       "bancocouro                             0\n",
       "arcondic                               0\n",
       "abs                                    0\n",
       "desembtras                             0\n",
       "travaeletr                             0\n",
       "vidroseletr                            0\n",
       "rodasliga                              0\n",
       "sensorchuva                            0\n",
       "sensorestacion                         0\n",
       "uf                                     4\n",
       "cidade                                 0\n",
       "has_leads                              0\n",
       "dtype: int64"
      ]
     },
     "execution_count": 6,
     "metadata": {},
     "output_type": "execute_result"
    }
   ],
   "source": [
    "# Missing values\n",
    "dados.isnull().sum()"
   ]
  },
  {
   "cell_type": "markdown",
   "metadata": {},
   "source": [
    "Ponderações: \n",
    "1. As colunas `flg_todas_revisoes_concessionaria`, `flg_ipva_pago`, `flg_garantia_fabrica`, `flg_adaptado_pcd` e demais são variáveis categóricas (binárias) e devem ser transformadas. Iremos tratá-las de acordo para evitar problemas com a contagem de nulos.\n",
    "\n",
    "2. A coluna `vlr_mercado`  possui um número considerável de valores ausentes em relação ao total de observações no dataset.\n",
    "\n",
    "3. Para não perdemos estas informações, iremos substituir estes valores pela média ou pela mediana, e para tal, precisamos identificar a existência de outliers. Caso sim, optaremos por substituir os NA's pela mediana."
   ]
  },
  {
   "cell_type": "code",
   "execution_count": 7,
   "metadata": {},
   "outputs": [
    {
     "data": {
      "text/plain": [
       "flg_todas_revisoes_concessionaria    0\n",
       "flg_ipva_pago                        0\n",
       "flg_garantia_fabrica                 0\n",
       "flg_adaptado_pcd                     0\n",
       "airbag                               0\n",
       "combustivel                          0\n",
       "cambio                               0\n",
       "portas                               0\n",
       "alarme                               0\n",
       "arquente                             0\n",
       "bancocouro                           0\n",
       "arcondic                             0\n",
       "abs                                  0\n",
       "desembtras                           0\n",
       "travaeletr                           0\n",
       "vidroseletr                          0\n",
       "rodasliga                            0\n",
       "sensorchuva                          0\n",
       "sensorestacion                       0\n",
       "dtype: int64"
      ]
     },
     "execution_count": 7,
     "metadata": {},
     "output_type": "execute_result"
    }
   ],
   "source": [
    "colunas_tratamento = ['flg_todas_revisoes_concessionaria','flg_ipva_pago','flg_garantia_fabrica','flg_adaptado_pcd','airbag',\\\n",
    "'combustivel', 'cambio', 'portas','alarme','arquente','bancocouro','arcondic','abs','desembtras','travaeletr','vidroseletr','rodasliga','sensorchuva','sensorestacion'] # criando filtro\n",
    "dados[colunas_tratamento] = dados[colunas_tratamento].astype(str) # aplicando transformação\n",
    "dados[colunas_tratamento].isnull().sum() # verificando NA's"
   ]
  },
  {
   "cell_type": "code",
   "execution_count": 8,
   "metadata": {},
   "outputs": [
    {
     "data": {
      "image/png": "[encoded data removed]",
      "text/plain": [
       "<Figure size 1080x648 with 1 Axes>"
      ]
     },
     "metadata": {
      "needs_background": "light"
     },
     "output_type": "display_data"
    }
   ],
   "source": [
    "import seaborn as sns\n",
    "import matplotlib.pyplot as plt\n",
    "\n",
    "# Criando boxplot para verificar outliers da feature 'vlr_mercado'\n",
    "boxplot_vlr_mercado = sns.boxplot('vlr_mercado', data=dados)\n",
    "boxplot_vlr_mercado.figure.set_size_inches(15,9)\n",
    "plt.xlabel(' ')\n",
    "plt.xticks(rotation=45)\n",
    "plt.ticklabel_format(style='plain', axis='x')\n",
    "plt.title('Verificando Distribuições e Outliers para \"Valor de Mercado\"', fontsize = 18, loc='left', pad =20)\n",
    "sns.despine (left = True) "
   ]
  },
  {
   "cell_type": "code",
   "execution_count": 9,
   "metadata": {},
   "outputs": [
    {
     "name": "stdout",
     "output_type": "stream",
     "text": [
      "O valor de mercado médio dos anúncios é 51308.07R$\n",
      "O valor de mercado mediano dos anúncios é 40668.75R$\n",
      "O valor de mercado possui desvio padrão de 39151.51R$\n",
      "O coeficiente de variação é: 76.31 %\n"
     ]
    }
   ],
   "source": [
    "# Média, Mediana, Desvio padrão e Coeficiente de Variação para 'vlr_mercado'\n",
    "vlr_mercado_media = dados['vlr_mercado'].mean()\n",
    "vlr_mercado_mediana = dados['vlr_mercado'].median()\n",
    "vlr_mercado_desvPad = dados['vlr_mercado'].std()\n",
    "print(f'O valor de mercado médio dos anúncios é {vlr_mercado_media:.2f}R$')\n",
    "print(f'O valor de mercado mediano dos anúncios é {vlr_mercado_mediana:.2f}R$')\n",
    "print(f'O valor de mercado possui desvio padrão de {vlr_mercado_desvPad:.2f}R$')\n",
    "print(f'O coeficiente de variação é:',round((vlr_mercado_desvPad/vlr_mercado_media)*100,2),'%')\n"
   ]
  },
  {
   "cell_type": "markdown",
   "metadata": {},
   "source": [
    "Pelo gráfico e os valores acima, possuimos alguns outliers. É possível verificar diferenças significativas entre a média e mediana, e o desvio padrão também é alto quando comparado com a média. Portanto, iremos substituir os valores ausentes da coluna `vlr_mercado` pela Mediana."
   ]
  },
  {
   "cell_type": "code",
   "execution_count": 10,
   "metadata": {},
   "outputs": [
    {
     "data": {
      "text/plain": [
       "0"
      ]
     },
     "execution_count": 10,
     "metadata": {},
     "output_type": "execute_result"
    }
   ],
   "source": [
    "dados['vlr_mercado'] = dados['vlr_mercado'].fillna(vlr_mercado_mediana)\n",
    "\n",
    "dados['vlr_mercado'].isnull().sum() # verificando resultado"
   ]
  },
  {
   "cell_type": "code",
   "execution_count": 11,
   "metadata": {},
   "outputs": [
    {
     "data": {
      "text/plain": [
       "Unnamed: 0                           0\n",
       "cod_anuncio                          0\n",
       "cod_cliente                          0\n",
       "cod_tipo_pessoa                      0\n",
       "prioridade                           0\n",
       "leads                                0\n",
       "views                                0\n",
       "cliques_telefone*                    0\n",
       "cod_marca_veiculo                    0\n",
       "cod_modelo_veiculo                   0\n",
       "cod_versao_veiculo                   0\n",
       "ano_modelo                           0\n",
       "cep_2dig                             0\n",
       "uf_cidade                            0\n",
       "vlr_anuncio                          0\n",
       "qtd_fotos                            0\n",
       "km_veiculo                           0\n",
       "vlr_mercado                          0\n",
       "flg_unico_dono                       0\n",
       "flg_licenciado                       0\n",
       "flg_ipva_pago                        0\n",
       "flg_todas_revisoes_concessionaria    0\n",
       "flg_todas_revisoes_agenda_veiculo    0\n",
       "flg_garantia_fabrica                 0\n",
       "flg_blindado                         0\n",
       "flg_aceita_troca                     0\n",
       "flg_adaptado_pcd                     0\n",
       "combustivel                          0\n",
       "cambio                               0\n",
       "portas                               0\n",
       "alarme                               0\n",
       "airbag                               0\n",
       "arquente                             0\n",
       "bancocouro                           0\n",
       "arcondic                             0\n",
       "abs                                  0\n",
       "desembtras                           0\n",
       "travaeletr                           0\n",
       "vidroseletr                          0\n",
       "rodasliga                            0\n",
       "sensorchuva                          0\n",
       "sensorestacion                       0\n",
       "uf                                   4\n",
       "cidade                               0\n",
       "has_leads                            0\n",
       "dtype: int64"
      ]
     },
     "execution_count": 11,
     "metadata": {},
     "output_type": "execute_result"
    }
   ],
   "source": [
    "# Verificando NA's após tratamentos\n",
    "dados.isnull().sum()"
   ]
  },
  {
   "cell_type": "code",
   "execution_count": 12,
   "metadata": {},
   "outputs": [],
   "source": [
    "# Retirando valor NaN de colunas categóricas\n",
    "dados.query('abs == \"nan\"')\n",
    "dados.drop(0, inplace=True)"
   ]
  },
  {
   "cell_type": "code",
   "execution_count": 13,
   "metadata": {},
   "outputs": [],
   "source": [
    "# Por fim, excluiremos quaisquer possíveis linhas onde todas suas features apresentem valores NA\n",
    "dados.dropna(how='all',inplace=True)"
   ]
  },
  {
   "cell_type": "markdown",
   "metadata": {},
   "source": [
    "Para a coluna `uf_cidade` aplicaremos uma separação de strings, criando uma coluna apenas com os Estados e outra apenas com as cidades"
   ]
  },
  {
   "cell_type": "code",
   "execution_count": 14,
   "metadata": {},
   "outputs": [],
   "source": [
    "dados[['uf', 'cidade']] = dados['uf_cidade'].str.split('_', expand=True)"
   ]
  },
  {
   "cell_type": "code",
   "execution_count": 15,
   "metadata": {},
   "outputs": [
    {
     "data": {
      "text/plain": [
       "(48348, 45)"
      ]
     },
     "execution_count": 15,
     "metadata": {},
     "output_type": "execute_result"
    }
   ],
   "source": [
    "# Após tratamento, preservamos a quantidade de observações originais\n",
    "dados.shape"
   ]
  },
  {
   "cell_type": "markdown",
   "metadata": {},
   "source": [
    "### Análise descritiva das features quantitativas\n"
   ]
  },
  {
   "cell_type": "code",
   "execution_count": 16,
   "metadata": {},
   "outputs": [],
   "source": [
    "# Retirando notação científica da apresentação dos dados\n",
    "pd.set_option('float_format', '{:.3f}'.format)"
   ]
  },
  {
   "cell_type": "code",
   "execution_count": 17,
   "metadata": {},
   "outputs": [
    {
     "data": {
      "text/html": [
       "<div>\n",
       "<style scoped>\n",
       "    .dataframe tbody tr th:only-of-type {\n",
       "        vertical-align: middle;\n",
       "    }\n",
       "\n",
       "    .dataframe tbody tr th {\n",
       "        vertical-align: top;\n",
       "    }\n",
       "\n",
       "    .dataframe thead th {\n",
       "        text-align: right;\n",
       "    }\n",
       "</style>\n",
       "<table border=\"1\" class=\"dataframe\">\n",
       "  <thead>\n",
       "    <tr style=\"text-align: right;\">\n",
       "      <th></th>\n",
       "      <th>leads</th>\n",
       "      <th>views</th>\n",
       "      <th>vlr_anuncio</th>\n",
       "      <th>vlr_mercado</th>\n",
       "      <th>km_veiculo</th>\n",
       "      <th>ano_modelo</th>\n",
       "      <th>cliques_telefone*</th>\n",
       "    </tr>\n",
       "  </thead>\n",
       "  <tbody>\n",
       "    <tr>\n",
       "      <th>count</th>\n",
       "      <td>48348.000</td>\n",
       "      <td>48348.000</td>\n",
       "      <td>48348.000</td>\n",
       "      <td>48348.000</td>\n",
       "      <td>48348.000</td>\n",
       "      <td>48348.000</td>\n",
       "      <td>48348.000</td>\n",
       "    </tr>\n",
       "    <tr>\n",
       "      <th>mean</th>\n",
       "      <td>4.431</td>\n",
       "      <td>446.829</td>\n",
       "      <td>109734.109</td>\n",
       "      <td>51308.287</td>\n",
       "      <td>63222.248</td>\n",
       "      <td>2013.217</td>\n",
       "      <td>7.480</td>\n",
       "    </tr>\n",
       "    <tr>\n",
       "      <th>std</th>\n",
       "      <td>11.992</td>\n",
       "      <td>1107.691</td>\n",
       "      <td>2875753.008</td>\n",
       "      <td>39151.885</td>\n",
       "      <td>52142.320</td>\n",
       "      <td>4.743</td>\n",
       "      <td>11.477</td>\n",
       "    </tr>\n",
       "    <tr>\n",
       "      <th>min</th>\n",
       "      <td>0.000</td>\n",
       "      <td>0.000</td>\n",
       "      <td>3500.000</td>\n",
       "      <td>6292.844</td>\n",
       "      <td>0.000</td>\n",
       "      <td>1951.000</td>\n",
       "      <td>0.000</td>\n",
       "    </tr>\n",
       "    <tr>\n",
       "      <th>25%</th>\n",
       "      <td>1.000</td>\n",
       "      <td>76.000</td>\n",
       "      <td>30800.000</td>\n",
       "      <td>33042.439</td>\n",
       "      <td>29000.000</td>\n",
       "      <td>2011.000</td>\n",
       "      <td>2.000</td>\n",
       "    </tr>\n",
       "    <tr>\n",
       "      <th>50%</th>\n",
       "      <td>1.000</td>\n",
       "      <td>196.000</td>\n",
       "      <td>41490.000</td>\n",
       "      <td>40668.754</td>\n",
       "      <td>57000.000</td>\n",
       "      <td>2014.000</td>\n",
       "      <td>4.000</td>\n",
       "    </tr>\n",
       "    <tr>\n",
       "      <th>75%</th>\n",
       "      <td>4.000</td>\n",
       "      <td>452.000</td>\n",
       "      <td>64900.000</td>\n",
       "      <td>57328.405</td>\n",
       "      <td>89000.000</td>\n",
       "      <td>2016.000</td>\n",
       "      <td>9.000</td>\n",
       "    </tr>\n",
       "    <tr>\n",
       "      <th>max</th>\n",
       "      <td>364.000</td>\n",
       "      <td>93608.000</td>\n",
       "      <td>405000000.000</td>\n",
       "      <td>1111215.639</td>\n",
       "      <td>990000.000</td>\n",
       "      <td>2019.000</td>\n",
       "      <td>457.000</td>\n",
       "    </tr>\n",
       "  </tbody>\n",
       "</table>\n",
       "</div>"
      ],
      "text/plain": [
       "          leads     views   vlr_anuncio  vlr_mercado  km_veiculo  ano_modelo  \\\n",
       "count 48348.000 48348.000     48348.000    48348.000   48348.000   48348.000   \n",
       "mean      4.431   446.829    109734.109    51308.287   63222.248    2013.217   \n",
       "std      11.992  1107.691   2875753.008    39151.885   52142.320       4.743   \n",
       "min       0.000     0.000      3500.000     6292.844       0.000    1951.000   \n",
       "25%       1.000    76.000     30800.000    33042.439   29000.000    2011.000   \n",
       "50%       1.000   196.000     41490.000    40668.754   57000.000    2014.000   \n",
       "75%       4.000   452.000     64900.000    57328.405   89000.000    2016.000   \n",
       "max     364.000 93608.000 405000000.000  1111215.639  990000.000    2019.000   \n",
       "\n",
       "       cliques_telefone*  \n",
       "count          48348.000  \n",
       "mean               7.480  \n",
       "std               11.477  \n",
       "min                0.000  \n",
       "25%                2.000  \n",
       "50%                4.000  \n",
       "75%                9.000  \n",
       "max              457.000  "
      ]
     },
     "execution_count": 17,
     "metadata": {},
     "output_type": "execute_result"
    }
   ],
   "source": [
    "# Sumário\n",
    "\n",
    "colunas_describe = ['leads','views','vlr_anuncio','vlr_mercado', 'km_veiculo', 'ano_modelo', 'cliques_telefone*'] # criando filtro p/ features\n",
    "dados[colunas_describe].describe()"
   ]
  },
  {
   "cell_type": "code",
   "execution_count": 18,
   "metadata": {},
   "outputs": [
    {
     "name": "stdout",
     "output_type": "stream",
     "text": [
      "A mediana do valor dos anúncios é R$41490.00, enquanto que a mediana dos valores praticados no mercado é R$40668.75\n"
     ]
    }
   ],
   "source": [
    "# Comparado medianas entre valor anunciado e valor de mercado\n",
    "anuncio_mediana = dados['vlr_anuncio'].median()\n",
    "mercado_mediana = dados['vlr_mercado'].median()\n",
    "print(f'A mediana do valor dos anúncios é R${anuncio_mediana:.2f}, enquanto que a mediana dos valores praticados no mercado é R${mercado_mediana:.2f}')"
   ]
  },
  {
   "cell_type": "code",
   "execution_count": 19,
   "metadata": {},
   "outputs": [
    {
     "data": {
      "text/html": [
       "<div>\n",
       "<style scoped>\n",
       "    .dataframe tbody tr th:only-of-type {\n",
       "        vertical-align: middle;\n",
       "    }\n",
       "\n",
       "    .dataframe tbody tr th {\n",
       "        vertical-align: top;\n",
       "    }\n",
       "\n",
       "    .dataframe thead th {\n",
       "        text-align: right;\n",
       "    }\n",
       "</style>\n",
       "<table border=\"1\" class=\"dataframe\">\n",
       "  <thead>\n",
       "    <tr style=\"text-align: right;\">\n",
       "      <th></th>\n",
       "      <th>leads</th>\n",
       "      <th>views</th>\n",
       "      <th>vlr_anuncio</th>\n",
       "      <th>vlr_mercado</th>\n",
       "      <th>km_veiculo</th>\n",
       "      <th>ano_modelo</th>\n",
       "      <th>cliques_telefone*</th>\n",
       "      <th>ano_modelo</th>\n",
       "      <th>uf</th>\n",
       "      <th>combustivel</th>\n",
       "      <th>arcondic</th>\n",
       "      <th>travaeletr</th>\n",
       "      <th>vidroseletr</th>\n",
       "      <th>airbag</th>\n",
       "    </tr>\n",
       "  </thead>\n",
       "  <tbody>\n",
       "    <tr>\n",
       "      <th>8438</th>\n",
       "      <td>364</td>\n",
       "      <td>48</td>\n",
       "      <td>81000.000</td>\n",
       "      <td>95222.530</td>\n",
       "      <td>20000</td>\n",
       "      <td>2017</td>\n",
       "      <td>332</td>\n",
       "      <td>2017</td>\n",
       "      <td>SP</td>\n",
       "      <td>gasolina e alcool</td>\n",
       "      <td>S</td>\n",
       "      <td>S</td>\n",
       "      <td>S</td>\n",
       "      <td>S</td>\n",
       "    </tr>\n",
       "    <tr>\n",
       "      <th>26021</th>\n",
       "      <td>364</td>\n",
       "      <td>220</td>\n",
       "      <td>12900.000</td>\n",
       "      <td>12821.359</td>\n",
       "      <td>88888</td>\n",
       "      <td>2004</td>\n",
       "      <td>159</td>\n",
       "      <td>2004</td>\n",
       "      <td>RJ</td>\n",
       "      <td>gasolina e alcool</td>\n",
       "      <td>S</td>\n",
       "      <td>S</td>\n",
       "      <td>S</td>\n",
       "      <td>N</td>\n",
       "    </tr>\n",
       "  </tbody>\n",
       "</table>\n",
       "</div>"
      ],
      "text/plain": [
       "       leads  views  vlr_anuncio  vlr_mercado  km_veiculo  ano_modelo  \\\n",
       "8438     364     48    81000.000    95222.530       20000        2017   \n",
       "26021    364    220    12900.000    12821.359       88888        2004   \n",
       "\n",
       "       cliques_telefone*  ano_modelo  uf        combustivel arcondic  \\\n",
       "8438                 332        2017  SP  gasolina e alcool        S   \n",
       "26021                159        2004  RJ  gasolina e alcool        S   \n",
       "\n",
       "      travaeletr vidroseletr airbag  \n",
       "8438           S           S      S  \n",
       "26021          S           S      N  "
      ]
     },
     "execution_count": 19,
     "metadata": {},
     "output_type": "execute_result"
    }
   ],
   "source": [
    "# Verificando características dos anúncios com maiores leads\n",
    "max_leads = dados.query('leads == 364')\n",
    "max_leads[colunas_describe+['ano_modelo','uf','combustivel','arcondic','travaeletr','vidroseletr','airbag']]"
   ]
  },
  {
   "cell_type": "code",
   "execution_count": 20,
   "metadata": {},
   "outputs": [
    {
     "data": {
      "text/html": [
       "<div>\n",
       "<style scoped>\n",
       "    .dataframe tbody tr th:only-of-type {\n",
       "        vertical-align: middle;\n",
       "    }\n",
       "\n",
       "    .dataframe tbody tr th {\n",
       "        vertical-align: top;\n",
       "    }\n",
       "\n",
       "    .dataframe thead th {\n",
       "        text-align: right;\n",
       "    }\n",
       "</style>\n",
       "<table border=\"1\" class=\"dataframe\">\n",
       "  <thead>\n",
       "    <tr style=\"text-align: right;\">\n",
       "      <th></th>\n",
       "      <th>leads</th>\n",
       "      <th>views</th>\n",
       "      <th>vlr_anuncio</th>\n",
       "      <th>vlr_mercado</th>\n",
       "      <th>km_veiculo</th>\n",
       "      <th>ano_modelo</th>\n",
       "      <th>cliques_telefone*</th>\n",
       "      <th>ano_modelo</th>\n",
       "      <th>uf</th>\n",
       "      <th>combustivel</th>\n",
       "      <th>arcondic</th>\n",
       "      <th>travaeletr</th>\n",
       "      <th>vidroseletr</th>\n",
       "      <th>airbag</th>\n",
       "    </tr>\n",
       "  </thead>\n",
       "  <tbody>\n",
       "  </tbody>\n",
       "</table>\n",
       "</div>"
      ],
      "text/plain": [
       "Empty DataFrame\n",
       "Columns: [leads, views, vlr_anuncio, vlr_mercado, km_veiculo, ano_modelo, cliques_telefone*, ano_modelo, uf, combustivel, arcondic, travaeletr, vidroseletr, airbag]\n",
       "Index: []"
      ]
     },
     "execution_count": 20,
     "metadata": {},
     "output_type": "execute_result"
    }
   ],
   "source": [
    "# Verificando anúncios com vlr_anuncio zerado\n",
    "min_leads = dados.query('vlr_anuncio == 0')\n",
    "min_leads[colunas_describe+['ano_modelo','uf','combustivel','arcondic','travaeletr','vidroseletr','airbag']]"
   ]
  },
  {
   "cell_type": "code",
   "execution_count": 21,
   "metadata": {},
   "outputs": [],
   "source": [
    "# Retirando registro\n",
    "dados.drop(44509, inplace=True)"
   ]
  },
  {
   "cell_type": "code",
   "execution_count": 22,
   "metadata": {},
   "outputs": [
    {
     "data": {
      "text/html": [
       "<div>\n",
       "<style scoped>\n",
       "    .dataframe tbody tr th:only-of-type {\n",
       "        vertical-align: middle;\n",
       "    }\n",
       "\n",
       "    .dataframe tbody tr th {\n",
       "        vertical-align: top;\n",
       "    }\n",
       "\n",
       "    .dataframe thead th {\n",
       "        text-align: right;\n",
       "    }\n",
       "</style>\n",
       "<table border=\"1\" class=\"dataframe\">\n",
       "  <thead>\n",
       "    <tr style=\"text-align: right;\">\n",
       "      <th></th>\n",
       "      <th>Unnamed: 0</th>\n",
       "      <th>cod_anuncio</th>\n",
       "      <th>cod_cliente</th>\n",
       "      <th>cod_tipo_pessoa</th>\n",
       "      <th>prioridade</th>\n",
       "      <th>leads</th>\n",
       "      <th>views</th>\n",
       "      <th>cliques_telefone*</th>\n",
       "      <th>cod_marca_veiculo</th>\n",
       "      <th>cod_modelo_veiculo</th>\n",
       "      <th>...</th>\n",
       "      <th>abs</th>\n",
       "      <th>desembtras</th>\n",
       "      <th>travaeletr</th>\n",
       "      <th>vidroseletr</th>\n",
       "      <th>rodasliga</th>\n",
       "      <th>sensorchuva</th>\n",
       "      <th>sensorestacion</th>\n",
       "      <th>uf</th>\n",
       "      <th>cidade</th>\n",
       "      <th>has_leads</th>\n",
       "    </tr>\n",
       "  </thead>\n",
       "  <tbody>\n",
       "  </tbody>\n",
       "</table>\n",
       "<p>0 rows × 45 columns</p>\n",
       "</div>"
      ],
      "text/plain": [
       "Empty DataFrame\n",
       "Columns: [Unnamed: 0, cod_anuncio, cod_cliente, cod_tipo_pessoa, prioridade, leads, views, cliques_telefone*, cod_marca_veiculo, cod_modelo_veiculo, cod_versao_veiculo, ano_modelo, cep_2dig, uf_cidade, vlr_anuncio, qtd_fotos, km_veiculo, vlr_mercado, flg_unico_dono, flg_licenciado, flg_ipva_pago, flg_todas_revisoes_concessionaria, flg_todas_revisoes_agenda_veiculo, flg_garantia_fabrica, flg_blindado, flg_aceita_troca, flg_adaptado_pcd, combustivel, cambio, portas, alarme, airbag, arquente, bancocouro, arcondic, abs, desembtras, travaeletr, vidroseletr, rodasliga, sensorchuva, sensorestacion, uf, cidade, has_leads]\n",
       "Index: []\n",
       "\n",
       "[0 rows x 45 columns]"
      ]
     },
     "execution_count": 22,
     "metadata": {},
     "output_type": "execute_result"
    }
   ],
   "source": [
    "# Verificando anúncio com ano_modelo negativo\n",
    "dados.query('ano_modelo < 0')"
   ]
  },
  {
   "cell_type": "code",
   "execution_count": 23,
   "metadata": {},
   "outputs": [],
   "source": [
    "# Retirando registros incompativeis\n",
    "dados = dados.query('ano_modelo > 0')"
   ]
  },
  {
   "cell_type": "code",
   "execution_count": 24,
   "metadata": {},
   "outputs": [
    {
     "data": {
      "image/png": "[encoded data removed]",
      "text/plain": [
       "<Figure size 1080x648 with 1 Axes>"
      ]
     },
     "metadata": {
      "needs_background": "light"
     },
     "output_type": "display_data"
    }
   ],
   "source": [
    "# verificando ouliers e valores irreais de kilometragem\n",
    "box_km = sns.boxplot('km_veiculo', data=dados)\n",
    "box_km.figure.set_size_inches(15,9)\n",
    "plt.xlabel(' ')\n",
    "plt.xticks(rotation=45)\n",
    "plt.ticklabel_format(style='plain', axis='x')\n",
    "plt.title('Verificando Distribuições e Outliers para \"Kilômetros Rodados\"', fontsize = 18, loc='left', pad =20)\n",
    "sns.despine (left = True) "
   ]
  },
  {
   "cell_type": "markdown",
   "metadata": {},
   "source": [
    "O dataset persite com valores muito discrepantes em relação aos outliers. Entendendo que não há uma regra de bolso para os problemas de outliers, iremos preservar o máximo de informações possíveis sobre os anúncios. Logo, optaremos por remover outliers em que aparentemente houve erros na ingestão da base e iremos utilizar o critério arbitário de remover valores acima de 1 milhão de km rodados."
   ]
  },
  {
   "cell_type": "code",
   "execution_count": 25,
   "metadata": {},
   "outputs": [],
   "source": [
    "dados = dados.query('km_veiculo < 1000000')"
   ]
  },
  {
   "cell_type": "code",
   "execution_count": 26,
   "metadata": {},
   "outputs": [
    {
     "data": {
      "image/png": "[encoded data removed]",
      "text/plain": [
       "<Figure size 1080x648 with 1 Axes>"
      ]
     },
     "metadata": {
      "needs_background": "light"
     },
     "output_type": "display_data"
    }
   ],
   "source": [
    "# Verificando resultado\n",
    "box_km_tratado = sns.boxplot('km_veiculo', data=dados)\n",
    "box_km_tratado.figure.set_size_inches(15,9)\n",
    "plt.xlabel(' ')\n",
    "plt.xticks(rotation=45)\n",
    "plt.ticklabel_format(style='plain', axis='x')\n",
    "plt.title('Verificando Distribuições e Outliers para \"Kilometros Rodados\"', fontsize = 18, loc='left', pad =20)\n",
    "sns.despine (left = True) "
   ]
  },
  {
   "cell_type": "code",
   "execution_count": 27,
   "metadata": {},
   "outputs": [
    {
     "data": {
      "text/plain": [
       "8135     990000\n",
       "606      980000\n",
       "27692    950000\n",
       "26660    930000\n",
       "17334    900000\n",
       "44585    900000\n",
       "25307    899999\n",
       "21994    888888\n",
       "22863    888888\n",
       "25852    888888\n",
       "37981    888888\n",
       "39548    888888\n",
       "46313    880000\n",
       "25776    861233\n",
       "26915    852006\n",
       "18477    850000\n",
       "10310    817000\n",
       "12903    810000\n",
       "44750    800000\n",
       "45899    799999\n",
       "27254    777777\n",
       "19060    730000\n",
       "16564    720000\n",
       "28400    701700\n",
       "39769    700003\n",
       "16958    700000\n",
       "35375    690000\n",
       "36966    666666\n",
       "8399     661768\n",
       "8478     650000\n",
       "36479    609179\n",
       "8947     607190\n",
       "6832     600000\n",
       "32040    599000\n",
       "14192    583000\n",
       "48340    578996\n",
       "12493    562163\n",
       "5150     555555\n",
       "20500    555555\n",
       "22309    555555\n",
       "35326    555555\n",
       "37518    555555\n",
       "38244    555555\n",
       "46853    555555\n",
       "47893    555555\n",
       "10524    550000\n",
       "2002     540000\n",
       "22086    520000\n",
       "29676    500000\n",
       "12684    496322\n",
       "Name: km_veiculo, dtype: int64"
      ]
     },
     "execution_count": 27,
     "metadata": {},
     "output_type": "execute_result"
    }
   ],
   "source": [
    "# Explorando maiores valores dos outliers\n",
    "dados['km_veiculo'].nlargest(50)"
   ]
  },
  {
   "cell_type": "markdown",
   "metadata": {},
   "source": [
    "Para melhor refino, iremos excluir os dados com km > 999999, pois a quantidade de valores repetidos podem indicar algum problema de digitação ou erro de ingestão nos dados. Por enquato, iremos preservar os dados que podem ser considerados outliers naturais e veremos como os modelos se adequam a sua presença."
   ]
  },
  {
   "cell_type": "code",
   "execution_count": 28,
   "metadata": {},
   "outputs": [],
   "source": [
    "# Filtrando\n",
    "dados = dados.query('km_veiculo <  999999')"
   ]
  },
  {
   "cell_type": "code",
   "execution_count": 29,
   "metadata": {},
   "outputs": [
    {
     "data": {
      "text/plain": [
       "8135     990000\n",
       "606      980000\n",
       "27692    950000\n",
       "26660    930000\n",
       "17334    900000\n",
       "44585    900000\n",
       "25307    899999\n",
       "21994    888888\n",
       "22863    888888\n",
       "25852    888888\n",
       "37981    888888\n",
       "39548    888888\n",
       "46313    880000\n",
       "25776    861233\n",
       "26915    852006\n",
       "18477    850000\n",
       "10310    817000\n",
       "12903    810000\n",
       "44750    800000\n",
       "45899    799999\n",
       "Name: km_veiculo, dtype: int64"
      ]
     },
     "execution_count": 29,
     "metadata": {},
     "output_type": "execute_result"
    }
   ],
   "source": [
    "# Conferindo resultado\n",
    "dados['km_veiculo'].nlargest(20)"
   ]
  },
  {
   "cell_type": "code",
   "execution_count": 30,
   "metadata": {},
   "outputs": [
    {
     "data": {
      "text/html": [
       "<div>\n",
       "<style scoped>\n",
       "    .dataframe tbody tr th:only-of-type {\n",
       "        vertical-align: middle;\n",
       "    }\n",
       "\n",
       "    .dataframe tbody tr th {\n",
       "        vertical-align: top;\n",
       "    }\n",
       "\n",
       "    .dataframe thead th {\n",
       "        text-align: right;\n",
       "    }\n",
       "</style>\n",
       "<table border=\"1\" class=\"dataframe\">\n",
       "  <thead>\n",
       "    <tr style=\"text-align: right;\">\n",
       "      <th></th>\n",
       "      <th>leads</th>\n",
       "      <th>views</th>\n",
       "      <th>vlr_anuncio</th>\n",
       "      <th>vlr_mercado</th>\n",
       "      <th>km_veiculo</th>\n",
       "      <th>ano_modelo</th>\n",
       "      <th>cliques_telefone*</th>\n",
       "    </tr>\n",
       "  </thead>\n",
       "  <tbody>\n",
       "    <tr>\n",
       "      <th>count</th>\n",
       "      <td>48347.000</td>\n",
       "      <td>48347.000</td>\n",
       "      <td>48347.000</td>\n",
       "      <td>48347.000</td>\n",
       "      <td>48347.000</td>\n",
       "      <td>48347.000</td>\n",
       "      <td>48347.000</td>\n",
       "    </tr>\n",
       "    <tr>\n",
       "      <th>mean</th>\n",
       "      <td>4.430</td>\n",
       "      <td>446.836</td>\n",
       "      <td>109735.599</td>\n",
       "      <td>51308.399</td>\n",
       "      <td>63222.811</td>\n",
       "      <td>2013.217</td>\n",
       "      <td>7.479</td>\n",
       "    </tr>\n",
       "    <tr>\n",
       "      <th>std</th>\n",
       "      <td>11.991</td>\n",
       "      <td>1107.701</td>\n",
       "      <td>2875782.730</td>\n",
       "      <td>39152.282</td>\n",
       "      <td>52142.713</td>\n",
       "      <td>4.743</td>\n",
       "      <td>11.475</td>\n",
       "    </tr>\n",
       "    <tr>\n",
       "      <th>min</th>\n",
       "      <td>0.000</td>\n",
       "      <td>0.000</td>\n",
       "      <td>3500.000</td>\n",
       "      <td>6292.844</td>\n",
       "      <td>0.000</td>\n",
       "      <td>1951.000</td>\n",
       "      <td>0.000</td>\n",
       "    </tr>\n",
       "    <tr>\n",
       "      <th>25%</th>\n",
       "      <td>1.000</td>\n",
       "      <td>76.000</td>\n",
       "      <td>30800.000</td>\n",
       "      <td>33042.308</td>\n",
       "      <td>29000.000</td>\n",
       "      <td>2011.000</td>\n",
       "      <td>2.000</td>\n",
       "    </tr>\n",
       "    <tr>\n",
       "      <th>50%</th>\n",
       "      <td>1.000</td>\n",
       "      <td>196.000</td>\n",
       "      <td>41490.000</td>\n",
       "      <td>40668.754</td>\n",
       "      <td>57000.000</td>\n",
       "      <td>2014.000</td>\n",
       "      <td>4.000</td>\n",
       "    </tr>\n",
       "    <tr>\n",
       "      <th>75%</th>\n",
       "      <td>4.000</td>\n",
       "      <td>452.000</td>\n",
       "      <td>64900.000</td>\n",
       "      <td>57328.453</td>\n",
       "      <td>89000.000</td>\n",
       "      <td>2016.000</td>\n",
       "      <td>9.000</td>\n",
       "    </tr>\n",
       "    <tr>\n",
       "      <th>max</th>\n",
       "      <td>364.000</td>\n",
       "      <td>93608.000</td>\n",
       "      <td>405000000.000</td>\n",
       "      <td>1111215.639</td>\n",
       "      <td>990000.000</td>\n",
       "      <td>2019.000</td>\n",
       "      <td>457.000</td>\n",
       "    </tr>\n",
       "  </tbody>\n",
       "</table>\n",
       "</div>"
      ],
      "text/plain": [
       "          leads     views   vlr_anuncio  vlr_mercado  km_veiculo  ano_modelo  \\\n",
       "count 48347.000 48347.000     48347.000    48347.000   48347.000   48347.000   \n",
       "mean      4.430   446.836    109735.599    51308.399   63222.811    2013.217   \n",
       "std      11.991  1107.701   2875782.730    39152.282   52142.713       4.743   \n",
       "min       0.000     0.000      3500.000     6292.844       0.000    1951.000   \n",
       "25%       1.000    76.000     30800.000    33042.308   29000.000    2011.000   \n",
       "50%       1.000   196.000     41490.000    40668.754   57000.000    2014.000   \n",
       "75%       4.000   452.000     64900.000    57328.453   89000.000    2016.000   \n",
       "max     364.000 93608.000 405000000.000  1111215.639  990000.000    2019.000   \n",
       "\n",
       "       cliques_telefone*  \n",
       "count          48347.000  \n",
       "mean               7.479  \n",
       "std               11.475  \n",
       "min                0.000  \n",
       "25%                2.000  \n",
       "50%                4.000  \n",
       "75%                9.000  \n",
       "max              457.000  "
      ]
     },
     "execution_count": 30,
     "metadata": {},
     "output_type": "execute_result"
    }
   ],
   "source": [
    "# Conferindo novo sumário estatístico\n",
    "dados[colunas_describe].describe()"
   ]
  },
  {
   "cell_type": "code",
   "execution_count": 31,
   "metadata": {},
   "outputs": [
    {
     "data": {
      "text/plain": [
       "Index(['Unnamed: 0', 'cod_anuncio', 'cod_cliente', 'cod_tipo_pessoa',\n",
       "       'prioridade', 'leads', 'views', 'cliques_telefone*',\n",
       "       'cod_marca_veiculo', 'cod_modelo_veiculo', 'cod_versao_veiculo',\n",
       "       'ano_modelo', 'cep_2dig', 'uf_cidade', 'vlr_anuncio', 'qtd_fotos',\n",
       "       'km_veiculo', 'vlr_mercado', 'flg_unico_dono', 'flg_licenciado',\n",
       "       'flg_ipva_pago', 'flg_todas_revisoes_concessionaria',\n",
       "       'flg_todas_revisoes_agenda_veiculo', 'flg_garantia_fabrica',\n",
       "       'flg_blindado', 'flg_aceita_troca', 'flg_adaptado_pcd', 'combustivel',\n",
       "       'cambio', 'portas', 'alarme', 'airbag', 'arquente', 'bancocouro',\n",
       "       'arcondic', 'abs', 'desembtras', 'travaeletr', 'vidroseletr',\n",
       "       'rodasliga', 'sensorchuva', 'sensorestacion', 'uf', 'cidade',\n",
       "       'has_leads'],\n",
       "      dtype='object')"
      ]
     },
     "execution_count": 31,
     "metadata": {},
     "output_type": "execute_result"
    }
   ],
   "source": [
    "dados.columns"
   ]
  },
  {
   "cell_type": "markdown",
   "metadata": {},
   "source": [
    "As colunas `flg_ipva_pago` e `flg_todas_revisoes_concessionaria` acusam a exiestência de \"nan\" em algumas linhas. Tratar sua tiapgem resolve o problema."
   ]
  },
  {
   "cell_type": "code",
   "execution_count": 32,
   "metadata": {},
   "outputs": [],
   "source": [
    "dados['flg_todas_revisoes_concessionaria'].replace('nan', 0 , inplace=True)\n",
    "dados['flg_todas_revisoes_concessionaria'] = dados['flg_todas_revisoes_concessionaria'].astype(float)\n",
    "dados['flg_todas_revisoes_concessionaria'] = dados['flg_todas_revisoes_concessionaria'].astype(int)"
   ]
  },
  {
   "cell_type": "code",
   "execution_count": 33,
   "metadata": {},
   "outputs": [],
   "source": [
    "dados['flg_ipva_pago'].replace('nan', 0 , inplace=True)\n",
    "dados['flg_ipva_pago'] = dados['flg_ipva_pago'].astype(float)\n",
    "dados['flg_ipva_pago'] = dados['flg_ipva_pago'].astype(int)"
   ]
  },
  {
   "cell_type": "markdown",
   "metadata": {},
   "source": [
    "Considerações:\n",
    "1. Ao comparar a `média` do valor de anúncio e valor de mercado, é possível notar que os valores anunciados em média são muito superiores aos valores praticados pela praça para aquele veículo. Este problema como visto na detecção de outliers anteriormente é derivado destes valores discrepantes de alguns anúncios. Desconsiderado este problema, a média de anúncio é aproximadamente R$ 109.279,00 e a média destes veículos na praça é R$ 51.212,84. As medianas, entretando, são mais próximas de R$ 40.000,00 como podemos ver nas comparações entre elas.\n",
    "\n",
    "2. Em média, um anúncio possui cerca de 4 leads recebidos e 446 visualizações, o que nos dá uma proporção de que a cada 100 visualizações, 1 lead será gerado ao anunciante. \n",
    "\n",
    "3. Comparado os anúncios com mais geração de interesse (364 leads), podemos observar diferenças nas características dos veículos. Os veículos possuem valores de anúncio e de mercado discrepantes entre si, além de discrepâncias significativas entre características básicas como ano do modelo e kilometragem. No entanto, são similares enquanto a presência ou não de acessórios (travas eletétricas, ar condicionado e etc.)\n",
    "\n",
    "4. Há anúncios com seu `vlr_anuncio` zerado. Em relação as kilometragens máximas registradas no dataset, possuimos vários anúncios com kilometragens irreais (por exemplo, veiculos com mais de 100 milhões de km rodados). Decidimos retirar estes valores para evitar problemas na modelagem preditiva, mas preservamos valores abaixo de 1 millhão de km rodados para manter eventuais outliers naturais na base. \n",
    "\n",
    "5. Por fim, em relação a distribuição interquartil dos dados, até 75% deles possuem 4 leads, 452 visualizações, valor de anúncio até R$ 64.888,00 de veículos com 89.000km rodados e 9 cliques no celular. "
   ]
  },
  {
   "cell_type": "markdown",
   "metadata": {},
   "source": [
    "Ao final, nosso dataset fica com a seguinte estrutura:"
   ]
  },
  {
   "cell_type": "code",
   "execution_count": 34,
   "metadata": {},
   "outputs": [
    {
     "name": "stdout",
     "output_type": "stream",
     "text": [
      "Após tratamento perdemos um total de 2 linhas.\n",
      "A perda percentual de informação foi de 0.0%\n"
     ]
    }
   ],
   "source": [
    "nova_esturutra = dados.shape\n",
    "print(f'Após tratamento perdemos um total de {estrutura_original[0]-nova_esturutra[0]} linhas.')\n",
    "print(f'A perda percentual de informação foi de {round((estrutura_original[0]-nova_esturutra[0])/len(dados)*100,2)}%')"
   ]
  },
  {
   "cell_type": "markdown",
   "metadata": {},
   "source": [
    "### Parte 1: Análise Exploratória dos Dados (EDA)\n",
    "\n",
    "O objetivo agora é procurar por associações entre a quantidade de Leads gerados e algumas features de interesse"
   ]
  },
  {
   "cell_type": "markdown",
   "metadata": {},
   "source": [
    "1) Quantos leads são gerados por marca e quais as mais relevantes?"
   ]
  },
  {
   "cell_type": "code",
   "execution_count": 35,
   "metadata": {},
   "outputs": [
    {
     "data": {
      "text/html": [
       "<div>\n",
       "<style scoped>\n",
       "    .dataframe tbody tr th:only-of-type {\n",
       "        vertical-align: middle;\n",
       "    }\n",
       "\n",
       "    .dataframe tbody tr th {\n",
       "        vertical-align: top;\n",
       "    }\n",
       "\n",
       "    .dataframe thead th {\n",
       "        text-align: right;\n",
       "    }\n",
       "</style>\n",
       "<table border=\"1\" class=\"dataframe\">\n",
       "  <thead>\n",
       "    <tr style=\"text-align: right;\">\n",
       "      <th></th>\n",
       "      <th>Marca</th>\n",
       "      <th>leads</th>\n",
       "      <th>percentual</th>\n",
       "    </tr>\n",
       "  </thead>\n",
       "  <tbody>\n",
       "    <tr>\n",
       "      <th>0</th>\n",
       "      <td>2</td>\n",
       "      <td>26745</td>\n",
       "      <td>12.487</td>\n",
       "    </tr>\n",
       "    <tr>\n",
       "      <th>1</th>\n",
       "      <td>3</td>\n",
       "      <td>18452</td>\n",
       "      <td>8.615</td>\n",
       "    </tr>\n",
       "    <tr>\n",
       "      <th>2</th>\n",
       "      <td>4</td>\n",
       "      <td>19674</td>\n",
       "      <td>9.185</td>\n",
       "    </tr>\n",
       "    <tr>\n",
       "      <th>3</th>\n",
       "      <td>5</td>\n",
       "      <td>27090</td>\n",
       "      <td>12.648</td>\n",
       "    </tr>\n",
       "    <tr>\n",
       "      <th>4</th>\n",
       "      <td>6</td>\n",
       "      <td>17</td>\n",
       "      <td>0.008</td>\n",
       "    </tr>\n",
       "    <tr>\n",
       "      <th>...</th>\n",
       "      <td>...</td>\n",
       "      <td>...</td>\n",
       "      <td>...</td>\n",
       "    </tr>\n",
       "    <tr>\n",
       "      <th>69</th>\n",
       "      <td>299</td>\n",
       "      <td>6</td>\n",
       "      <td>0.003</td>\n",
       "    </tr>\n",
       "    <tr>\n",
       "      <th>70</th>\n",
       "      <td>304</td>\n",
       "      <td>1</td>\n",
       "      <td>0.000</td>\n",
       "    </tr>\n",
       "    <tr>\n",
       "      <th>71</th>\n",
       "      <td>311</td>\n",
       "      <td>1</td>\n",
       "      <td>0.000</td>\n",
       "    </tr>\n",
       "    <tr>\n",
       "      <th>72</th>\n",
       "      <td>313</td>\n",
       "      <td>0</td>\n",
       "      <td>0.000</td>\n",
       "    </tr>\n",
       "    <tr>\n",
       "      <th>73</th>\n",
       "      <td>320</td>\n",
       "      <td>1</td>\n",
       "      <td>0.000</td>\n",
       "    </tr>\n",
       "  </tbody>\n",
       "</table>\n",
       "<p>74 rows × 3 columns</p>\n",
       "</div>"
      ],
      "text/plain": [
       "    Marca  leads  percentual\n",
       "0       2  26745      12.487\n",
       "1       3  18452       8.615\n",
       "2       4  19674       9.185\n",
       "3       5  27090      12.648\n",
       "4       6     17       0.008\n",
       "..    ...    ...         ...\n",
       "69    299      6       0.003\n",
       "70    304      1       0.000\n",
       "71    311      1       0.000\n",
       "72    313      0       0.000\n",
       "73    320      1       0.000\n",
       "\n",
       "[74 rows x 3 columns]"
      ]
     },
     "execution_count": 35,
     "metadata": {},
     "output_type": "execute_result"
    }
   ],
   "source": [
    "# Gerando dados de interesse\n",
    "leads_marca = pd.DataFrame(dados.groupby(['cod_marca_veiculo'])['leads'].sum()).reset_index()\n",
    "leads_marca.rename(columns= {'cod_marca_veiculo' : 'Marca'}, inplace= True)\n",
    "leads_marca.sort_values(by='leads',ascending=False)\n",
    "leads_marca['percentual'] = leads_marca['leads'] / leads_marca['leads'].sum()*100\n",
    "leads_marca"
   ]
  },
  {
   "cell_type": "markdown",
   "metadata": {},
   "source": [
    "Para melhor visualização gráfica, iremos selecionar apenas as 20 maiores geradoras de leads por feature analisada."
   ]
  },
  {
   "cell_type": "code",
   "execution_count": 36,
   "metadata": {},
   "outputs": [
    {
     "data": {
      "image/png": "[encoded data removed]",
      "text/plain": [
       "<Figure size 1440x864 with 1 Axes>"
      ]
     },
     "metadata": {
      "needs_background": "light"
     },
     "output_type": "display_data"
    }
   ],
   "source": [
    "# Ordenando Dados para Aplicação visual\n",
    "leads_marca = leads_marca.nlargest(20,columns='leads').sort_values(by='leads',ascending=False)\n",
    "\n",
    "# Plotagem Gráfica: \n",
    "g1_marca = sns.barplot(x=\"Marca\", y = 'leads', palette=\"flare_r\", data=leads_marca, orient = \"v\", order=leads_marca['Marca'])\n",
    "g1_marca.figure.set_size_inches(20,12)\n",
    "plt.title('Quantidade de Leads Gerados por Marca', fontsize = 18, loc='left')\n",
    "plt.ylabel(' ')\n",
    "plt.xlabel('Código da Marca', fontsize=15)\n",
    "plt.xticks(fontsize = 15)\n",
    "plt.yticks(fontsize = 15)\n",
    "plt.hlines(leads_marca['leads'].mean(), -0.5, 20, colors='red', linestyles='--')\n",
    "plt.text(x=10, y=10500, s='Média do Grupo Selecionado', fontsize=15, alpha=1)\n",
    "sns.despine (left = True)\n",
    "sns.set_style('dark')"
   ]
  },
  {
   "cell_type": "markdown",
   "metadata": {},
   "source": [
    "2) Quantos leads são gerados por modelo e quais os mais relevantes?"
   ]
  },
  {
   "cell_type": "code",
   "execution_count": 37,
   "metadata": {},
   "outputs": [
    {
     "data": {
      "text/html": [
       "<div>\n",
       "<style scoped>\n",
       "    .dataframe tbody tr th:only-of-type {\n",
       "        vertical-align: middle;\n",
       "    }\n",
       "\n",
       "    .dataframe tbody tr th {\n",
       "        vertical-align: top;\n",
       "    }\n",
       "\n",
       "    .dataframe thead th {\n",
       "        text-align: right;\n",
       "    }\n",
       "</style>\n",
       "<table border=\"1\" class=\"dataframe\">\n",
       "  <thead>\n",
       "    <tr style=\"text-align: right;\">\n",
       "      <th></th>\n",
       "      <th>Modelo</th>\n",
       "      <th>leads</th>\n",
       "    </tr>\n",
       "  </thead>\n",
       "  <tbody>\n",
       "    <tr>\n",
       "      <th>21</th>\n",
       "      <td>690</td>\n",
       "      <td>7967</td>\n",
       "    </tr>\n",
       "    <tr>\n",
       "      <th>156</th>\n",
       "      <td>1194</td>\n",
       "      <td>5918</td>\n",
       "    </tr>\n",
       "    <tr>\n",
       "      <th>66</th>\n",
       "      <td>776</td>\n",
       "      <td>5407</td>\n",
       "    </tr>\n",
       "    <tr>\n",
       "      <th>44</th>\n",
       "      <td>740</td>\n",
       "      <td>4502</td>\n",
       "    </tr>\n",
       "    <tr>\n",
       "      <th>18</th>\n",
       "      <td>687</td>\n",
       "      <td>4499</td>\n",
       "    </tr>\n",
       "    <tr>\n",
       "      <th>...</th>\n",
       "      <td>...</td>\n",
       "      <td>...</td>\n",
       "    </tr>\n",
       "    <tr>\n",
       "      <th>236</th>\n",
       "      <td>2197</td>\n",
       "      <td>0</td>\n",
       "    </tr>\n",
       "    <tr>\n",
       "      <th>457</th>\n",
       "      <td>3185</td>\n",
       "      <td>0</td>\n",
       "    </tr>\n",
       "    <tr>\n",
       "      <th>362</th>\n",
       "      <td>2838</td>\n",
       "      <td>0</td>\n",
       "    </tr>\n",
       "    <tr>\n",
       "      <th>221</th>\n",
       "      <td>2151</td>\n",
       "      <td>0</td>\n",
       "    </tr>\n",
       "    <tr>\n",
       "      <th>272</th>\n",
       "      <td>2466</td>\n",
       "      <td>0</td>\n",
       "    </tr>\n",
       "  </tbody>\n",
       "</table>\n",
       "<p>655 rows × 2 columns</p>\n",
       "</div>"
      ],
      "text/plain": [
       "     Modelo  leads\n",
       "21      690   7967\n",
       "156    1194   5918\n",
       "66      776   5407\n",
       "44      740   4502\n",
       "18      687   4499\n",
       "..      ...    ...\n",
       "236    2197      0\n",
       "457    3185      0\n",
       "362    2838      0\n",
       "221    2151      0\n",
       "272    2466      0\n",
       "\n",
       "[655 rows x 2 columns]"
      ]
     },
     "execution_count": 37,
     "metadata": {},
     "output_type": "execute_result"
    }
   ],
   "source": [
    "# Gerando dados de interesse\n",
    "leads_modelo = pd.DataFrame(dados.groupby(['cod_modelo_veiculo'])['leads'].sum()).reset_index()\n",
    "leads_modelo.rename(columns= {'cod_modelo_veiculo' : 'Modelo'}, inplace= True)\n",
    "leads_modelo.sort_values(by='leads',ascending=False)"
   ]
  },
  {
   "cell_type": "code",
   "execution_count": 38,
   "metadata": {},
   "outputs": [
    {
     "data": {
      "image/png": "[encoded data removed]",
      "text/plain": [
       "<Figure size 1440x864 with 1 Axes>"
      ]
     },
     "metadata": {},
     "output_type": "display_data"
    }
   ],
   "source": [
    "# Ordenando Dados para Aplicação visual\n",
    "leads_modelo = leads_modelo.nlargest(20,columns='leads').sort_values(by='leads',ascending=False)\n",
    "\n",
    "# Plotagem Gráfica: \n",
    "g2_modelo = sns.barplot(y=\"Modelo\", x = 'leads', palette=\"flare_r\", data=leads_modelo, orient = \"h\", order=leads_modelo['Modelo'])\n",
    "g2_modelo.figure.set_size_inches(20,12)\n",
    "plt.title('Quantidade de Leads Gerados por Modelo', fontsize = 18, loc='left')\n",
    "plt.ylabel('Código do Modelo', fontsize=15)\n",
    "plt.xlabel(' ')\n",
    "plt.xticks(fontsize = 15)\n",
    "plt.yticks(fontsize = 15)\n",
    "plt.vlines(leads_modelo['leads'].mean(), -0.5, 20, colors='red', linestyles='--')\n",
    "plt.text(x=3750, y=18, s='Média do Grupo Selecionado', fontsize=15, alpha=1, rotation = 90)\n",
    "sns.despine (left = True)\n",
    "sns.set_style('dark')"
   ]
  },
  {
   "cell_type": "markdown",
   "metadata": {},
   "source": [
    "3) E por Estados, como estão as distribuições de leads gerados?\n"
   ]
  },
  {
   "cell_type": "code",
   "execution_count": 39,
   "metadata": {},
   "outputs": [
    {
     "data": {
      "text/html": [
       "<div>\n",
       "<style scoped>\n",
       "    .dataframe tbody tr th:only-of-type {\n",
       "        vertical-align: middle;\n",
       "    }\n",
       "\n",
       "    .dataframe tbody tr th {\n",
       "        vertical-align: top;\n",
       "    }\n",
       "\n",
       "    .dataframe thead th {\n",
       "        text-align: right;\n",
       "    }\n",
       "</style>\n",
       "<table border=\"1\" class=\"dataframe\">\n",
       "  <thead>\n",
       "    <tr style=\"text-align: right;\">\n",
       "      <th></th>\n",
       "      <th>Estado</th>\n",
       "      <th>leads</th>\n",
       "      <th>percentual_leads</th>\n",
       "    </tr>\n",
       "  </thead>\n",
       "  <tbody>\n",
       "    <tr>\n",
       "      <th>26</th>\n",
       "      <td>SP</td>\n",
       "      <td>151061</td>\n",
       "      <td>70.527</td>\n",
       "    </tr>\n",
       "    <tr>\n",
       "      <th>19</th>\n",
       "      <td>RJ</td>\n",
       "      <td>15175</td>\n",
       "      <td>7.085</td>\n",
       "    </tr>\n",
       "    <tr>\n",
       "      <th>10</th>\n",
       "      <td>MG</td>\n",
       "      <td>9906</td>\n",
       "      <td>4.625</td>\n",
       "    </tr>\n",
       "    <tr>\n",
       "      <th>18</th>\n",
       "      <td>PR</td>\n",
       "      <td>9509</td>\n",
       "      <td>4.440</td>\n",
       "    </tr>\n",
       "    <tr>\n",
       "      <th>24</th>\n",
       "      <td>SC</td>\n",
       "      <td>6532</td>\n",
       "      <td>3.050</td>\n",
       "    </tr>\n",
       "    <tr>\n",
       "      <th>23</th>\n",
       "      <td>RS</td>\n",
       "      <td>4772</td>\n",
       "      <td>2.228</td>\n",
       "    </tr>\n",
       "    <tr>\n",
       "      <th>6</th>\n",
       "      <td>DF</td>\n",
       "      <td>4305</td>\n",
       "      <td>2.010</td>\n",
       "    </tr>\n",
       "    <tr>\n",
       "      <th>8</th>\n",
       "      <td>GO</td>\n",
       "      <td>2388</td>\n",
       "      <td>1.115</td>\n",
       "    </tr>\n",
       "    <tr>\n",
       "      <th>4</th>\n",
       "      <td>BA</td>\n",
       "      <td>1612</td>\n",
       "      <td>0.753</td>\n",
       "    </tr>\n",
       "    <tr>\n",
       "      <th>16</th>\n",
       "      <td>PE</td>\n",
       "      <td>1362</td>\n",
       "      <td>0.636</td>\n",
       "    </tr>\n",
       "    <tr>\n",
       "      <th>20</th>\n",
       "      <td>RN</td>\n",
       "      <td>1287</td>\n",
       "      <td>0.601</td>\n",
       "    </tr>\n",
       "    <tr>\n",
       "      <th>11</th>\n",
       "      <td>MS</td>\n",
       "      <td>1112</td>\n",
       "      <td>0.519</td>\n",
       "    </tr>\n",
       "    <tr>\n",
       "      <th>7</th>\n",
       "      <td>ES</td>\n",
       "      <td>1012</td>\n",
       "      <td>0.472</td>\n",
       "    </tr>\n",
       "    <tr>\n",
       "      <th>5</th>\n",
       "      <td>CE</td>\n",
       "      <td>981</td>\n",
       "      <td>0.458</td>\n",
       "    </tr>\n",
       "    <tr>\n",
       "      <th>12</th>\n",
       "      <td>MT</td>\n",
       "      <td>698</td>\n",
       "      <td>0.326</td>\n",
       "    </tr>\n",
       "    <tr>\n",
       "      <th>15</th>\n",
       "      <td>PB</td>\n",
       "      <td>538</td>\n",
       "      <td>0.251</td>\n",
       "    </tr>\n",
       "    <tr>\n",
       "      <th>9</th>\n",
       "      <td>MA</td>\n",
       "      <td>381</td>\n",
       "      <td>0.178</td>\n",
       "    </tr>\n",
       "    <tr>\n",
       "      <th>17</th>\n",
       "      <td>PI</td>\n",
       "      <td>263</td>\n",
       "      <td>0.123</td>\n",
       "    </tr>\n",
       "    <tr>\n",
       "      <th>14</th>\n",
       "      <td>PA</td>\n",
       "      <td>258</td>\n",
       "      <td>0.120</td>\n",
       "    </tr>\n",
       "    <tr>\n",
       "      <th>1</th>\n",
       "      <td>AL</td>\n",
       "      <td>242</td>\n",
       "      <td>0.113</td>\n",
       "    </tr>\n",
       "    <tr>\n",
       "      <th>21</th>\n",
       "      <td>RO</td>\n",
       "      <td>225</td>\n",
       "      <td>0.105</td>\n",
       "    </tr>\n",
       "    <tr>\n",
       "      <th>2</th>\n",
       "      <td>AM</td>\n",
       "      <td>220</td>\n",
       "      <td>0.103</td>\n",
       "    </tr>\n",
       "    <tr>\n",
       "      <th>25</th>\n",
       "      <td>SE</td>\n",
       "      <td>187</td>\n",
       "      <td>0.087</td>\n",
       "    </tr>\n",
       "    <tr>\n",
       "      <th>0</th>\n",
       "      <td>AC</td>\n",
       "      <td>113</td>\n",
       "      <td>0.053</td>\n",
       "    </tr>\n",
       "    <tr>\n",
       "      <th>3</th>\n",
       "      <td>AP</td>\n",
       "      <td>25</td>\n",
       "      <td>0.012</td>\n",
       "    </tr>\n",
       "    <tr>\n",
       "      <th>27</th>\n",
       "      <td>TO</td>\n",
       "      <td>13</td>\n",
       "      <td>0.006</td>\n",
       "    </tr>\n",
       "    <tr>\n",
       "      <th>22</th>\n",
       "      <td>RR</td>\n",
       "      <td>12</td>\n",
       "      <td>0.006</td>\n",
       "    </tr>\n",
       "    <tr>\n",
       "      <th>13</th>\n",
       "      <td>N/A</td>\n",
       "      <td>0</td>\n",
       "      <td>0.000</td>\n",
       "    </tr>\n",
       "  </tbody>\n",
       "</table>\n",
       "</div>"
      ],
      "text/plain": [
       "   Estado   leads  percentual_leads\n",
       "26     SP  151061            70.527\n",
       "19     RJ   15175             7.085\n",
       "10     MG    9906             4.625\n",
       "18     PR    9509             4.440\n",
       "24     SC    6532             3.050\n",
       "23     RS    4772             2.228\n",
       "6      DF    4305             2.010\n",
       "8      GO    2388             1.115\n",
       "4      BA    1612             0.753\n",
       "16     PE    1362             0.636\n",
       "20     RN    1287             0.601\n",
       "11     MS    1112             0.519\n",
       "7      ES    1012             0.472\n",
       "5      CE     981             0.458\n",
       "12     MT     698             0.326\n",
       "15     PB     538             0.251\n",
       "9      MA     381             0.178\n",
       "17     PI     263             0.123\n",
       "14     PA     258             0.120\n",
       "1      AL     242             0.113\n",
       "21     RO     225             0.105\n",
       "2      AM     220             0.103\n",
       "25     SE     187             0.087\n",
       "0      AC     113             0.053\n",
       "3      AP      25             0.012\n",
       "27     TO      13             0.006\n",
       "22     RR      12             0.006\n",
       "13    N/A       0             0.000"
      ]
     },
     "execution_count": 39,
     "metadata": {},
     "output_type": "execute_result"
    }
   ],
   "source": [
    "# Gerando dados de interesse\n",
    "leads_uf = pd.DataFrame(dados.groupby(['uf'])['leads'].sum()).reset_index()\n",
    "leads_uf.rename(columns= {'uf' : 'Estado'}, inplace= True)\n",
    "leads_uf = leads_uf.sort_values(by='leads',ascending=False)\n",
    "leads_uf['percentual_leads'] = leads_uf['leads'] / leads_uf['leads'].sum()*100\n",
    "leads_uf.sort_values(inplace=True, by='percentual_leads', ascending=False)\n",
    "leads_uf"
   ]
  },
  {
   "cell_type": "code",
   "execution_count": 40,
   "metadata": {},
   "outputs": [
    {
     "data": {
      "image/png": "[encoded data removed]",
      "text/plain": [
       "<Figure size 1440x864 with 1 Axes>"
      ]
     },
     "metadata": {},
     "output_type": "display_data"
    }
   ],
   "source": [
    "# Removendo N/A e filtrando Estados com % de leads acima de 1%\n",
    "leads_uf = leads_uf.query('Estado != \"N/A\" and percentual_leads > 1')\n",
    "\n",
    "# Plotagem Gráfica: \n",
    "g3_estado = sns.barplot(x=\"Estado\", y = 'percentual_leads', palette=\"ch:.25_r\", data=leads_uf, alpha=1)\n",
    "g3_estado.figure.set_size_inches(20,12)\n",
    "plt.title('Percentual de Leads Gerados por Estados Selecionados', fontsize = 18, loc='left')\n",
    "plt.ylabel(' ')\n",
    "plt.xlabel(' ')\n",
    "plt.xticks(fontsize = 15)\n",
    "plt.yticks(fontsize = 15)\n",
    "sns.despine (left = True)\n",
    "sns.set_style('dark')\n",
    "\n",
    "# criando laço para rótulos\n",
    "for p in g3_estado.patches:\n",
    "    height = p.get_height()\n",
    "    g3_estado.text(p.get_x()+p.get_width()/2., height+1, '{:1.2f}'.format(height), ha='center', fontsize = 17)"
   ]
  },
  {
   "cell_type": "markdown",
   "metadata": {},
   "source": [
    "4. Verificando a situação por cidade"
   ]
  },
  {
   "cell_type": "code",
   "execution_count": 41,
   "metadata": {},
   "outputs": [
    {
     "data": {
      "text/html": [
       "<div>\n",
       "<style scoped>\n",
       "    .dataframe tbody tr th:only-of-type {\n",
       "        vertical-align: middle;\n",
       "    }\n",
       "\n",
       "    .dataframe tbody tr th {\n",
       "        vertical-align: top;\n",
       "    }\n",
       "\n",
       "    .dataframe thead th {\n",
       "        text-align: right;\n",
       "    }\n",
       "</style>\n",
       "<table border=\"1\" class=\"dataframe\">\n",
       "  <thead>\n",
       "    <tr style=\"text-align: right;\">\n",
       "      <th></th>\n",
       "      <th>cidade</th>\n",
       "      <th>leads</th>\n",
       "      <th>percentual</th>\n",
       "    </tr>\n",
       "  </thead>\n",
       "  <tbody>\n",
       "    <tr>\n",
       "      <th>820</th>\n",
       "      <td>SÃ£o Paulo</td>\n",
       "      <td>88629</td>\n",
       "      <td>41.379</td>\n",
       "    </tr>\n",
       "    <tr>\n",
       "      <th>702</th>\n",
       "      <td>Rio de Janeiro</td>\n",
       "      <td>11020</td>\n",
       "      <td>5.145</td>\n",
       "    </tr>\n",
       "    <tr>\n",
       "      <th>154</th>\n",
       "      <td>Campinas</td>\n",
       "      <td>7395</td>\n",
       "      <td>3.453</td>\n",
       "    </tr>\n",
       "    <tr>\n",
       "      <th>89</th>\n",
       "      <td>Belo Horizonte</td>\n",
       "      <td>5716</td>\n",
       "      <td>2.669</td>\n",
       "    </tr>\n",
       "    <tr>\n",
       "      <th>779</th>\n",
       "      <td>SÃ£o Bernardo do Campo</td>\n",
       "      <td>5248</td>\n",
       "      <td>2.450</td>\n",
       "    </tr>\n",
       "    <tr>\n",
       "      <th>...</th>\n",
       "      <td>...</td>\n",
       "      <td>...</td>\n",
       "      <td>...</td>\n",
       "    </tr>\n",
       "    <tr>\n",
       "      <th>354</th>\n",
       "      <td>IlhÃ©us</td>\n",
       "      <td>0</td>\n",
       "      <td>0.000</td>\n",
       "    </tr>\n",
       "    <tr>\n",
       "      <th>692</th>\n",
       "      <td>Rio Brilhante</td>\n",
       "      <td>0</td>\n",
       "      <td>0.000</td>\n",
       "    </tr>\n",
       "    <tr>\n",
       "      <th>562</th>\n",
       "      <td>NÃ£o se aplica</td>\n",
       "      <td>0</td>\n",
       "      <td>0.000</td>\n",
       "    </tr>\n",
       "    <tr>\n",
       "      <th>573</th>\n",
       "      <td>Pacajus</td>\n",
       "      <td>0</td>\n",
       "      <td>0.000</td>\n",
       "    </tr>\n",
       "    <tr>\n",
       "      <th>347</th>\n",
       "      <td>IgaratÃ¡</td>\n",
       "      <td>0</td>\n",
       "      <td>0.000</td>\n",
       "    </tr>\n",
       "  </tbody>\n",
       "</table>\n",
       "<p>927 rows × 3 columns</p>\n",
       "</div>"
      ],
      "text/plain": [
       "                     cidade  leads  percentual\n",
       "820              SÃ£o Paulo  88629      41.379\n",
       "702          Rio de Janeiro  11020       5.145\n",
       "154                Campinas   7395       3.453\n",
       "89           Belo Horizonte   5716       2.669\n",
       "779  SÃ£o Bernardo do Campo   5248       2.450\n",
       "..                      ...    ...         ...\n",
       "354                 IlhÃ©us      0       0.000\n",
       "692           Rio Brilhante      0       0.000\n",
       "562          NÃ£o se aplica      0       0.000\n",
       "573                 Pacajus      0       0.000\n",
       "347                IgaratÃ¡      0       0.000\n",
       "\n",
       "[927 rows x 3 columns]"
      ]
     },
     "execution_count": 41,
     "metadata": {},
     "output_type": "execute_result"
    }
   ],
   "source": [
    "# Gerando dados de interesse\n",
    "leads_cidade = pd.DataFrame(dados.groupby(['cidade'])['leads'].sum()).reset_index()\n",
    "leads_cidade = leads_cidade.sort_values(by='leads',ascending=False)\n",
    "leads_cidade['percentual'] = leads_cidade['leads'] / leads_cidade['leads'].sum()*100\n",
    "leads_cidade.sort_values(inplace=True, by='percentual', ascending=False)\n",
    "leads_cidade"
   ]
  },
  {
   "cell_type": "code",
   "execution_count": 42,
   "metadata": {},
   "outputs": [],
   "source": [
    "# Substituindo nomes das cidades de interesse na base original\n",
    "leads_cidade['cidade'] = leads_cidade['cidade'].replace('SÃ£o Paulo','São Paulo')\n",
    "leads_cidade['cidade'] = leads_cidade['cidade'].replace('SÃ£o Bernardo do Campo','São Bernado do Campo Paulo')\n",
    "leads_cidade['cidade'] = leads_cidade['cidade'].replace('Santo AndrÃ©','Santo André')\n",
    "leads_cidade['cidade'] = leads_cidade['cidade'].replace('BrasÃ\\xadlia','Brasília')\n",
    "leads_cidade['cidade'] = leads_cidade['cidade'].replace('SÃ£o JosÃ© do Rio Preto','São José do Rio Preto')\n",
    "leads_cidade['cidade'] = leads_cidade['cidade'].replace('RibeirÃ£o Preto','Ribeirão Preto')\n",
    "leads_cidade['cidade'] = leads_cidade['cidade'].replace('SÃ£o Caetano do Sul','São Caetano do Sul')"
   ]
  },
  {
   "cell_type": "code",
   "execution_count": 43,
   "metadata": {},
   "outputs": [
    {
     "data": {
      "image/png": "[encoded data removed]",
      "text/plain": [
       "<Figure size 1440x720 with 1 Axes>"
      ]
     },
     "metadata": {},
     "output_type": "display_data"
    }
   ],
   "source": [
    "# Removendo N/A e filtrando Estados com % de leads acima de 1%\n",
    "leads_cidade = leads_cidade.query('percentual > 1')\n",
    "\n",
    "# Plotagem Gráfica: \n",
    "g4_cidade = sns.barplot(y=\"cidade\", x = 'percentual', palette=\"magma\", data=leads_cidade, alpha = 0.7)\n",
    "g4_cidade.figure.set_size_inches(20,10)\n",
    "plt.title('Percentual de Leads Gerados por Cidades Selecionadas', fontsize = 18, loc='left')\n",
    "plt.ylabel(' ')\n",
    "plt.xlabel(' ')\n",
    "plt.yticks(fontsize = 15)\n",
    "sns.despine (left = True)\n",
    "sns.set_style('dark')"
   ]
  },
  {
   "cell_type": "markdown",
   "metadata": {},
   "source": [
    "Obs: É esperado que grandes Estados e Cidades possuam grande quantidade de leads e views por causa de sua população. Para tal, iremos comparar a quantidade de ANÚNCIOS vs a quantidade de LEADS por cidade para verificarmos possíveis dissonâncias entre estas duas variáveis"
   ]
  },
  {
   "cell_type": "code",
   "execution_count": 44,
   "metadata": {},
   "outputs": [
    {
     "data": {
      "text/html": [
       "<div>\n",
       "<style scoped>\n",
       "    .dataframe tbody tr th:only-of-type {\n",
       "        vertical-align: middle;\n",
       "    }\n",
       "\n",
       "    .dataframe tbody tr th {\n",
       "        vertical-align: top;\n",
       "    }\n",
       "\n",
       "    .dataframe thead th {\n",
       "        text-align: right;\n",
       "    }\n",
       "</style>\n",
       "<table border=\"1\" class=\"dataframe\">\n",
       "  <thead>\n",
       "    <tr style=\"text-align: right;\">\n",
       "      <th></th>\n",
       "      <th>Estado</th>\n",
       "      <th>Quantidade de Anúncios</th>\n",
       "      <th>percentual_anuncios</th>\n",
       "    </tr>\n",
       "  </thead>\n",
       "  <tbody>\n",
       "    <tr>\n",
       "      <th>26</th>\n",
       "      <td>SP</td>\n",
       "      <td>22836</td>\n",
       "      <td>47.234</td>\n",
       "    </tr>\n",
       "    <tr>\n",
       "      <th>18</th>\n",
       "      <td>PR</td>\n",
       "      <td>4379</td>\n",
       "      <td>9.057</td>\n",
       "    </tr>\n",
       "    <tr>\n",
       "      <th>24</th>\n",
       "      <td>SC</td>\n",
       "      <td>3719</td>\n",
       "      <td>7.692</td>\n",
       "    </tr>\n",
       "    <tr>\n",
       "      <th>19</th>\n",
       "      <td>RJ</td>\n",
       "      <td>3714</td>\n",
       "      <td>7.682</td>\n",
       "    </tr>\n",
       "    <tr>\n",
       "      <th>10</th>\n",
       "      <td>MG</td>\n",
       "      <td>3228</td>\n",
       "      <td>6.677</td>\n",
       "    </tr>\n",
       "    <tr>\n",
       "      <th>23</th>\n",
       "      <td>RS</td>\n",
       "      <td>2543</td>\n",
       "      <td>5.260</td>\n",
       "    </tr>\n",
       "    <tr>\n",
       "      <th>6</th>\n",
       "      <td>DF</td>\n",
       "      <td>1757</td>\n",
       "      <td>3.634</td>\n",
       "    </tr>\n",
       "    <tr>\n",
       "      <th>8</th>\n",
       "      <td>GO</td>\n",
       "      <td>929</td>\n",
       "      <td>1.922</td>\n",
       "    </tr>\n",
       "    <tr>\n",
       "      <th>16</th>\n",
       "      <td>PE</td>\n",
       "      <td>771</td>\n",
       "      <td>1.595</td>\n",
       "    </tr>\n",
       "    <tr>\n",
       "      <th>4</th>\n",
       "      <td>BA</td>\n",
       "      <td>628</td>\n",
       "      <td>1.299</td>\n",
       "    </tr>\n",
       "    <tr>\n",
       "      <th>11</th>\n",
       "      <td>MS</td>\n",
       "      <td>544</td>\n",
       "      <td>1.125</td>\n",
       "    </tr>\n",
       "    <tr>\n",
       "      <th>20</th>\n",
       "      <td>RN</td>\n",
       "      <td>530</td>\n",
       "      <td>1.096</td>\n",
       "    </tr>\n",
       "    <tr>\n",
       "      <th>5</th>\n",
       "      <td>CE</td>\n",
       "      <td>523</td>\n",
       "      <td>1.082</td>\n",
       "    </tr>\n",
       "    <tr>\n",
       "      <th>7</th>\n",
       "      <td>ES</td>\n",
       "      <td>464</td>\n",
       "      <td>0.960</td>\n",
       "    </tr>\n",
       "    <tr>\n",
       "      <th>12</th>\n",
       "      <td>MT</td>\n",
       "      <td>404</td>\n",
       "      <td>0.836</td>\n",
       "    </tr>\n",
       "    <tr>\n",
       "      <th>9</th>\n",
       "      <td>MA</td>\n",
       "      <td>230</td>\n",
       "      <td>0.476</td>\n",
       "    </tr>\n",
       "    <tr>\n",
       "      <th>15</th>\n",
       "      <td>PB</td>\n",
       "      <td>230</td>\n",
       "      <td>0.476</td>\n",
       "    </tr>\n",
       "    <tr>\n",
       "      <th>14</th>\n",
       "      <td>PA</td>\n",
       "      <td>181</td>\n",
       "      <td>0.374</td>\n",
       "    </tr>\n",
       "    <tr>\n",
       "      <th>2</th>\n",
       "      <td>AM</td>\n",
       "      <td>158</td>\n",
       "      <td>0.327</td>\n",
       "    </tr>\n",
       "    <tr>\n",
       "      <th>21</th>\n",
       "      <td>RO</td>\n",
       "      <td>153</td>\n",
       "      <td>0.316</td>\n",
       "    </tr>\n",
       "    <tr>\n",
       "      <th>17</th>\n",
       "      <td>PI</td>\n",
       "      <td>146</td>\n",
       "      <td>0.302</td>\n",
       "    </tr>\n",
       "    <tr>\n",
       "      <th>25</th>\n",
       "      <td>SE</td>\n",
       "      <td>119</td>\n",
       "      <td>0.246</td>\n",
       "    </tr>\n",
       "    <tr>\n",
       "      <th>1</th>\n",
       "      <td>AL</td>\n",
       "      <td>80</td>\n",
       "      <td>0.165</td>\n",
       "    </tr>\n",
       "    <tr>\n",
       "      <th>0</th>\n",
       "      <td>AC</td>\n",
       "      <td>31</td>\n",
       "      <td>0.064</td>\n",
       "    </tr>\n",
       "    <tr>\n",
       "      <th>3</th>\n",
       "      <td>AP</td>\n",
       "      <td>18</td>\n",
       "      <td>0.037</td>\n",
       "    </tr>\n",
       "    <tr>\n",
       "      <th>22</th>\n",
       "      <td>RR</td>\n",
       "      <td>15</td>\n",
       "      <td>0.031</td>\n",
       "    </tr>\n",
       "    <tr>\n",
       "      <th>27</th>\n",
       "      <td>TO</td>\n",
       "      <td>13</td>\n",
       "      <td>0.027</td>\n",
       "    </tr>\n",
       "  </tbody>\n",
       "</table>\n",
       "</div>"
      ],
      "text/plain": [
       "   Estado  Quantidade de Anúncios  percentual_anuncios\n",
       "26     SP                   22836               47.234\n",
       "18     PR                    4379                9.057\n",
       "24     SC                    3719                7.692\n",
       "19     RJ                    3714                7.682\n",
       "10     MG                    3228                6.677\n",
       "23     RS                    2543                5.260\n",
       "6      DF                    1757                3.634\n",
       "8      GO                     929                1.922\n",
       "16     PE                     771                1.595\n",
       "4      BA                     628                1.299\n",
       "11     MS                     544                1.125\n",
       "20     RN                     530                1.096\n",
       "5      CE                     523                1.082\n",
       "7      ES                     464                0.960\n",
       "12     MT                     404                0.836\n",
       "9      MA                     230                0.476\n",
       "15     PB                     230                0.476\n",
       "14     PA                     181                0.374\n",
       "2      AM                     158                0.327\n",
       "21     RO                     153                0.316\n",
       "17     PI                     146                0.302\n",
       "25     SE                     119                0.246\n",
       "1      AL                      80                0.165\n",
       "0      AC                      31                0.064\n",
       "3      AP                      18                0.037\n",
       "22     RR                      15                0.031\n",
       "27     TO                      13                0.027"
      ]
     },
     "execution_count": 44,
     "metadata": {},
     "output_type": "execute_result"
    }
   ],
   "source": [
    "qtde_anuncios_uf = pd.DataFrame(dados.groupby(['uf']).size()).reset_index()\n",
    "qtde_anuncios_uf.rename(columns= {'uf' : 'Estado', 0 : 'Quantidade de Anúncios'}, inplace= True)\n",
    "qtde_anuncios_uf = qtde_anuncios_uf.sort_values(by='Quantidade de Anúncios',ascending=False)\n",
    "qtde_anuncios_uf['percentual_anuncios'] = qtde_anuncios_uf['Quantidade de Anúncios'] / qtde_anuncios_uf['Quantidade de Anúncios'].sum()*100\n",
    "qtde_anuncios_uf = qtde_anuncios_uf.query('Estado != \"N/A\"')\n",
    "qtde_anuncios_uf"
   ]
  },
  {
   "cell_type": "code",
   "execution_count": 45,
   "metadata": {},
   "outputs": [
    {
     "data": {
      "text/html": [
       "<div>\n",
       "<style scoped>\n",
       "    .dataframe tbody tr th:only-of-type {\n",
       "        vertical-align: middle;\n",
       "    }\n",
       "\n",
       "    .dataframe tbody tr th {\n",
       "        vertical-align: top;\n",
       "    }\n",
       "\n",
       "    .dataframe thead th {\n",
       "        text-align: right;\n",
       "    }\n",
       "</style>\n",
       "<table border=\"1\" class=\"dataframe\">\n",
       "  <thead>\n",
       "    <tr style=\"text-align: right;\">\n",
       "      <th></th>\n",
       "      <th>Estado</th>\n",
       "      <th>leads</th>\n",
       "      <th>percentual_leads</th>\n",
       "      <th>Quantidade de Anúncios</th>\n",
       "      <th>percentual_anuncios</th>\n",
       "    </tr>\n",
       "  </thead>\n",
       "  <tbody>\n",
       "    <tr>\n",
       "      <th>0</th>\n",
       "      <td>SP</td>\n",
       "      <td>151061</td>\n",
       "      <td>70.527</td>\n",
       "      <td>22836</td>\n",
       "      <td>47.234</td>\n",
       "    </tr>\n",
       "    <tr>\n",
       "      <th>3</th>\n",
       "      <td>PR</td>\n",
       "      <td>9509</td>\n",
       "      <td>4.440</td>\n",
       "      <td>4379</td>\n",
       "      <td>9.057</td>\n",
       "    </tr>\n",
       "    <tr>\n",
       "      <th>4</th>\n",
       "      <td>SC</td>\n",
       "      <td>6532</td>\n",
       "      <td>3.050</td>\n",
       "      <td>3719</td>\n",
       "      <td>7.692</td>\n",
       "    </tr>\n",
       "    <tr>\n",
       "      <th>1</th>\n",
       "      <td>RJ</td>\n",
       "      <td>15175</td>\n",
       "      <td>7.085</td>\n",
       "      <td>3714</td>\n",
       "      <td>7.682</td>\n",
       "    </tr>\n",
       "    <tr>\n",
       "      <th>2</th>\n",
       "      <td>MG</td>\n",
       "      <td>9906</td>\n",
       "      <td>4.625</td>\n",
       "      <td>3228</td>\n",
       "      <td>6.677</td>\n",
       "    </tr>\n",
       "    <tr>\n",
       "      <th>5</th>\n",
       "      <td>RS</td>\n",
       "      <td>4772</td>\n",
       "      <td>2.228</td>\n",
       "      <td>2543</td>\n",
       "      <td>5.260</td>\n",
       "    </tr>\n",
       "    <tr>\n",
       "      <th>6</th>\n",
       "      <td>DF</td>\n",
       "      <td>4305</td>\n",
       "      <td>2.010</td>\n",
       "      <td>1757</td>\n",
       "      <td>3.634</td>\n",
       "    </tr>\n",
       "    <tr>\n",
       "      <th>7</th>\n",
       "      <td>GO</td>\n",
       "      <td>2388</td>\n",
       "      <td>1.115</td>\n",
       "      <td>929</td>\n",
       "      <td>1.922</td>\n",
       "    </tr>\n",
       "  </tbody>\n",
       "</table>\n",
       "</div>"
      ],
      "text/plain": [
       "  Estado   leads  percentual_leads  Quantidade de Anúncios  \\\n",
       "0     SP  151061            70.527                   22836   \n",
       "3     PR    9509             4.440                    4379   \n",
       "4     SC    6532             3.050                    3719   \n",
       "1     RJ   15175             7.085                    3714   \n",
       "2     MG    9906             4.625                    3228   \n",
       "5     RS    4772             2.228                    2543   \n",
       "6     DF    4305             2.010                    1757   \n",
       "7     GO    2388             1.115                     929   \n",
       "\n",
       "   percentual_anuncios  \n",
       "0               47.234  \n",
       "3                9.057  \n",
       "4                7.692  \n",
       "1                7.682  \n",
       "2                6.677  \n",
       "5                5.260  \n",
       "6                3.634  \n",
       "7                1.922  "
      ]
     },
     "execution_count": 45,
     "metadata": {},
     "output_type": "execute_result"
    }
   ],
   "source": [
    "# Unindo base das quantidade de Anuncios e Leads por UF\n",
    "\n",
    "anuncios_leads_uf = pd.merge(leads_uf, qtde_anuncios_uf, left_on='Estado', right_on = 'Estado')\n",
    "anuncios_leads_uf.query('Estado != \"N/A\" and leads > 400', inplace=True)\n",
    "anuncios_leads_uf = anuncios_leads_uf.nlargest(10, columns='Quantidade de Anúncios') \n",
    "anuncios_leads_uf # conferindo"
   ]
  },
  {
   "cell_type": "code",
   "execution_count": 46,
   "metadata": {},
   "outputs": [
    {
     "data": {
      "image/png": "[encoded data removed]",
      "text/plain": [
       "<Figure size 1080x720 with 2 Axes>"
      ]
     },
     "metadata": {},
     "output_type": "display_data"
    }
   ],
   "source": [
    "# Plotagem gráfica\n",
    "\n",
    "x = anuncios_leads_uf['Estado'] \n",
    "y1 = anuncios_leads_uf['percentual_leads']\n",
    "y2 = anuncios_leads_uf['percentual_anuncios']\n",
    "fig, ax = plt.subplots(figsize = (15, 10)) \n",
    "plt.title('Proporção de Leads x Anúncios por UFs Selecionadas', fontsize=17, loc='left') \n",
    "ax2 = ax.twinx() \n",
    "ax.bar(x, y1, color = 'blue', align='edge', width=0.6) \n",
    "ax2.bar(x, y2, color = 'purple', width=0.4) \n",
    "ax.set_xlabel(' ') \n",
    "ax.set_ylabel('Percentual de Leads', color = 'purple',fontsize=15)\n",
    "ax2.set_ylabel('Percentual de Anúncios', color = 'blue',fontsize=15) \n",
    "plt.tight_layout() \n",
    "plt.show() "
   ]
  },
  {
   "cell_type": "markdown",
   "metadata": {},
   "source": [
    "5. Em relação ao ano do veículo, quais as quantidades de leads gerados?"
   ]
  },
  {
   "cell_type": "code",
   "execution_count": 47,
   "metadata": {},
   "outputs": [
    {
     "data": {
      "text/html": [
       "<div>\n",
       "<style scoped>\n",
       "    .dataframe tbody tr th:only-of-type {\n",
       "        vertical-align: middle;\n",
       "    }\n",
       "\n",
       "    .dataframe tbody tr th {\n",
       "        vertical-align: top;\n",
       "    }\n",
       "\n",
       "    .dataframe thead th {\n",
       "        text-align: right;\n",
       "    }\n",
       "</style>\n",
       "<table border=\"1\" class=\"dataframe\">\n",
       "  <thead>\n",
       "    <tr style=\"text-align: right;\">\n",
       "      <th></th>\n",
       "      <th>Ano Modelo</th>\n",
       "      <th>leads</th>\n",
       "    </tr>\n",
       "  </thead>\n",
       "  <tbody>\n",
       "    <tr>\n",
       "      <th>58</th>\n",
       "      <td>2015</td>\n",
       "      <td>24461</td>\n",
       "    </tr>\n",
       "    <tr>\n",
       "      <th>57</th>\n",
       "      <td>2014</td>\n",
       "      <td>24049</td>\n",
       "    </tr>\n",
       "    <tr>\n",
       "      <th>56</th>\n",
       "      <td>2013</td>\n",
       "      <td>22186</td>\n",
       "    </tr>\n",
       "    <tr>\n",
       "      <th>55</th>\n",
       "      <td>2012</td>\n",
       "      <td>19488</td>\n",
       "    </tr>\n",
       "    <tr>\n",
       "      <th>60</th>\n",
       "      <td>2017</td>\n",
       "      <td>18160</td>\n",
       "    </tr>\n",
       "    <tr>\n",
       "      <th>...</th>\n",
       "      <td>...</td>\n",
       "      <td>...</td>\n",
       "    </tr>\n",
       "    <tr>\n",
       "      <th>6</th>\n",
       "      <td>1963</td>\n",
       "      <td>2</td>\n",
       "    </tr>\n",
       "    <tr>\n",
       "      <th>4</th>\n",
       "      <td>1961</td>\n",
       "      <td>2</td>\n",
       "    </tr>\n",
       "    <tr>\n",
       "      <th>7</th>\n",
       "      <td>1964</td>\n",
       "      <td>1</td>\n",
       "    </tr>\n",
       "    <tr>\n",
       "      <th>3</th>\n",
       "      <td>1959</td>\n",
       "      <td>1</td>\n",
       "    </tr>\n",
       "    <tr>\n",
       "      <th>2</th>\n",
       "      <td>1958</td>\n",
       "      <td>0</td>\n",
       "    </tr>\n",
       "  </tbody>\n",
       "</table>\n",
       "<p>63 rows × 2 columns</p>\n",
       "</div>"
      ],
      "text/plain": [
       "    Ano Modelo  leads\n",
       "58        2015  24461\n",
       "57        2014  24049\n",
       "56        2013  22186\n",
       "55        2012  19488\n",
       "60        2017  18160\n",
       "..         ...    ...\n",
       "6         1963      2\n",
       "4         1961      2\n",
       "7         1964      1\n",
       "3         1959      1\n",
       "2         1958      0\n",
       "\n",
       "[63 rows x 2 columns]"
      ]
     },
     "execution_count": 47,
     "metadata": {},
     "output_type": "execute_result"
    }
   ],
   "source": [
    "# Gerando dados de interesse\n",
    "leads_anoModelo = pd.DataFrame(dados.groupby(['ano_modelo'])['leads'].sum()).reset_index()\n",
    "leads_anoModelo.rename(columns= {'ano_modelo' : 'Ano Modelo'}, inplace= True)\n",
    "leads_anoModelo = leads_anoModelo.sort_values(by='leads',ascending=False)\n",
    "leads_anoModelo"
   ]
  },
  {
   "cell_type": "code",
   "execution_count": 48,
   "metadata": {},
   "outputs": [
    {
     "data": {
      "image/png": "[encoded data removed]",
      "text/plain": [
       "<Figure size 1440x864 with 1 Axes>"
      ]
     },
     "metadata": {},
     "output_type": "display_data"
    }
   ],
   "source": [
    "# Ordenando Dados para Aplicação visual\n",
    "leads_anoModelo = leads_anoModelo.query('leads > 400')\n",
    "# Plotagem Gráfica: \n",
    "g5_anoModelo = sns.barplot(x=\"Ano Modelo\", y = 'leads', palette=\"mako_r\", data=leads_anoModelo, orient = \"v\", alpha = 1)\n",
    "g5_anoModelo.figure.set_size_inches(20,12)\n",
    "plt.title('Quantidade de Leads Gerados pelo Ano do Veículo*', fontsize = 18, loc='left')\n",
    "plt.ylabel(' ')\n",
    "plt.xlabel('Ano do Modelo', fontsize=15)\n",
    "plt.xticks(fontsize = 15, rotation = 45)\n",
    "plt.yticks(fontsize = 15)\n",
    "plt.hlines(leads_anoModelo['leads'].mean(), -0.5, 25, colors='red', linestyles='--')\n",
    "plt.text(x=1, y=9000, s='Média do Grupo Selecionado', fontsize=15, alpha=1)\n",
    "plt.text(x=-2, y=-2500, s='*Considerando somatório de Leads acima de 400', fontsize=12, alpha=1)\n",
    "sns.despine (left = True)\n",
    "sns.set_style('dark')"
   ]
  },
  {
   "cell_type": "markdown",
   "metadata": {},
   "source": [
    "6. Com base no modelo, quais as quantidades de visualizações dos anúncios e leads?"
   ]
  },
  {
   "cell_type": "code",
   "execution_count": 49,
   "metadata": {},
   "outputs": [],
   "source": [
    "# Gerando dados de interesse\n",
    "leads_views_prio = pd.DataFrame(dados.groupby(['prioridade'])['views','leads'].sum().reset_index())\n",
    "leads_views_prio = leads_views_prio.sort_values(by='leads')"
   ]
  },
  {
   "cell_type": "code",
   "execution_count": 50,
   "metadata": {},
   "outputs": [],
   "source": [
    "# Renomenado registros\n",
    "leads_views_prio['prioridade'] = leads_views_prio['prioridade'].replace(1,'Baixa')\n",
    "leads_views_prio['prioridade'] = leads_views_prio['prioridade'].replace(2,'Média')\n",
    "leads_views_prio['prioridade'] = leads_views_prio['prioridade'].replace(3,'Alta')"
   ]
  },
  {
   "cell_type": "code",
   "execution_count": 51,
   "metadata": {},
   "outputs": [
    {
     "data": {
      "text/html": [
       "<div>\n",
       "<style scoped>\n",
       "    .dataframe tbody tr th:only-of-type {\n",
       "        vertical-align: middle;\n",
       "    }\n",
       "\n",
       "    .dataframe tbody tr th {\n",
       "        vertical-align: top;\n",
       "    }\n",
       "\n",
       "    .dataframe thead th {\n",
       "        text-align: right;\n",
       "    }\n",
       "</style>\n",
       "<table border=\"1\" class=\"dataframe\">\n",
       "  <thead>\n",
       "    <tr style=\"text-align: right;\">\n",
       "      <th></th>\n",
       "      <th>prioridade</th>\n",
       "      <th>views</th>\n",
       "      <th>leads</th>\n",
       "    </tr>\n",
       "  </thead>\n",
       "  <tbody>\n",
       "    <tr>\n",
       "      <th>1</th>\n",
       "      <td>Média</td>\n",
       "      <td>706124</td>\n",
       "      <td>24723</td>\n",
       "    </tr>\n",
       "    <tr>\n",
       "      <th>0</th>\n",
       "      <td>Baixa</td>\n",
       "      <td>3431396</td>\n",
       "      <td>63290</td>\n",
       "    </tr>\n",
       "    <tr>\n",
       "      <th>2</th>\n",
       "      <td>Alta</td>\n",
       "      <td>17465644</td>\n",
       "      <td>126176</td>\n",
       "    </tr>\n",
       "  </tbody>\n",
       "</table>\n",
       "</div>"
      ],
      "text/plain": [
       "  prioridade     views   leads\n",
       "1      Média    706124   24723\n",
       "0      Baixa   3431396   63290\n",
       "2       Alta  17465644  126176"
      ]
     },
     "execution_count": 51,
     "metadata": {},
     "output_type": "execute_result"
    }
   ],
   "source": [
    "leads_views_prio.head()"
   ]
  },
  {
   "cell_type": "code",
   "execution_count": 52,
   "metadata": {},
   "outputs": [
    {
     "data": {
      "image/png": "[encoded data removed]",
      "text/plain": [
       "<Figure size 1080x720 with 1 Axes>"
      ]
     },
     "metadata": {},
     "output_type": "display_data"
    }
   ],
   "source": [
    "# Plot gráfico:\n",
    "\n",
    "g6_prioridades = sns.barplot(y=\"prioridade\", x = 'leads', palette='Set2', data=leads_views_prio, orient = \"h\")\n",
    "g6_prioridades.figure.set_size_inches(15,10)\n",
    "plt.title('Quantidade de Leads Gerados por Prioridade do Anúncio', fontsize = 18, loc='left')\n",
    "plt.ylabel(' ')\n",
    "plt.xlabel(' ')\n",
    "plt.yticks(fontsize = 15)\n",
    "sns.despine (left = True)\n",
    "sns.set_style('dark')"
   ]
  },
  {
   "cell_type": "markdown",
   "metadata": {},
   "source": [
    "As prioridades dos anúncios impactam nas visualizações dos mesmos?"
   ]
  },
  {
   "cell_type": "code",
   "execution_count": 53,
   "metadata": {},
   "outputs": [
    {
     "data": {
      "image/png": "[encoded data removed]",
      "text/plain": [
       "<Figure size 1080x720 with 1 Axes>"
      ]
     },
     "metadata": {},
     "output_type": "display_data"
    }
   ],
   "source": [
    "# Plot:\n",
    "g7_prioridades = sns.barplot(y=\"prioridade\", x = 'views', palette='Set2', data=leads_views_prio, orient = \"h\")\n",
    "g7_prioridades.figure.set_size_inches(15,10)\n",
    "plt.title('Quantidade de Visualizações Geradas por Prioridade do Anúncio', fontsize = 18, loc='left')\n",
    "plt.ylabel(' ')\n",
    "plt.xlabel(' ')\n",
    "plt.yticks(fontsize = 15)\n",
    "sns.despine (left = True)\n",
    "sns.set_style('dark')"
   ]
  },
  {
   "cell_type": "code",
   "execution_count": 54,
   "metadata": {},
   "outputs": [
    {
     "data": {
      "text/plain": [
       "3    37490\n",
       "1     8492\n",
       "2     2365\n",
       "Name: prioridade, dtype: int64"
      ]
     },
     "execution_count": 54,
     "metadata": {},
     "output_type": "execute_result"
    }
   ],
   "source": [
    "dados['prioridade'].value_counts()"
   ]
  },
  {
   "cell_type": "markdown",
   "metadata": {},
   "source": [
    "### Impressões e Considerações:\n",
    "\n",
    "1. Levando em consideração a geração de leads, a marca do veículo e seu modelo influenciam na quantidade de interesse produzido. Podemos observar esta informação nos gráficos 1 e 2, que mostram o somatório de leads que cada marca e modelo produzem em relação a média do grupo. Vale observar que esta média é calculada com base no filtro aplicado para gerar este gráfico, ou seja, a média de leads das 20 maiores respectivas características. Possuímos apenas 7 marcas e 8 modelos que performam acima da média de geração de leads e elas são responsavéis pelo maior percentual de interesse gerados em suas respectivas categorias. \n",
    "\n",
    "2. Analisando geograficamente podemos constatar a larga predominância do Estado e da Cidade de São Paulo na geração de leads dos anúncios. Mais de 70% dos Leads gerados estão no Estado de São Paulo quando comparado com os demais Estados, similiar as comparações entre a cidade de São Paulo e demais municípios. Ao comparar a quantidade de anúncios e leads gerados por UF, podemos perceber que a ordem não inverte, e São paulo segue sendo o Estado com mais anúncios criados e leads gerados. Neste ponto, Paraná possui maior quantidade de anúncios que Rio de Janeiro e Minas Gerais, mas menor número de leads gerados pelos seus pares.\n",
    "\n",
    "3. Quando analisamos o ano do veículo anunciado algumas informações importantes devem ser destacadas. Carros com modelos abaixo de 2009 geram uma menor quantidade de leads, e isto é mais intenso para modelos abaixo do ano 2000. Do gráfico 5, podemos inferir que modelos entre 2010 e 2018 possuem a maior taxa de geração de interesse, sendo os únicos exemplares a ficarem significativamente acima da média do grupo. Para este exemplo, filtramos apenas os modelos com leads > 400 para melhor apresentação visual. \n",
    "\n",
    "4. Por fim, levando em consideração a prioridade dos anúncios podemos observar que há uma alta predominância de Leads e Visualizações naqueles anúncios de baixa prioridade em relação aos de média e alta. Isto é um problema? Aparentemente não, haja vista que a grande maioria dos anúncios do dataset sejam da categoria 'baixa prioridade', o que por si só poderia explicar este padrão observado. "
   ]
  },
  {
   "cell_type": "markdown",
   "metadata": {},
   "source": [
    "## Parte 2: Modelagem dos Classificadores e Regressores"
   ]
  },
  {
   "cell_type": "markdown",
   "metadata": {},
   "source": [
    "### Feature engineering:\n",
    "\n",
    "Objetivos:\n",
    "\n",
    "1. Target enconding para features com alta cardinalidade\n",
    "\n",
    "2. Aplicar método de Mutual Information para selecionar features com maior poder preditivo\n",
    "\n",
    "3. Criar novas features baseadas em agrupamento de anúncios (kmeans) "
   ]
  },
  {
   "cell_type": "code",
   "execution_count": 55,
   "metadata": {},
   "outputs": [
    {
     "data": {
      "text/plain": [
       "Index(['Unnamed: 0', 'cod_anuncio', 'cod_cliente', 'cod_tipo_pessoa',\n",
       "       'prioridade', 'leads', 'views', 'cliques_telefone*',\n",
       "       'cod_marca_veiculo', 'cod_modelo_veiculo', 'cod_versao_veiculo',\n",
       "       'ano_modelo', 'cep_2dig', 'uf_cidade', 'vlr_anuncio', 'qtd_fotos',\n",
       "       'km_veiculo', 'vlr_mercado', 'flg_unico_dono', 'flg_licenciado',\n",
       "       'flg_ipva_pago', 'flg_todas_revisoes_concessionaria',\n",
       "       'flg_todas_revisoes_agenda_veiculo', 'flg_garantia_fabrica',\n",
       "       'flg_blindado', 'flg_aceita_troca', 'flg_adaptado_pcd', 'combustivel',\n",
       "       'cambio', 'portas', 'alarme', 'airbag', 'arquente', 'bancocouro',\n",
       "       'arcondic', 'abs', 'desembtras', 'travaeletr', 'vidroseletr',\n",
       "       'rodasliga', 'sensorchuva', 'sensorestacion', 'uf', 'cidade',\n",
       "       'has_leads'],\n",
       "      dtype='object')"
      ]
     },
     "execution_count": 55,
     "metadata": {},
     "output_type": "execute_result"
    }
   ],
   "source": [
    "dados.columns"
   ]
  },
  {
   "cell_type": "code",
   "execution_count": 56,
   "metadata": {},
   "outputs": [],
   "source": [
    "# removendo colunas que nao adicionam informação relevante\n",
    "dados.drop(['uf_cidade','cod_anuncio','cod_cliente','cod_tipo_pessoa','cod_versao_veiculo','cep_2dig','Unnamed: 0'],axis=1,inplace=True)"
   ]
  },
  {
   "cell_type": "markdown",
   "metadata": {},
   "source": [
    "### Objetivo 1: Target encoding para features de alta cardinalidade (n_class > 15)\n",
    "\n",
    "Iremos aplicar transformações aplicando a média de leads gerados por Cidade, Uf, Combustível, Marca e Modelo do anúncio pelo método de Smoothing.\n",
    "\n",
    "Obs: Para aplicação desta técnica é necessário sacrificar uma parte dos dados para o devido treinamento do encoding (e evitar overfitting). Iremos utilizar 20% dos dados para este objetivo, portanto o treinamento posterior do nosso modelo será feito com um dataset de 75% do tamanho do dataset original"
   ]
  },
  {
   "cell_type": "code",
   "execution_count": 57,
   "metadata": {},
   "outputs": [],
   "source": [
    "dados['has_leads'] = np.where(dados['leads']>0, 1, 0)"
   ]
  },
  {
   "cell_type": "code",
   "execution_count": 58,
   "metadata": {},
   "outputs": [
    {
     "data": {
      "text/plain": [
       "flg_garantia_fabrica      3\n",
       "flg_adaptado_pcd          3\n",
       "combustivel              10\n",
       "cambio                    7\n",
       "portas                    4\n",
       "alarme                    2\n",
       "airbag                    3\n",
       "arquente                  2\n",
       "bancocouro                2\n",
       "arcondic                  2\n",
       "abs                       2\n",
       "desembtras                2\n",
       "travaeletr                2\n",
       "vidroseletr               2\n",
       "rodasliga                 2\n",
       "sensorchuva               2\n",
       "sensorestacion            2\n",
       "uf                       28\n",
       "cidade                  927\n",
       "dtype: int64"
      ]
     },
     "execution_count": 58,
     "metadata": {},
     "output_type": "execute_result"
    }
   ],
   "source": [
    "from category_encoders import MEstimateEncoder\n",
    "\n",
    "dados.select_dtypes([\"object\"]).nunique()"
   ]
  },
  {
   "cell_type": "code",
   "execution_count": 59,
   "metadata": {},
   "outputs": [
    {
     "data": {
      "text/plain": [
       "Index(['prioridade', 'leads', 'views', 'cliques_telefone*',\n",
       "       'cod_marca_veiculo', 'cod_modelo_veiculo', 'ano_modelo', 'vlr_anuncio',\n",
       "       'qtd_fotos', 'km_veiculo', 'vlr_mercado', 'flg_unico_dono',\n",
       "       'flg_licenciado', 'flg_ipva_pago', 'flg_todas_revisoes_concessionaria',\n",
       "       'flg_todas_revisoes_agenda_veiculo', 'flg_garantia_fabrica',\n",
       "       'flg_blindado', 'flg_aceita_troca', 'flg_adaptado_pcd', 'combustivel',\n",
       "       'cambio', 'portas', 'alarme', 'airbag', 'arquente', 'bancocouro',\n",
       "       'arcondic', 'abs', 'desembtras', 'travaeletr', 'vidroseletr',\n",
       "       'rodasliga', 'sensorchuva', 'sensorestacion', 'uf', 'cidade',\n",
       "       'has_leads'],\n",
       "      dtype='object')"
      ]
     },
     "execution_count": 59,
     "metadata": {},
     "output_type": "execute_result"
    }
   ],
   "source": [
    "dados.columns"
   ]
  },
  {
   "cell_type": "code",
   "execution_count": 60,
   "metadata": {},
   "outputs": [
    {
     "data": {
      "text/plain": [
       "cod_marca_veiculo        74\n",
       "cod_modelo_veiculo      655\n",
       "flg_garantia_fabrica      3\n",
       "flg_adaptado_pcd          3\n",
       "combustivel              10\n",
       "cambio                    7\n",
       "portas                    4\n",
       "alarme                    2\n",
       "airbag                    3\n",
       "arquente                  2\n",
       "bancocouro                2\n",
       "arcondic                  2\n",
       "abs                       2\n",
       "desembtras                2\n",
       "travaeletr                2\n",
       "vidroseletr               2\n",
       "rodasliga                 2\n",
       "sensorchuva               2\n",
       "sensorestacion            2\n",
       "uf                       28\n",
       "cidade                  927\n",
       "dtype: int64"
      ]
     },
     "execution_count": 60,
     "metadata": {},
     "output_type": "execute_result"
    }
   ],
   "source": [
    "# Alterando tipagem de Marca e Modelo para object\n",
    "\n",
    "filtro = ['cod_marca_veiculo','cod_modelo_veiculo'] # criando filtro\n",
    "dados[filtro] = dados[filtro].astype(object) # aplicando transformação\n",
    "dados.select_dtypes([\"object\"]).nunique()"
   ]
  },
  {
   "cell_type": "code",
   "execution_count": 61,
   "metadata": {},
   "outputs": [],
   "source": [
    "# Separação dos dados para o encoding (20%  dataset)\n",
    "X_encode = dados.sample(frac=0.20, random_state=0)\n",
    "y_encode = X_encode.pop(\"leads\")\n",
    "\n",
    "# Separação para treinar o encoder (75% dataset)\n",
    "X_pretrain = dados.drop(X_encode.index)\n",
    "y = X_pretrain.pop(\"leads\")\n",
    "\n",
    "# Selecionando features a serem transformadas e configurando a suaviação (m)\n",
    "encoder = MEstimateEncoder(cols=['cidade','combustivel','cod_marca_veiculo','cod_modelo_veiculo','uf'], m=5)\n",
    "\n",
    "# Realizando fit\n",
    "encoder.fit(X_encode,y_encode)\n",
    "\n",
    "# Aplicando transformação nos dados de treino\n",
    "X = encoder.transform(X_pretrain, y)"
   ]
  },
  {
   "cell_type": "code",
   "execution_count": 62,
   "metadata": {},
   "outputs": [
    {
     "data": {
      "text/html": [
       "<div>\n",
       "<style scoped>\n",
       "    .dataframe tbody tr th:only-of-type {\n",
       "        vertical-align: middle;\n",
       "    }\n",
       "\n",
       "    .dataframe tbody tr th {\n",
       "        vertical-align: top;\n",
       "    }\n",
       "\n",
       "    .dataframe thead th {\n",
       "        text-align: right;\n",
       "    }\n",
       "</style>\n",
       "<table border=\"1\" class=\"dataframe\">\n",
       "  <thead>\n",
       "    <tr style=\"text-align: right;\">\n",
       "      <th></th>\n",
       "      <th>prioridade</th>\n",
       "      <th>views</th>\n",
       "      <th>cliques_telefone*</th>\n",
       "      <th>cod_marca_veiculo</th>\n",
       "      <th>cod_modelo_veiculo</th>\n",
       "      <th>ano_modelo</th>\n",
       "      <th>vlr_anuncio</th>\n",
       "      <th>qtd_fotos</th>\n",
       "      <th>km_veiculo</th>\n",
       "      <th>vlr_mercado</th>\n",
       "      <th>...</th>\n",
       "      <th>abs</th>\n",
       "      <th>desembtras</th>\n",
       "      <th>travaeletr</th>\n",
       "      <th>vidroseletr</th>\n",
       "      <th>rodasliga</th>\n",
       "      <th>sensorchuva</th>\n",
       "      <th>sensorestacion</th>\n",
       "      <th>uf</th>\n",
       "      <th>cidade</th>\n",
       "      <th>has_leads</th>\n",
       "    </tr>\n",
       "  </thead>\n",
       "  <tbody>\n",
       "    <tr>\n",
       "      <th>1</th>\n",
       "      <td>3</td>\n",
       "      <td>0</td>\n",
       "      <td>11</td>\n",
       "      <td>2.539</td>\n",
       "      <td>4.968</td>\n",
       "      <td>2002</td>\n",
       "      <td>38800.000</td>\n",
       "      <td>4</td>\n",
       "      <td>33700</td>\n",
       "      <td>40668.754</td>\n",
       "      <td>...</td>\n",
       "      <td>S</td>\n",
       "      <td>S</td>\n",
       "      <td>S</td>\n",
       "      <td>S</td>\n",
       "      <td>S</td>\n",
       "      <td>N</td>\n",
       "      <td>N</td>\n",
       "      <td>6.707</td>\n",
       "      <td>10.422</td>\n",
       "      <td>1</td>\n",
       "    </tr>\n",
       "    <tr>\n",
       "      <th>2</th>\n",
       "      <td>2</td>\n",
       "      <td>0</td>\n",
       "      <td>14</td>\n",
       "      <td>6.504</td>\n",
       "      <td>3.720</td>\n",
       "      <td>1995</td>\n",
       "      <td>44000.000</td>\n",
       "      <td>8</td>\n",
       "      <td>105000</td>\n",
       "      <td>40668.754</td>\n",
       "      <td>...</td>\n",
       "      <td>N</td>\n",
       "      <td>N</td>\n",
       "      <td>S</td>\n",
       "      <td>S</td>\n",
       "      <td>S</td>\n",
       "      <td>N</td>\n",
       "      <td>N</td>\n",
       "      <td>6.707</td>\n",
       "      <td>10.422</td>\n",
       "      <td>1</td>\n",
       "    </tr>\n",
       "    <tr>\n",
       "      <th>3</th>\n",
       "      <td>2</td>\n",
       "      <td>0</td>\n",
       "      <td>11</td>\n",
       "      <td>3.460</td>\n",
       "      <td>4.496</td>\n",
       "      <td>1995</td>\n",
       "      <td>30000.000</td>\n",
       "      <td>6</td>\n",
       "      <td>71240</td>\n",
       "      <td>40668.754</td>\n",
       "      <td>...</td>\n",
       "      <td>S</td>\n",
       "      <td>S</td>\n",
       "      <td>S</td>\n",
       "      <td>S</td>\n",
       "      <td>S</td>\n",
       "      <td>N</td>\n",
       "      <td>N</td>\n",
       "      <td>6.707</td>\n",
       "      <td>10.422</td>\n",
       "      <td>1</td>\n",
       "    </tr>\n",
       "    <tr>\n",
       "      <th>5</th>\n",
       "      <td>2</td>\n",
       "      <td>0</td>\n",
       "      <td>4</td>\n",
       "      <td>3.835</td>\n",
       "      <td>3.312</td>\n",
       "      <td>2000</td>\n",
       "      <td>16000.000</td>\n",
       "      <td>4</td>\n",
       "      <td>0</td>\n",
       "      <td>40668.754</td>\n",
       "      <td>...</td>\n",
       "      <td>N</td>\n",
       "      <td>S</td>\n",
       "      <td>S</td>\n",
       "      <td>S</td>\n",
       "      <td>N</td>\n",
       "      <td>N</td>\n",
       "      <td>N</td>\n",
       "      <td>6.707</td>\n",
       "      <td>10.422</td>\n",
       "      <td>1</td>\n",
       "    </tr>\n",
       "    <tr>\n",
       "      <th>6</th>\n",
       "      <td>2</td>\n",
       "      <td>0</td>\n",
       "      <td>0</td>\n",
       "      <td>5.144</td>\n",
       "      <td>7.240</td>\n",
       "      <td>1998</td>\n",
       "      <td>26000.000</td>\n",
       "      <td>4</td>\n",
       "      <td>0</td>\n",
       "      <td>40668.754</td>\n",
       "      <td>...</td>\n",
       "      <td>S</td>\n",
       "      <td>S</td>\n",
       "      <td>S</td>\n",
       "      <td>S</td>\n",
       "      <td>S</td>\n",
       "      <td>N</td>\n",
       "      <td>N</td>\n",
       "      <td>6.707</td>\n",
       "      <td>10.422</td>\n",
       "      <td>1</td>\n",
       "    </tr>\n",
       "  </tbody>\n",
       "</table>\n",
       "<p>5 rows × 37 columns</p>\n",
       "</div>"
      ],
      "text/plain": [
       "   prioridade  views  cliques_telefone*  cod_marca_veiculo  \\\n",
       "1           3      0                 11              2.539   \n",
       "2           2      0                 14              6.504   \n",
       "3           2      0                 11              3.460   \n",
       "5           2      0                  4              3.835   \n",
       "6           2      0                  0              5.144   \n",
       "\n",
       "   cod_modelo_veiculo  ano_modelo  vlr_anuncio  qtd_fotos  km_veiculo  \\\n",
       "1               4.968        2002    38800.000          4       33700   \n",
       "2               3.720        1995    44000.000          8      105000   \n",
       "3               4.496        1995    30000.000          6       71240   \n",
       "5               3.312        2000    16000.000          4           0   \n",
       "6               7.240        1998    26000.000          4           0   \n",
       "\n",
       "   vlr_mercado  ...  abs  desembtras  travaeletr  vidroseletr  rodasliga  \\\n",
       "1    40668.754  ...    S           S           S            S          S   \n",
       "2    40668.754  ...    N           N           S            S          S   \n",
       "3    40668.754  ...    S           S           S            S          S   \n",
       "5    40668.754  ...    N           S           S            S          N   \n",
       "6    40668.754  ...    S           S           S            S          S   \n",
       "\n",
       "  sensorchuva  sensorestacion    uf cidade  has_leads  \n",
       "1           N               N 6.707 10.422          1  \n",
       "2           N               N 6.707 10.422          1  \n",
       "3           N               N 6.707 10.422          1  \n",
       "5           N               N 6.707 10.422          1  \n",
       "6           N               N 6.707 10.422          1  \n",
       "\n",
       "[5 rows x 37 columns]"
      ]
     },
     "execution_count": 62,
     "metadata": {},
     "output_type": "execute_result"
    }
   ],
   "source": [
    "# Agora nossos dados possuem valores médios ponderados de leads gerados para as features transformadas\n",
    "X.head()"
   ]
  },
  {
   "cell_type": "markdown",
   "metadata": {},
   "source": [
    "### Objetivo 2: Seleção de features com Mutual Information"
   ]
  },
  {
   "cell_type": "code",
   "execution_count": 63,
   "metadata": {},
   "outputs": [
    {
     "name": "stdout",
     "output_type": "stream",
     "text": [
      "cliques_telefone*                   0.236\n",
      "km_veiculo                          0.193\n",
      "views                               0.114\n",
      "cidade                              0.049\n",
      "uf                                  0.031\n",
      "flg_aceita_troca                    0.030\n",
      "flg_licenciado                      0.028\n",
      "prioridade                          0.026\n",
      "flg_ipva_pago                       0.025\n",
      "cod_marca_veiculo                   0.016\n",
      "flg_todas_revisoes_agenda_veiculo   0.016\n",
      "flg_todas_revisoes_concessionaria   0.015\n",
      "combustivel                         0.015\n",
      "cod_modelo_veiculo                  0.013\n",
      "vlr_anuncio                         0.012\n",
      "vlr_mercado                         0.012\n",
      "qtd_fotos                           0.011\n",
      "bancocouro                          0.009\n",
      "flg_unico_dono                      0.009\n",
      "ano_modelo                          0.008\n",
      "cambio                              0.007\n",
      "rodasliga                           0.007\n",
      "alarme                              0.006\n",
      "sensorchuva                         0.006\n",
      "arquente                            0.006\n",
      "flg_garantia_fabrica                0.005\n",
      "sensorestacion                      0.004\n",
      "desembtras                          0.003\n",
      "airbag                              0.003\n",
      "flg_adaptado_pcd                    0.002\n",
      "portas                              0.002\n",
      "flg_blindado                        0.002\n",
      "vidroseletr                         0.001\n",
      "travaeletr                          0.000\n",
      "arcondic                            0.000\n",
      "abs                                 0.000\n",
      "Name: MI Scores, dtype: float64\n"
     ]
    }
   ],
   "source": [
    "from sklearn.feature_selection import mutual_info_regression\n",
    "\n",
    "# Definindo função para calculo do score de M.I\n",
    "def calculo_mi_score(X, y):\n",
    "    X = X.drop(['has_leads'],axis=1)\n",
    "    # Todas as variáveis categorias devem ter valor discreto\n",
    "    for colname in X.select_dtypes([\"object\", \"category\"]):\n",
    "        X[colname], _ = X[colname].factorize()\n",
    "    # Forçando que as variáveis discretas tenham valores inteiros\n",
    "    discrete_features = [pd.api.types.is_integer_dtype(t) for t in X.dtypes]\n",
    "    # Instanciando método de M.I e retornando valores em order decrescente  \n",
    "    mi_scores = mutual_info_regression(X, y, discrete_features=discrete_features, random_state=0)\n",
    "    mi_scores = pd.Series(mi_scores, name=\"MI Scores\", index=X.columns)\n",
    "    mi_scores = mi_scores.sort_values(ascending=False)\n",
    "    return mi_scores\n",
    "\n",
    "mi_scores = calculo_mi_score(X, y)\n",
    "print(mi_scores)"
   ]
  },
  {
   "cell_type": "markdown",
   "metadata": {},
   "source": [
    "Iremos exluir do nosso dataset aquelas features com `mi_score` menores que 0.01, pois elas adicionam pouca ou nenhuma informação ao nosso target"
   ]
  },
  {
   "cell_type": "code",
   "execution_count": 64,
   "metadata": {},
   "outputs": [],
   "source": [
    "X.drop(['cambio', 'ano_modelo','bancocouro','flg_garantia_fabrica','alarme','arquente',\\\n",
    "'flg_unico_dono','sensorchuva','desembtras','rodasliga','flg_blindado','portas','flg_adaptado_pcd',\\\n",
    "'airbag','sensorestacion','vidroseletr','travaeletr','abs','arcondic'],axis=1,inplace=True)"
   ]
  },
  {
   "cell_type": "markdown",
   "metadata": {},
   "source": [
    "### Objetivo 3: Utilizando Kmeans para criar features com base em grupos de anúncios similares"
   ]
  },
  {
   "cell_type": "code",
   "execution_count": 65,
   "metadata": {},
   "outputs": [
    {
     "data": {
      "text/plain": [
       "Index(['prioridade', 'views', 'cliques_telefone*', 'cod_marca_veiculo',\n",
       "       'cod_modelo_veiculo', 'vlr_anuncio', 'qtd_fotos', 'km_veiculo',\n",
       "       'vlr_mercado', 'flg_licenciado', 'flg_ipva_pago',\n",
       "       'flg_todas_revisoes_concessionaria',\n",
       "       'flg_todas_revisoes_agenda_veiculo', 'flg_aceita_troca', 'combustivel',\n",
       "       'uf', 'cidade', 'has_leads'],\n",
       "      dtype='object')"
      ]
     },
     "execution_count": 65,
     "metadata": {},
     "output_type": "execute_result"
    }
   ],
   "source": [
    "X.columns"
   ]
  },
  {
   "cell_type": "code",
   "execution_count": 66,
   "metadata": {},
   "outputs": [
    {
     "data": {
      "text/plain": [
       "1    0\n",
       "2    3\n",
       "3    0\n",
       "5    3\n",
       "6    0\n",
       "Name: Cluster, dtype: int32"
      ]
     },
     "execution_count": 66,
     "metadata": {},
     "output_type": "execute_result"
    }
   ],
   "source": [
    "from sklearn.cluster import KMeans\n",
    "features = X.columns\n",
    "\n",
    "# Aplicando padronização: kmeans é sensivel as escalas\n",
    "X_scaled = X.loc[:, features]\n",
    "X_scaled = (X_scaled - X_scaled.mean(axis=0)) / X_scaled.std(axis=0)\n",
    "\n",
    "X_scaled.fillna(0,axis=0,inplace=True) # a transformação cria zeros e o phyton reconhece como NaN\n",
    "\n",
    "# Realizando Fit\n",
    "kmeans = KMeans(n_clusters=5, random_state=0)\n",
    "X[\"Cluster\"] = kmeans.fit_predict(X_scaled)\n",
    "X[\"Cluster\"].head()"
   ]
  },
  {
   "cell_type": "code",
   "execution_count": 67,
   "metadata": {},
   "outputs": [
    {
     "data": {
      "image/png": "[encoded data removed]",
      "text/plain": [
       "<Figure size 1080x576 with 1 Axes>"
      ]
     },
     "metadata": {},
     "output_type": "display_data"
    }
   ],
   "source": [
    "# Relação entre o target e a principal feature de mi_score por Cluster\n",
    "g1 = sns.scatterplot(y='leads',x='cliques_telefone*',data=dados,hue=X['Cluster'])\n",
    "g1.figure.set_size_inches(15,8)\n"
   ]
  },
  {
   "cell_type": "markdown",
   "metadata": {},
   "source": [
    "### Criação e Validação dos Modelos\n",
    "\n",
    "Disclaimer: iremos utilizar o método de validação cruzada estratificada, pois nosso target é desbalanceado. Pelo mesmo motivo iremos utilizar a métrica de ``f1score`` e ``AUPRC`` para os modelos de classificação. \n",
    "\n",
    "Objetivos:\n",
    "\n",
    "1. Primeiro irmeos construir um modelo de classificação para prever se um anúncio terá um lead ou não;\n",
    "\n",
    "2. Depois criaremos um modelo que seja capaz de prever a quantidade de lead gerado por anúncio."
   ]
  },
  {
   "cell_type": "code",
   "execution_count": 68,
   "metadata": {},
   "outputs": [],
   "source": [
    "# Redefinindo o target para a variável has_leads\n",
    "y = X_pretrain.pop(\"has_leads\")"
   ]
  },
  {
   "cell_type": "code",
   "execution_count": 69,
   "metadata": {},
   "outputs": [],
   "source": [
    "# Aplicando split (valerá para todos os modelos)\n",
    "from sklearn.model_selection import StratifiedKFold\n",
    "from sklearn.compose import ColumnTransformer\n",
    "from sklearn.pipeline import Pipeline\n",
    "from sklearn.impute import SimpleImputer\n",
    "from sklearn.preprocessing import StandardScaler\n",
    "from sklearn.preprocessing import Normalizer\n",
    "from sklearn.preprocessing import OneHotEncoder\n",
    "from sklearn.metrics import f1_score, accuracy_score, average_precision_score\n",
    "from sklearn.metrics import classification_report\n",
    "\n",
    "separador = StratifiedKFold(n_splits=4, shuffle=True, random_state=0)\n",
    "\n",
    "for treino_index, val_index in separador.split(X, y):\n",
    "  X_treino, X_teste = X.iloc[treino_index, :], X.iloc[val_index, :]\n",
    "  y_treino, y_teste = y.iloc[treino_index], y.iloc[val_index]"
   ]
  },
  {
   "cell_type": "markdown",
   "metadata": {},
   "source": [
    "### Modelos de Classificação: \n",
    "\n",
    "1. Iremos criar múltiplos modelos baseado em árvores, distância e linear para comparar desempenho."
   ]
  },
  {
   "cell_type": "markdown",
   "metadata": {},
   "source": [
    "1º MODELO: RandomForest"
   ]
  },
  {
   "cell_type": "code",
   "execution_count": 70,
   "metadata": {},
   "outputs": [],
   "source": [
    "from sklearn.ensemble import RandomForestClassifier\n",
    "\n",
    "# Lista de features categoricas\n",
    "cols_categorica = [coluna for coluna in X_treino.columns if X_treino[coluna].dtype == \"object\"]\n",
    "\n",
    "# Lista de features numéricas\n",
    "cols_numerica = [coluna for coluna in X_treino.columns if X_treino[coluna].dtype in ['int64', 'float64']]\n",
    "\n",
    "# Instanciando transformador numérico: tratamento de NaN's ja realizado + scaler (normalização)\n",
    "transformador_numerico = Pipeline(steps=[('scaler', StandardScaler())\n",
    "])\n",
    "\n",
    "# Instanciando transformador categorico\n",
    "transformador_categorico = Pipeline(steps=[\n",
    "    ('imputer', SimpleImputer(strategy='most_frequent')),\n",
    "    ('onehot', OneHotEncoder(handle_unknown='ignore'))\n",
    "])\n",
    "\n",
    "# Definindo as transformações a serem realizadas\n",
    "processador = ColumnTransformer(\n",
    "    transformers=[\n",
    "        ('num', transformador_numerico, cols_numerica),\n",
    "        ('cat', transformador_categorico, cols_categorica)\n",
    "    ])\n",
    "\n",
    "# Selecionando o 1º modelo de Classificação\n",
    "modelo_RF = RandomForestClassifier(random_state=0)\n",
    "\n",
    "# Criando pipeline (transformadores + modelo)\n",
    "pipeline_RF = Pipeline(steps=[('preprocessor', processador),\n",
    "                              ('model', modelo_RF)\n",
    "                             ])"
   ]
  },
  {
   "cell_type": "code",
   "execution_count": 71,
   "metadata": {},
   "outputs": [
    {
     "name": "stdout",
     "output_type": "stream",
     "text": [
      "Treinamento Concluído\n"
     ]
    }
   ],
   "source": [
    "# Loop para rodar 5 execuções em cada folder criado no split (n_fold = 4)\n",
    "execucoes = 5\n",
    "lista_acuracias = []\n",
    "lista_f1_scores = []\n",
    "lista_aupcr_scores = []\n",
    "\n",
    "for train_index, val_index in separador.split(X, y):\n",
    "    X_treino, X_teste = X.iloc[train_index, :], X.iloc[val_index, :]\n",
    "    y_treino, y_teste = y.iloc[train_index], y.iloc[val_index]\n",
    "    for run in range(execucoes):\n",
    "            \n",
    "      # Treinando o modelo usando o pipeline configurado previamente\n",
    "      pipeline_RF.fit(X_treino, y_treino)\n",
    "      previsao = pipeline_RF.predict(X_teste)\n",
    "      \n",
    "      # Calculando métricas para cada rodada\n",
    "      acc = accuracy_score(y_teste, previsao)\n",
    "      lista_acuracias.append(acc)\n",
    "\n",
    "      _f1_score = f1_score(y_teste, previsao, average='weighted')\n",
    "      lista_f1_scores.append(_f1_score)\n",
    "\n",
    "      aupcr_score = average_precision_score(y_teste, previsao, average='weighted')\n",
    "      lista_aupcr_scores.append(aupcr_score)\n",
    "      \n",
    "print(\"Treinamento Concluído\")"
   ]
  },
  {
   "cell_type": "code",
   "execution_count": 72,
   "metadata": {},
   "outputs": [
    {
     "name": "stdout",
     "output_type": "stream",
     "text": [
      "A acurácia média entre as execuções foi de 77.85% com desvio padrão de 0.0005\n",
      "O F1score médio entre as execuções foi de 68.89% com desvio padrão de 0.0006\n",
      "O AUPRC entre as execuções foi de 78.26% com desvio padrão de 0.0002\n"
     ]
    }
   ],
   "source": [
    "# Calculando média e desvio padrão de acurácia das execuções\n",
    "acc_forest, acc_std_forest = np.array(lista_acuracias).mean(), \\\n",
    "  np.array(lista_acuracias).std()\n",
    "print(f'A acurácia média entre as execuções foi de {round(acc_forest*100,2)}% com desvio padrão de {round(acc_std_forest,4)}')\n",
    "\n",
    " #Calculando média e desvio padrão de f1score das execuções\n",
    "f1_forest, f1_std_forest = np.array(lista_f1_scores).mean(),\\\n",
    " np.array(lista_f1_scores).std()\n",
    "print(f'O F1score médio entre as execuções foi de {round(f1_forest*100,2)}% com desvio padrão de {round(f1_std_forest,4)}')\n",
    "\n",
    "# Calculando média e desvio padrão de AUPRC das execuções\n",
    "aupcr_forest, aupcr_std_forest = np.array(lista_aupcr_scores).mean(),\\\n",
    " np.array(lista_aupcr_scores).std()\n",
    "print(f'O AUPRC entre as execuções foi de {round(aupcr_forest*100,2)}% com desvio padrão de {round(aupcr_std_forest,4)}')"
   ]
  },
  {
   "cell_type": "code",
   "execution_count": 73,
   "metadata": {},
   "outputs": [
    {
     "data": {
      "text/plain": [
       "1    9591\n",
       "0      78\n",
       "dtype: int64"
      ]
     },
     "execution_count": 73,
     "metadata": {},
     "output_type": "execute_result"
    }
   ],
   "source": [
    "# verificando a distribuição de previsões entre as classes\n",
    "pd.Series(previsao).value_counts()"
   ]
  },
  {
   "cell_type": "markdown",
   "metadata": {},
   "source": [
    "Avaliando o desempenho do modelo RandomForest"
   ]
  },
  {
   "cell_type": "code",
   "execution_count": 74,
   "metadata": {},
   "outputs": [
    {
     "name": "stdout",
     "output_type": "stream",
     "text": [
      "              precision    recall  f1-score   support\n",
      "\n",
      "           0       0.28      0.01      0.02      2107\n",
      "           1       0.78      0.99      0.88      7562\n",
      "\n",
      "    accuracy                           0.78      9669\n",
      "   macro avg       0.53      0.50      0.45      9669\n",
      "weighted avg       0.67      0.78      0.69      9669\n",
      "\n"
     ]
    }
   ],
   "source": [
    "print(classification_report(y_teste, previsao))"
   ]
  },
  {
   "cell_type": "markdown",
   "metadata": {},
   "source": [
    "2º Modelo: Regressão Logistica"
   ]
  },
  {
   "cell_type": "code",
   "execution_count": 75,
   "metadata": {},
   "outputs": [],
   "source": [
    "from sklearn.linear_model import LogisticRegression\n",
    "\n",
    "# Lista de features categoricas\n",
    "cols_categorica = [coluna for coluna in X_treino.columns if X_treino[coluna].dtype == \"object\"]\n",
    "\n",
    "# Lista de features numéricas\n",
    "cols_numerica = [coluna for coluna in X_treino.columns if X_treino[coluna].dtype in ['int64', 'float64']]\n",
    "\n",
    "# Instanciando transformador numérico: tratamento de NaN's ja realizado, mas instacioamos aqui a normalização dos dados também\n",
    "transformador_numerico = Pipeline(steps=[('scaler', StandardScaler())])\n",
    "\n",
    "# Instanciando transformador categorico\n",
    "transformador_categorico = Pipeline(steps=[\n",
    "    ('imputer', SimpleImputer(strategy='most_frequent')),\n",
    "    ('onehot', OneHotEncoder(handle_unknown='ignore'))\n",
    "])\n",
    "\n",
    "# Definindo as transformações a serem realizadas\n",
    "processador = ColumnTransformer(\n",
    "    transformers=[\n",
    "        ('num', transformador_numerico, cols_numerica),\n",
    "        ('cat', transformador_categorico, cols_categorica)\n",
    "    ])\n",
    "\n",
    "# Selecionando o 2º modelo de Classificação\n",
    "modelo_RL = LogisticRegression(random_state=0,penalty='l2', class_weight='balanced')\n",
    "\n",
    "# Criando pipeline (transformadores + modelo)\n",
    "pipeline_RL = Pipeline(steps=[('preprocessor', processador),\n",
    "                              ('model', modelo_RL)\n",
    "                             ])"
   ]
  },
  {
   "cell_type": "code",
   "execution_count": 76,
   "metadata": {},
   "outputs": [
    {
     "name": "stdout",
     "output_type": "stream",
     "text": [
      "Treinamento Concluído\n"
     ]
    }
   ],
   "source": [
    "# Loop para rodar 5 execuções em cada folder criado no split (n_fold = 4)\n",
    "execucoes = 5\n",
    "lista_acuracias = []\n",
    "lista_f1_scores = []\n",
    "lista_aupcr_scores = []\n",
    "\n",
    "for train_index, val_index in separador.split(X, y):\n",
    "    X_treino, X_teste = X.iloc[train_index, :], X.iloc[val_index, :]\n",
    "    y_treino, y_teste = y.iloc[train_index], y.iloc[val_index]\n",
    "    for run in range(execucoes):\n",
    "            \n",
    "      # Treinando o modelo usando o pipeline configurado previamente\n",
    "      pipeline_RL.fit(X_treino, y_treino)\n",
    "      previsao = pipeline_RL.predict(X_teste)\n",
    "      \n",
    "      # Calculando métricas para cada rodada\n",
    "      acc = accuracy_score(y_teste, previsao)\n",
    "      lista_acuracias.append(acc)\n",
    "\n",
    "      _f1_score = f1_score(y_teste, previsao, average='weighted')\n",
    "      lista_f1_scores.append(_f1_score)\n",
    "\n",
    "      aupcr_score = average_precision_score(y_teste, previsao, average='weighted')\n",
    "      lista_aupcr_scores.append(aupcr_score)\n",
    "      \n",
    "print(\"Treinamento Concluído\")"
   ]
  },
  {
   "cell_type": "code",
   "execution_count": 77,
   "metadata": {},
   "outputs": [
    {
     "name": "stdout",
     "output_type": "stream",
     "text": [
      "A acurácia média entre as execuções foi de 50.91% com desvio padrão de 0.0013\n",
      "O F1score médio entre as execuções foi de 54.64% com desvio padrão de 0.002\n",
      "O AUPRC entre as execuções foi de 81.17% com desvio padrão de 0.002\n"
     ]
    }
   ],
   "source": [
    "# Calculando média e desvio padrão de acurácia das execuções\n",
    "acc_logistica, acc_std_logistica = np.array(lista_acuracias).mean(), \\\n",
    "  np.array(lista_acuracias).std()\n",
    "print(f'A acurácia média entre as execuções foi de {round(acc_logistica*100,2)}% com desvio padrão de {round(acc_std_logistica,4)}')\n",
    "\n",
    " #Calculando média e desvio padrão de f1score das execuções\n",
    "f1_logistica, f1_std_logistica = np.array(lista_f1_scores).mean(),\\\n",
    " np.array(lista_f1_scores).std()\n",
    "print(f'O F1score médio entre as execuções foi de {round(f1_logistica*100,2)}% com desvio padrão de {round(f1_std_logistica,4)}')\n",
    "\n",
    "# Calculando média e desvio padrão de AUPRC das execuções\n",
    "aupcr_logistica, aupcr_std_logistica = np.array(lista_aupcr_scores).mean(),\\\n",
    " np.array(lista_aupcr_scores).std()\n",
    "print(f'O AUPRC entre as execuções foi de {round(aupcr_logistica*100,2)}% com desvio padrão de {round(aupcr_std_logistica,4)}')"
   ]
  },
  {
   "cell_type": "code",
   "execution_count": 78,
   "metadata": {},
   "outputs": [
    {
     "data": {
      "text/plain": [
       "0    5613\n",
       "1    4056\n",
       "dtype: int64"
      ]
     },
     "execution_count": 78,
     "metadata": {},
     "output_type": "execute_result"
    }
   ],
   "source": [
    "# verificando a distribuição de previsões entre as classes\n",
    "pd.Series(previsao).value_counts()"
   ]
  },
  {
   "cell_type": "markdown",
   "metadata": {},
   "source": [
    "Avaliando o desempenho do modelo de Regressão Logistica"
   ]
  },
  {
   "cell_type": "code",
   "execution_count": 79,
   "metadata": {},
   "outputs": [
    {
     "name": "stdout",
     "output_type": "stream",
     "text": [
      "              precision    recall  f1-score   support\n",
      "\n",
      "           0       0.26      0.70      0.38      2107\n",
      "           1       0.85      0.45      0.59      7562\n",
      "\n",
      "    accuracy                           0.51      9669\n",
      "   macro avg       0.56      0.58      0.49      9669\n",
      "weighted avg       0.72      0.51      0.55      9669\n",
      "\n"
     ]
    }
   ],
   "source": [
    "print(classification_report(y_teste, previsao))"
   ]
  },
  {
   "cell_type": "markdown",
   "metadata": {},
   "source": [
    "3º MODELO: KNN"
   ]
  },
  {
   "cell_type": "code",
   "execution_count": 80,
   "metadata": {},
   "outputs": [],
   "source": [
    "from sklearn.neighbors import KNeighborsClassifier\n",
    "\n",
    "# Lista de features categoricas\n",
    "cols_categorica = [coluna for coluna in X_treino.columns if X_treino[coluna].dtype == \"object\"]\n",
    "\n",
    "# Lista de features numéricas\n",
    "cols_numerica = [coluna for coluna in X_treino.columns if X_treino[coluna].dtype in ['int64', 'float64']]\n",
    "\n",
    "# Instanciando transformador numérico: tratamento de NaN's ja realizado, mas instacioamos aqui a normalização dos dados também\n",
    "transformador_numerico = Pipeline(steps=[('scaler', StandardScaler())])\n",
    "\n",
    "# Instanciando transformador categorico\n",
    "transformador_categorico = Pipeline(steps=[\n",
    "    ('imputer', SimpleImputer(strategy='most_frequent')),\n",
    "    ('onehot', OneHotEncoder(handle_unknown='ignore'))\n",
    "])\n",
    "\n",
    "# Definindo as transformações a serem realizadas\n",
    "processador = ColumnTransformer(\n",
    "    transformers=[\n",
    "        ('num', transformador_numerico, cols_numerica),\n",
    "        ('cat', transformador_categorico, cols_categorica)\n",
    "    ])\n",
    "\n",
    "# Selecionando o 2º modelo de Classificação\n",
    "modelo_KNN = KNeighborsClassifier(n_neighbors=5)\n",
    "\n",
    "# Criando pipeline (transformadores + modelo)\n",
    "pipeline_KNN = Pipeline(steps=[('preprocessor', processador),\n",
    "                              ('model', modelo_KNN)\n",
    "                             ])"
   ]
  },
  {
   "cell_type": "code",
   "execution_count": 81,
   "metadata": {},
   "outputs": [
    {
     "name": "stdout",
     "output_type": "stream",
     "text": [
      "Treinamento Concluído\n"
     ]
    }
   ],
   "source": [
    "# Loop para rodar 5 execuções em cada folder criado no split (n_fold = 4)\n",
    "execucoes = 5\n",
    "lista_acuracias = []\n",
    "lista_f1_scores = []\n",
    "lista_aupcr_scores = []\n",
    "\n",
    "for train_index, val_index in separador.split(X, y):\n",
    "    X_treino, X_teste = X.iloc[train_index, :], X.iloc[val_index, :]\n",
    "    y_treino, y_teste = y.iloc[train_index], y.iloc[val_index]\n",
    "    for run in range(execucoes):\n",
    "            \n",
    "      # Treinando o modelo usando o pipeline configurado previamente\n",
    "      pipeline_KNN.fit(X_treino, y_treino)\n",
    "      previsao = pipeline_KNN.predict(X_teste)\n",
    "      \n",
    "      # Calculando métricas para cada rodada\n",
    "      acc = accuracy_score(y_teste, previsao)\n",
    "      lista_acuracias.append(acc)\n",
    "\n",
    "      _f1_score = f1_score(y_teste, previsao, average='weighted')\n",
    "      lista_f1_scores.append(_f1_score)\n",
    "\n",
    "      aupcr_score = average_precision_score(y_teste, previsao, average='weighted')\n",
    "      lista_aupcr_scores.append(aupcr_score)\n",
    "      \n",
    "print(\"Treinamento Concluído\")"
   ]
  },
  {
   "cell_type": "code",
   "execution_count": 82,
   "metadata": {},
   "outputs": [
    {
     "name": "stdout",
     "output_type": "stream",
     "text": [
      "A acurácia média entre as execuções foi de 73.85% com desvio padrão de 0.0024\n",
      "O F1score médio entre as execuções foi de 69.17% com desvio padrão de 0.0023\n",
      "O AUPRC entre as execuções foi de 78.45% com desvio padrão de 0.001\n"
     ]
    }
   ],
   "source": [
    "# Calculando média e desvio padrão de acurácia das execuções\n",
    "acc_knn, acc_std_knn = np.array(lista_acuracias).mean(), \\\n",
    "  np.array(lista_acuracias).std()\n",
    "print(f'A acurácia média entre as execuções foi de {round(acc_knn*100,2)}% com desvio padrão de {round(acc_std_knn,4)}')\n",
    "\n",
    " #Calculando média e desvio padrão de f1score das execuções\n",
    "f1_knn, f1_std_knn = np.array(lista_f1_scores).mean(),\\\n",
    " np.array(lista_f1_scores).std()\n",
    "print(f'O F1score médio entre as execuções foi de {round(f1_knn*100,2)}% com desvio padrão de {round(f1_std_knn,4)}')\n",
    "\n",
    "# Calculando média e desvio padrão de AUPRC das execuções\n",
    "aupcr_knn, aupcr_std_knn = np.array(lista_aupcr_scores).mean(),\\\n",
    " np.array(lista_aupcr_scores).std()\n",
    "print(f'O AUPRC entre as execuções foi de {round(aupcr_knn*100,2)}% com desvio padrão de {round(aupcr_std_knn,4)}')"
   ]
  },
  {
   "cell_type": "code",
   "execution_count": 83,
   "metadata": {},
   "outputs": [
    {
     "data": {
      "text/plain": [
       "1    8849\n",
       "0     820\n",
       "dtype: int64"
      ]
     },
     "execution_count": 83,
     "metadata": {},
     "output_type": "execute_result"
    }
   ],
   "source": [
    "# verificando a distribuição de previsões entre as classes\n",
    "pd.Series(previsao).value_counts()"
   ]
  },
  {
   "cell_type": "code",
   "execution_count": 84,
   "metadata": {},
   "outputs": [
    {
     "name": "stdout",
     "output_type": "stream",
     "text": [
      "              precision    recall  f1-score   support\n",
      "\n",
      "           0       0.26      0.10      0.14      2107\n",
      "           1       0.79      0.92      0.85      7562\n",
      "\n",
      "    accuracy                           0.74      9669\n",
      "   macro avg       0.52      0.51      0.50      9669\n",
      "weighted avg       0.67      0.74      0.69      9669\n",
      "\n"
     ]
    }
   ],
   "source": [
    "print(classification_report(y_teste, previsao))"
   ]
  },
  {
   "cell_type": "markdown",
   "metadata": {},
   "source": [
    "4º MODELO: Naive Bayes"
   ]
  },
  {
   "cell_type": "code",
   "execution_count": 85,
   "metadata": {},
   "outputs": [],
   "source": [
    "from sklearn.naive_bayes import GaussianNB\n",
    "\n",
    "# Lista de features categoricas\n",
    "cols_categorica = [coluna for coluna in X_treino.columns if X_treino[coluna].dtype == \"object\"]\n",
    "\n",
    "# Lista de features numéricas\n",
    "cols_numerica = [coluna for coluna in X_treino.columns if X_treino[coluna].dtype in ['int64', 'float64']]\n",
    "\n",
    "# Instanciando transformador numérico: tratamento de NaN's ja realizado, mas instacioamos aqui a normalização dos dados também\n",
    "transformador_numerico = Pipeline(steps=[('scaler', StandardScaler())])\n",
    "\n",
    "# Instanciando transformador categorico\n",
    "transformador_categorico = Pipeline(steps=[\n",
    "    ('imputer', SimpleImputer(strategy='most_frequent')),\n",
    "    ('onehot', OneHotEncoder(handle_unknown='ignore'))\n",
    "])\n",
    "\n",
    "# Definindo as transformações a serem realizadas\n",
    "processador = ColumnTransformer(\n",
    "    transformers=[\n",
    "        ('num', transformador_numerico, cols_numerica),\n",
    "        ('cat', transformador_categorico, cols_categorica)\n",
    "    ])\n",
    "\n",
    "# Selecionando o 2º modelo de Classificação\n",
    "modelo_NB = GaussianNB()\n",
    "\n",
    "# Criando pipeline (transformadores + modelo)\n",
    "pipeline_NB = Pipeline(steps=[('preprocessor', processador),\n",
    "                              ('model', modelo_NB)\n",
    "                             ])"
   ]
  },
  {
   "cell_type": "code",
   "execution_count": 86,
   "metadata": {},
   "outputs": [
    {
     "name": "stdout",
     "output_type": "stream",
     "text": [
      "Treinamento Concluído\n"
     ]
    }
   ],
   "source": [
    "# Loop para rodar 5 execuções em cada folder criado no split (n_fold = 4)\n",
    "execucoes = 5\n",
    "lista_acuracias = []\n",
    "lista_f1_scores = []\n",
    "lista_aupcr_scores = []\n",
    "\n",
    "for train_index, val_index in separador.split(X, y):\n",
    "    X_treino, X_teste = X.iloc[train_index, :], X.iloc[val_index, :]\n",
    "    y_treino, y_teste = y.iloc[train_index], y.iloc[val_index]\n",
    "    for run in range(execucoes):\n",
    "            \n",
    "      # Treinando o modelo usando o pipeline configurado previamente\n",
    "      pipeline_NB.fit(X_treino, y_treino)\n",
    "      previsao = pipeline_NB.predict(X_teste)\n",
    "      \n",
    "      # Calculando métricas para cada rodada\n",
    "      acc = accuracy_score(y_teste, previsao)\n",
    "      lista_acuracias.append(acc)\n",
    "\n",
    "      _f1_score = f1_score(y_teste, previsao, average='weighted')\n",
    "      lista_f1_scores.append(_f1_score)\n",
    "\n",
    "      aupcr_score = average_precision_score(y_teste, previsao, average='weighted')\n",
    "      lista_aupcr_scores.append(aupcr_score)\n",
    "      \n",
    "print(\"Treinamento Concluído\")"
   ]
  },
  {
   "cell_type": "code",
   "execution_count": 87,
   "metadata": {},
   "outputs": [
    {
     "name": "stdout",
     "output_type": "stream",
     "text": [
      "A acurácia média entre as execuções foi de 74.19% com desvio padrão de 0.0438\n",
      "O F1score médio entre as execuções foi de 68.7% com desvio padrão de 0.0084\n",
      "O AUPRC entre as execuções foi de 78.57% com desvio padrão de 0.0042\n"
     ]
    }
   ],
   "source": [
    "# Calculando média e desvio padrão de acurácia das execuções\n",
    "acc_nb, acc_std_nb = np.array(lista_acuracias).mean(), \\\n",
    "  np.array(lista_acuracias).std()\n",
    "print(f'A acurácia média entre as execuções foi de {round(acc_nb*100,2)}% com desvio padrão de {round(acc_std_nb,4)}')\n",
    "\n",
    " #Calculando média e desvio padrão de f1score das execuções\n",
    "f1_nb, f1_std_nb = np.array(lista_f1_scores).mean(),\\\n",
    " np.array(lista_f1_scores).std()\n",
    "print(f'O F1score médio entre as execuções foi de {round(f1_nb*100,2)}% com desvio padrão de {round(f1_std_nb,4)}')\n",
    "\n",
    "# Calculando média e desvio padrão de AUPRC das execuções\n",
    "aupcr_nb, aupcr_std_nb = np.array(lista_aupcr_scores).mean(),\\\n",
    " np.array(lista_aupcr_scores).std()\n",
    "print(f'O AUPRC entre as execuções foi de {round(aupcr_nb*100,2)}% com desvio padrão de {round(aupcr_std_nb,4)}')"
   ]
  },
  {
   "cell_type": "code",
   "execution_count": 88,
   "metadata": {},
   "outputs": [
    {
     "name": "stdout",
     "output_type": "stream",
     "text": [
      "              precision    recall  f1-score   support\n",
      "\n",
      "           0       0.26      0.04      0.07      2107\n",
      "           1       0.78      0.97      0.87      7562\n",
      "\n",
      "    accuracy                           0.77      9669\n",
      "   macro avg       0.52      0.50      0.47      9669\n",
      "weighted avg       0.67      0.77      0.69      9669\n",
      "\n"
     ]
    }
   ],
   "source": [
    "print(classification_report(y_teste, previsao))"
   ]
  },
  {
   "cell_type": "markdown",
   "metadata": {},
   "source": [
    "### Curvas AUC e ROC para comparativo entre os modelos"
   ]
  },
  {
   "cell_type": "code",
   "execution_count": 89,
   "metadata": {},
   "outputs": [
    {
     "name": "stdout",
     "output_type": "stream",
     "text": [
      "AUC score para modelo KNN:  0.54\n",
      "AUC score para modelo RandomForest:  0.59\n",
      "AUC score para modelo Regressão logística:  0.62\n",
      "AUC score para modelo NaiveBayes:  0.59\n"
     ]
    }
   ],
   "source": [
    "# calculando AUC score para os 4 modelos\n",
    "from sklearn.metrics import roc_curve, roc_auc_score\n",
    "\n",
    "score_KNN = pipeline_KNN.predict_proba(X_teste)[:,1]\n",
    "false_positive_rate1, true_positive_rate1, threshold1 = roc_curve(y_teste, score_KNN)\n",
    "print('AUC score para modelo KNN: ', round(roc_auc_score(y_teste, score_KNN),2))\n",
    "\n",
    "score_RF = pipeline_RF.predict_proba(X_teste)[:,1]\n",
    "false_positive_rate2, true_positive_rate2, threshold2 = roc_curve(y_teste, score_RF)\n",
    "print('AUC score para modelo RandomForest: ', round(roc_auc_score(y_teste, score_RF),2))\n",
    "\n",
    "score_RL = pipeline_RL.predict_proba(X_teste)[:,1]\n",
    "false_positive_rate3, true_positive_rate3, threshold3 = roc_curve(y_teste, score_RL)\n",
    "print('AUC score para modelo Regressão logística: ', round(roc_auc_score(y_teste, score_RL),2))\n",
    "\n",
    "score_NB = pipeline_NB.predict_proba(X_teste)[:,1]\n",
    "false_positive_rate4, true_positive_rate4, threshold4 = roc_curve(y_teste, score_NB)\n",
    "print('AUC score para modelo NaiveBayes: ', round(roc_auc_score(y_teste, score_NB),2))"
   ]
  },
  {
   "cell_type": "code",
   "execution_count": 90,
   "metadata": {},
   "outputs": [
    {
     "data": {
      "text/plain": [
       "Text(0.5, 0, 'Taxa de Falsos Positivos')"
      ]
     },
     "execution_count": 90,
     "metadata": {},
     "output_type": "execute_result"
    },
    {
     "data": {
      "image/png": "[encoded data removed]",
      "text/plain": [
       "<Figure size 1080x720 with 4 Axes>"
      ]
     },
     "metadata": {},
     "output_type": "display_data"
    }
   ],
   "source": [
    "# Plotando as 4 curvas\n",
    "fig = plt.figure(figsize=(15,10))\n",
    "\n",
    "ax1 = fig.add_subplot(2,2,1)\n",
    "ax1.set_title('Curva ROC - KNN')\n",
    "ax1.plot(false_positive_rate1, true_positive_rate1,c='green')\n",
    "ax1.plot([0, 1], ls=\"--\")\n",
    "ax1.plot([0, 0], [1, 0] , c=\"0\"), ax1.plot([1, 1] , c=\"0\")\n",
    "ax1.set_ylabel('Taxa de Verdadeiros Positivos')\n",
    "ax1.set_xlabel('Taxa de Falsos Positivos')\n",
    "\n",
    "ax2 = fig.add_subplot(2,2,2)\n",
    "ax2.set_title('Curva ROC - RF')\n",
    "ax2.plot(false_positive_rate2, true_positive_rate2, c='red')\n",
    "ax2.plot([0, 1], ls=\"--\")\n",
    "ax2.plot([0, 0], [1, 0] , c=\"0\"), ax2.plot([1, 1] , c=\"0\")\n",
    "ax2.set_ylabel('Taxa de Verdadeiros Positivos')\n",
    "ax2.set_xlabel('Taxa de Falsos Positivos')\n",
    "\n",
    "ax3 = fig.add_subplot(2,2,3)\n",
    "ax3.set_title('Curva ROC - RL')\n",
    "ax3.plot(false_positive_rate3, true_positive_rate3,c='orange')\n",
    "ax3.plot([0, 1], ls=\"--\")\n",
    "ax3.plot([0, 0], [1, 0] , c=\"0\"), ax3.plot([1, 1] , c=\"0\")\n",
    "ax3.set_ylabel('Taxa de Verdadeiros Positivos')\n",
    "ax3.set_xlabel('Taxa de Falsos Positivos')\n",
    "\n",
    "ax4 = fig.add_subplot(2,2,4)\n",
    "ax4.set_title('Curva ROC - NB')\n",
    "ax4.plot(false_positive_rate4, true_positive_rate4,c='brown')\n",
    "ax4.plot([0, 1], ls=\"--\")\n",
    "ax4.plot([0, 0], [1, 0] , c=\"0\"), ax4.plot([1, 1] , c=\"0\")\n",
    "ax4.set_ylabel('Taxa de Verdadeiros Positivos')\n",
    "ax4.set_xlabel('Taxa de Falsos Positivos')"
   ]
  },
  {
   "cell_type": "markdown",
   "metadata": {},
   "source": [
    "Obs: Modelos com curva ROC mais próximos dos eixos em destaque, ou seja, mais proximos do coanto superior direito do plano cartesiano, são considerados melhores já que exibem uma maior taxa de Verdadeiros Positivos para um mesmo nível de falsos positivos."
   ]
  },
  {
   "cell_type": "markdown",
   "metadata": {},
   "source": [
    "Iremos concatenar em um dataframe o desempenho médio e o desvio padrão para cada classificador"
   ]
  },
  {
   "cell_type": "code",
   "execution_count": 91,
   "metadata": {},
   "outputs": [
    {
     "data": {
      "text/html": [
       "<div>\n",
       "<style scoped>\n",
       "    .dataframe tbody tr th:only-of-type {\n",
       "        vertical-align: middle;\n",
       "    }\n",
       "\n",
       "    .dataframe tbody tr th {\n",
       "        vertical-align: top;\n",
       "    }\n",
       "\n",
       "    .dataframe thead th {\n",
       "        text-align: right;\n",
       "    }\n",
       "</style>\n",
       "<table border=\"1\" class=\"dataframe\">\n",
       "  <thead>\n",
       "    <tr style=\"text-align: right;\">\n",
       "      <th></th>\n",
       "      <th>Média Acurácia</th>\n",
       "      <th>DesvPad Acurácia</th>\n",
       "      <th>Média F1score</th>\n",
       "      <th>DesvPad F1score</th>\n",
       "      <th>Média AUPRC</th>\n",
       "      <th>DesvPad AUPRC</th>\n",
       "    </tr>\n",
       "  </thead>\n",
       "  <tbody>\n",
       "    <tr>\n",
       "      <th>Random Forest</th>\n",
       "      <td>0.778</td>\n",
       "      <td>0.000</td>\n",
       "      <td>0.689</td>\n",
       "      <td>0.001</td>\n",
       "      <td>0.783</td>\n",
       "      <td>0.000</td>\n",
       "    </tr>\n",
       "    <tr>\n",
       "      <th>Regressão Logística</th>\n",
       "      <td>0.509</td>\n",
       "      <td>0.001</td>\n",
       "      <td>0.546</td>\n",
       "      <td>0.002</td>\n",
       "      <td>0.812</td>\n",
       "      <td>0.002</td>\n",
       "    </tr>\n",
       "    <tr>\n",
       "      <th>Knn</th>\n",
       "      <td>0.739</td>\n",
       "      <td>0.002</td>\n",
       "      <td>0.692</td>\n",
       "      <td>0.002</td>\n",
       "      <td>0.784</td>\n",
       "      <td>0.001</td>\n",
       "    </tr>\n",
       "    <tr>\n",
       "      <th>Naive Bayes</th>\n",
       "      <td>0.742</td>\n",
       "      <td>0.044</td>\n",
       "      <td>0.687</td>\n",
       "      <td>0.008</td>\n",
       "      <td>0.786</td>\n",
       "      <td>0.004</td>\n",
       "    </tr>\n",
       "  </tbody>\n",
       "</table>\n",
       "</div>"
      ],
      "text/plain": [
       "                     Média Acurácia  DesvPad Acurácia  Média F1score  \\\n",
       "Random Forest                 0.778             0.000          0.689   \n",
       "Regressão Logística           0.509             0.001          0.546   \n",
       "Knn                           0.739             0.002          0.692   \n",
       "Naive Bayes                   0.742             0.044          0.687   \n",
       "\n",
       "                     DesvPad F1score  Média AUPRC  DesvPad AUPRC  \n",
       "Random Forest                  0.001        0.783          0.000  \n",
       "Regressão Logística            0.002        0.812          0.002  \n",
       "Knn                            0.002        0.784          0.001  \n",
       "Naive Bayes                    0.008        0.786          0.004  "
      ]
     },
     "execution_count": 91,
     "metadata": {},
     "output_type": "execute_result"
    }
   ],
   "source": [
    "# Criando listas com as métricas de interesse\n",
    "scores_forest = pd.Series([acc_forest, acc_std_forest, f1_forest, f1_std_forest, aupcr_forest, aupcr_std_forest], name = 'Random Forest', dtype=float)\n",
    "scores_reglog = pd.Series([acc_logistica, acc_std_logistica, f1_logistica, f1_std_logistica, aupcr_logistica, aupcr_std_logistica], name = 'Regressão Logística', dtype=float)\n",
    "scores_knn = pd.Series([acc_knn, acc_std_knn, f1_knn, f1_std_knn, aupcr_knn, aupcr_std_knn], name = 'Knn', dtype=float)\n",
    "scores_naive = pd.Series([acc_nb, acc_std_nb, f1_nb, f1_std_nb, aupcr_nb, aupcr_std_nb], name = 'Naive Bayes', dtype=float)\n",
    "metricas = [scores_forest, scores_reglog, scores_knn, scores_naive]\n",
    "\n",
    "# Concatenando resultados\n",
    "resumo_metricas = pd.concat(metricas, axis=1)\n",
    "resumo_metricas.rename(index={0 :'Média Acurácia',1:'DesvPad Acurácia',2:'Média F1score',3:'DesvPad F1score',4:'Média AUPRC',5:'DesvPad AUPRC'}, inplace=True)\n",
    "resumo_metricas.T"
   ]
  },
  {
   "cell_type": "markdown",
   "metadata": {},
   "source": [
    "### Lidando com o desbalanceamento no Target: oversampling e undersampling\n",
    "\n",
    "- Nosso objetivo aqui é aplicar o oversampling com `smote()` que adiciona exemplos da classe minoritária nos dados de treino\n",
    "\n",
    "- Depois aplicar o undersampling, ou seja, retirar exemplos da classe majoritária\n",
    "\n",
    "- Por fim usar o `smoteenn` que combina a duas estratégias\n",
    "\n",
    "- Estas estratégias conseguem melhorar a performance do modelo?\n",
    "\n",
    "- Iremos utilizar o modelo Regressão Logística, pois ela desempenhou melhor pelo critério do  ``AUPRC`` e `AUC`, mesmo levando em consideração que os modelos concorrentes tenham um F1score maior . A decisão de priorizar o AUPCR parte da recomendação de utilziar esta métrica caso estejamos mais preocupados com a existência dos Falsos Positivos. Como  o negócio é baseado no \"lead model\", fazer cobranças indevidas (quando o modelo prevê que haverá lead, quando na verdade não existirá) deveria ser evitado para maiores problemas de relacionamento com o cliente. Além disto, esta métrica é independente do limiar (treshold) escolhido para definir a classe prevista, e ela nos computa a média ponderada da diferença entre precisão e recall. Quanto mais proximo de 1 (100%), melhor é o modelo."
   ]
  },
  {
   "cell_type": "markdown",
   "metadata": {},
   "source": [
    "1º estratégia: oversampling com `smote()`"
   ]
  },
  {
   "cell_type": "code",
   "execution_count": 92,
   "metadata": {},
   "outputs": [
    {
     "name": "stdout",
     "output_type": "stream",
     "text": [
      "Distribuição das classes antes do método:  Counter({1: 22687, 0: 6322})\n",
      "Distribuição das classes depois do método:  Counter({1: 22687, 0: 11343})\n"
     ]
    }
   ],
   "source": [
    "from imblearn.over_sampling import SMOTE\n",
    "from imblearn.under_sampling import RandomUnderSampler\n",
    "from imblearn.combine import SMOTEENN\n",
    "from collections import Counter\n",
    "\n",
    "# verificando distribuição das classes nos dados originais\n",
    "print(\"Distribuição das classes antes do método: \", Counter(y_treino))\n",
    "over = SMOTE(sampling_strategy=0.5,random_state=0)\n",
    "\n",
    "# Aplicando transformação nos dados de treino\n",
    "X_over, y_over = over.fit_resample(X_treino,y_treino)\n",
    "\n",
    "# verificando distribuição das classes nos dados pós-resampling\n",
    "print(\"Distribuição das classes depois do método: \", Counter(y_over))"
   ]
  },
  {
   "cell_type": "markdown",
   "metadata": {},
   "source": [
    "Agora iremos retreinar nosso Modelo Reg. Lostística com os dados usado o Resampling do SMOTE. \n",
    "\n",
    "Ps: As etapas são idênticas as realizadas na primeira versão do modelo, exceto pelos dados de treino X_over e y_over"
   ]
  },
  {
   "cell_type": "code",
   "execution_count": 93,
   "metadata": {},
   "outputs": [],
   "source": [
    "# Lista de features categoricas\n",
    "cols_categorica = [coluna for coluna in X_over.columns if X_over[coluna].dtype == \"object\"]\n",
    "\n",
    "# Lista de features numéricas\n",
    "cols_numerica = [coluna for coluna in X_over.columns if X_over[coluna].dtype in ['int64', 'float64']]\n",
    "\n",
    "# Instanciando transformador numérico: tratamento de NaN's ja realizado, mas instacioamos aqui a normalização dos dados também\n",
    "transformador_numerico = Pipeline(steps=[('scaler', StandardScaler())])\n",
    "\n",
    "# Instanciando transformador categorico\n",
    "transformador_categorico = Pipeline(steps=[\n",
    "    ('imputer', SimpleImputer(strategy='most_frequent')),\n",
    "    ('onehot', OneHotEncoder(handle_unknown='ignore'))\n",
    "])\n",
    "\n",
    "# Definindo as transformações a serem realizadas\n",
    "processador = ColumnTransformer(\n",
    "    transformers=[\n",
    "        ('num', transformador_numerico, cols_numerica),\n",
    "        ('cat', transformador_categorico, cols_categorica)\n",
    "    ])\n",
    "\n",
    "# Selecionando o 2º modelo de Classificação\n",
    "modelo_RL = LogisticRegression(random_state=0,penalty='l2', class_weight='balanced')\n",
    "\n",
    "# Criando pipeline (transformadores + modelo)\n",
    "pipeline_RL = Pipeline(steps=[('preprocessor', processador),\n",
    "                              ('model', modelo_RL)\n",
    "                             ])"
   ]
  },
  {
   "cell_type": "code",
   "execution_count": 94,
   "metadata": {},
   "outputs": [
    {
     "name": "stdout",
     "output_type": "stream",
     "text": [
      "Treinamento Concluído\n"
     ]
    }
   ],
   "source": [
    "# Loop para rodar 5 execuções em cada folder criado no split (n_fold = 4)\n",
    "execucoes = 5\n",
    "lista_acuracias = []\n",
    "lista_f1_scores = []\n",
    "lista_aupcr_scores = []\n",
    "\n",
    "for train_index, val_index in separador.split(X_over, y_over):\n",
    "    X_treino_over, X_teste_over = X_over.iloc[train_index, :], X_over.iloc[val_index, :]\n",
    "    y_treino_over, y_teste_over = y_over.iloc[train_index], y_over.iloc[val_index]\n",
    "    for run in range(execucoes):\n",
    "            \n",
    "      # Treinando o modelo usando o pipeline configurado previamente\n",
    "      pipeline_RL.fit(X_treino_over, y_treino_over)\n",
    "      previsao = pipeline_RL.predict(X_teste_over)\n",
    "      \n",
    "      # Calculando métricas para cada rodada\n",
    "      acc = accuracy_score(y_teste_over, previsao)\n",
    "      lista_acuracias.append(acc)\n",
    "\n",
    "      _f1_score = f1_score(y_teste_over, previsao, average='weighted')\n",
    "      lista_f1_scores.append(_f1_score)\n",
    "\n",
    "      aupcr_score = average_precision_score(y_teste_over, previsao)\n",
    "      lista_aupcr_scores.append(aupcr_score)\n",
    "      \n",
    "print(\"Treinamento Concluído\")"
   ]
  },
  {
   "cell_type": "code",
   "execution_count": 95,
   "metadata": {},
   "outputs": [
    {
     "name": "stdout",
     "output_type": "stream",
     "text": [
      "A acurácia média entre as execuções foi de 57.23% com desvio padrão de 0.0024\n",
      "O F1score médio entre as execuções foi de 58.19% com desvio padrão de 0.0026\n",
      "O AUPRC entre as execuções foi de 72.38% com desvio padrão de 0.001\n"
     ]
    }
   ],
   "source": [
    "# Calculando média e desvio padrão de acurácia das execuções\n",
    "acc, acc_std = np.array(lista_acuracias).mean(), \\\n",
    "  np.array(lista_acuracias).std()\n",
    "print(f'A acurácia média entre as execuções foi de {round(acc*100,2)}% com desvio padrão de {round(acc_std,4)}')\n",
    "\n",
    " #Calculando média e desvio padrão de f1score das execuções\n",
    "f1, f1_std = np.array(lista_f1_scores).mean(),\\\n",
    " np.array(lista_f1_scores).std()\n",
    "print(f'O F1score médio entre as execuções foi de {round(f1*100,2)}% com desvio padrão de {round(f1_std,4)}')\n",
    "\n",
    "# Calculando média e desvio padrão de AUPRC das execuções\n",
    "aupcr, aupcr_std = np.array(lista_aupcr_scores).mean(),\\\n",
    " np.array(lista_aupcr_scores).std()\n",
    "print(f'O AUPRC entre as execuções foi de {round(aupcr*100,2)}% com desvio padrão de {round(aupcr_std,4)}')"
   ]
  },
  {
   "cell_type": "markdown",
   "metadata": {},
   "source": [
    "A aplicação do ``smote()`` nos reporta resultados melhores no `F1score` (0.546 versus 0.581), porém na métrica de referência do ``AUPRC`` (0.812 versus 0.723) foi relativamente prejudicada."
   ]
  },
  {
   "cell_type": "markdown",
   "metadata": {},
   "source": [
    "2 º Estratégia: undersampling com o `RandomUnderSampler()`"
   ]
  },
  {
   "cell_type": "code",
   "execution_count": 96,
   "metadata": {},
   "outputs": [
    {
     "name": "stdout",
     "output_type": "stream",
     "text": [
      "Distribuição das classes antes do método:  Counter({1: 22687, 0: 6322})\n",
      "Distribuição das classes depois do método:  Counter({1: 12644, 0: 6322})\n"
     ]
    }
   ],
   "source": [
    "# verificando distribuição das classes nos dados originais\n",
    "print(\"Distribuição das classes antes do método: \", Counter(y_treino))\n",
    "under = RandomUnderSampler(sampling_strategy=0.5,random_state=0)\n",
    "\n",
    "# Aplicando transformação nos dados de treino\n",
    "X_under, y_under = under.fit_resample(X_treino,y_treino)\n",
    "\n",
    "# verificando distribuição das classes nos dados pós-resampling\n",
    "print(\"Distribuição das classes depois do método: \", Counter(y_under))"
   ]
  },
  {
   "cell_type": "markdown",
   "metadata": {},
   "source": [
    "Agora iremos retreinar nosso Modelo KNN com os dados usado o Resampling do RandomUnderSampler. \n",
    "\n",
    "Ps: As etapas são idênticas as realizdas na primeira versão do modelo, exceto pelos dados de treino X_under e y_under"
   ]
  },
  {
   "cell_type": "code",
   "execution_count": 97,
   "metadata": {},
   "outputs": [],
   "source": [
    "# Lista de features categoricas\n",
    "cols_categorica = [coluna for coluna in X_under.columns if X_under[coluna].dtype == \"object\"]\n",
    "\n",
    "# Lista de features numéricas\n",
    "cols_numerica = [coluna for coluna in X_under.columns if X_under[coluna].dtype in ['int64', 'float64']]\n",
    "\n",
    "# Instanciando transformador numérico: tratamento de NaN's ja realizado, mas instacioamos aqui a normalização dos dados também\n",
    "transformador_numerico = Pipeline(steps=[('scaler', StandardScaler())])\n",
    "\n",
    "# Instanciando transformador categorico\n",
    "transformador_categorico = Pipeline(steps=[\n",
    "    ('imputer', SimpleImputer(strategy='most_frequent')),\n",
    "    ('onehot', OneHotEncoder(handle_unknown='ignore'))\n",
    "])\n",
    "\n",
    "# Definindo as transformações a serem realizadas\n",
    "processador = ColumnTransformer(\n",
    "    transformers=[\n",
    "        ('num', transformador_numerico, cols_numerica),\n",
    "        ('cat', transformador_categorico, cols_categorica)\n",
    "    ])\n",
    "\n",
    "# Selecionando o 2º modelo de Classificação\n",
    "modelo_RL = LogisticRegression(random_state=0,penalty='l2', class_weight='balanced')\n",
    "\n",
    "# Criando pipeline (transformadores + modelo)\n",
    "pipeline_RL = Pipeline(steps=[('preprocessor', processador),\n",
    "                              ('model', modelo_RL)\n",
    "                             ])"
   ]
  },
  {
   "cell_type": "code",
   "execution_count": 98,
   "metadata": {},
   "outputs": [
    {
     "name": "stdout",
     "output_type": "stream",
     "text": [
      "Treinamento Concluído\n"
     ]
    }
   ],
   "source": [
    "# Loop para rodar 5 execuções em cada folder criado no split (n_fold = 4)\n",
    "execucoes = 5\n",
    "lista_acuracias = []\n",
    "lista_f1_scores = []\n",
    "lista_aupcr_scores = []\n",
    "\n",
    "for train_index, val_index in separador.split(X_under, y_under):\n",
    "    X_treino_under, X_teste_under = X_under.iloc[train_index, :], X_under.iloc[val_index, :]\n",
    "    y_treino_under, y_teste_under = y_under.iloc[train_index], y_under.iloc[val_index]\n",
    "    for run in range(execucoes):\n",
    "            \n",
    "      # Treinando o modelo usando o pipeline configurado previamente\n",
    "      pipeline_RL.fit(X_treino_under, y_treino_under)\n",
    "      previsao = pipeline_RL.predict(X_teste_under)\n",
    "      \n",
    "      # Calculando métricas para cada rodada\n",
    "      acc = accuracy_score(y_teste_under, previsao)\n",
    "      lista_acuracias.append(acc)\n",
    "\n",
    "      _f1_score = f1_score(y_teste_under, previsao, average='weighted')\n",
    "      lista_f1_scores.append(_f1_score)\n",
    "\n",
    "      aupcr_score = average_precision_score(y_teste_under, previsao)\n",
    "      lista_aupcr_scores.append(aupcr_score)\n",
    "      \n",
    "print(\"Treinamento Concluído\")"
   ]
  },
  {
   "cell_type": "code",
   "execution_count": 99,
   "metadata": {},
   "outputs": [
    {
     "name": "stdout",
     "output_type": "stream",
     "text": [
      "A acurácia média entre as execuções foi de 53.67% com desvio padrão de 0.0061\n",
      "O F1score médio entre as execuções foi de 54.48% com desvio padrão de 0.0062\n",
      "O AUPRC entre as execuções foi de 70.68% com desvio padrão de 0.0034\n"
     ]
    }
   ],
   "source": [
    "# Calculando média e desvio padrão de acurácia das execuções\n",
    "acc, acc_std = np.array(lista_acuracias).mean(), \\\n",
    "  np.array(lista_acuracias).std()\n",
    "print(f'A acurácia média entre as execuções foi de {round(acc*100,2)}% com desvio padrão de {round(acc_std,4)}')\n",
    "\n",
    " #Calculando média e desvio padrão de f1score das execuções\n",
    "f1, f1_std = np.array(lista_f1_scores).mean(),\\\n",
    " np.array(lista_f1_scores).std()\n",
    "print(f'O F1score médio entre as execuções foi de {round(f1*100,2)}% com desvio padrão de {round(f1_std,4)}')\n",
    "\n",
    "# Calculando média e desvio padrão de AUPRC das execuções\n",
    "aupcr, aupcr_std = np.array(lista_aupcr_scores).mean(),\\\n",
    " np.array(lista_aupcr_scores).std()\n",
    "print(f'O AUPRC entre as execuções foi de {round(aupcr*100,2)}% com desvio padrão de {round(aupcr_std,4)}')"
   ]
  },
  {
   "cell_type": "markdown",
   "metadata": {},
   "source": [
    "Na estratégia de remover exemplos da classe majoritária tivemos desempenho pior em ambas as métricas aqui comparadas. "
   ]
  },
  {
   "cell_type": "markdown",
   "metadata": {},
   "source": [
    "3º estratégia: combinar ambas reamostragens com o método `SMOOTENN`"
   ]
  },
  {
   "cell_type": "code",
   "execution_count": 100,
   "metadata": {},
   "outputs": [
    {
     "name": "stdout",
     "output_type": "stream",
     "text": [
      "Distribuição das classes antes do método:  Counter({1: 22687, 0: 6322})\n",
      "Distribuição das classes depois do método:  Counter({1: 9920, 0: 2583})\n"
     ]
    }
   ],
   "source": [
    "# verificando distribuição das classes nos dados originais\n",
    "print(\"Distribuição das classes antes do método: \", Counter(y_treino))\n",
    "\n",
    "smotenn = SMOTEENN(sampling_strategy=0.5,random_state=0)\n",
    "\n",
    "# Aplicando transformação nos dados de treino\n",
    "X_smotenn, y_smotenn = smotenn.fit_resample(X_treino,y_treino)\n",
    "\n",
    "# verificando distribuição das classes nos dados pós-resampling\n",
    "print(\"Distribuição das classes depois do método: \", Counter(y_smotenn))"
   ]
  },
  {
   "cell_type": "markdown",
   "metadata": {},
   "source": [
    "Agora iremos retreinar nosso Modelo Reg. Logística com os dados usado o ``SMOTEENN``. \n",
    "\n",
    "Ps: As etapas são idênticas as realizdas na primeira versão do modelo, exceto pelos dados de treino X_smotenn e y_smotenn"
   ]
  },
  {
   "cell_type": "code",
   "execution_count": 101,
   "metadata": {},
   "outputs": [],
   "source": [
    "# Lista de features categoricas\n",
    "cols_categorica = [coluna for coluna in X_smotenn.columns if X_smotenn[coluna].dtype == \"object\"]\n",
    "\n",
    "# Lista de features numéricas\n",
    "cols_numerica = [coluna for coluna in X_smotenn.columns if X_smotenn[coluna].dtype in ['int64', 'float64']]\n",
    "\n",
    "# Instanciando transformador numérico: tratamento de NaN's ja realizado, mas instacioamos aqui a normalização dos dados também\n",
    "transformador_numerico = Pipeline(steps=[('scaler', StandardScaler())])\n",
    "\n",
    "# Instanciando transformador categorico\n",
    "transformador_categorico = Pipeline(steps=[\n",
    "    ('imputer', SimpleImputer(strategy='most_frequent')),\n",
    "    ('onehot', OneHotEncoder(handle_unknown='ignore'))\n",
    "])\n",
    "\n",
    "# Definindo as transformações a serem realizadas\n",
    "processador = ColumnTransformer(\n",
    "    transformers=[\n",
    "        ('num', transformador_numerico, cols_numerica),\n",
    "        ('cat', transformador_categorico, cols_categorica)\n",
    "    ])\n",
    "\n",
    "# Selecionando o 2º modelo de Classificação\n",
    "modelo_RL = LogisticRegression(random_state=0,penalty='l2', class_weight='balanced')\n",
    "\n",
    "# Criando pipeline (transformadores + modelo)\n",
    "pipeline_RL = Pipeline(steps=[('preprocessor', processador),\n",
    "                              ('model', modelo_RL)\n",
    "                             ])"
   ]
  },
  {
   "cell_type": "code",
   "execution_count": 102,
   "metadata": {},
   "outputs": [
    {
     "name": "stdout",
     "output_type": "stream",
     "text": [
      "Treinamento Concluído\n"
     ]
    }
   ],
   "source": [
    "execucoes = 5\n",
    "lista_acuracias = []\n",
    "lista_f1_scores = []\n",
    "lista_aupcr_scores = []\n",
    "\n",
    "for train_index, val_index in separador.split(X_smotenn, y_smotenn):\n",
    "    X_treino_smotenn, X_teste_smotenn = X_smotenn.iloc[train_index, :], X_smotenn.iloc[val_index, :]\n",
    "    y_treino_smotenn, y_teste_smoteen = y_smotenn.iloc[train_index], y_smotenn.iloc[val_index]\n",
    "    for run in range(execucoes):\n",
    "            \n",
    "      # Treinando o modelo usando o pipeline configurado previamente\n",
    "      pipeline_RL.fit(X_treino_smotenn, y_treino_smotenn)\n",
    "      previsao = pipeline_RL.predict(X_teste_smotenn)\n",
    "      \n",
    "      # Calculando métricas para cada rodada\n",
    "      acc = accuracy_score(y_teste_smoteen, previsao)\n",
    "      lista_acuracias.append(acc)\n",
    "\n",
    "      _f1_score = f1_score(y_teste_smoteen, previsao, average='weighted')\n",
    "      lista_f1_scores.append(_f1_score)\n",
    "\n",
    "      aupcr_score = average_precision_score(y_teste_smoteen, previsao)\n",
    "      lista_aupcr_scores.append(aupcr_score)\n",
    "      \n",
    "print(\"Treinamento Concluído\")"
   ]
  },
  {
   "cell_type": "code",
   "execution_count": 103,
   "metadata": {},
   "outputs": [
    {
     "name": "stdout",
     "output_type": "stream",
     "text": [
      "A acurácia média entre as execuções foi de 58.34% com desvio padrão de 0.0036\n",
      "O F1score médio entre as execuções foi de 62.15% com desvio padrão de 0.0033\n",
      "O AUPRC entre as execuções foi de 85.05% com desvio padrão de 0.0029\n"
     ]
    }
   ],
   "source": [
    "# Calculando média e desvio padrão de acurácia das execuções\n",
    "acc, acc_std = np.array(lista_acuracias).mean(), \\\n",
    "  np.array(lista_acuracias).std()\n",
    "print(f'A acurácia média entre as execuções foi de {round(acc*100,2)}% com desvio padrão de {round(acc_std,4)}')\n",
    "\n",
    " #Calculando média e desvio padrão de f1score das execuções\n",
    "f1, f1_std = np.array(lista_f1_scores).mean(),\\\n",
    " np.array(lista_f1_scores).std()\n",
    "print(f'O F1score médio entre as execuções foi de {round(f1*100,2)}% com desvio padrão de {round(f1_std,4)}')\n",
    "\n",
    "# Calculando média e desvio padrão de AUPRC das execuções\n",
    "aupcr, aupcr_std = np.array(lista_aupcr_scores).mean(),\\\n",
    " np.array(lista_aupcr_scores).std()\n",
    "print(f'O AUPRC entre as execuções foi de {round(aupcr*100,2)}% com desvio padrão de {round(aupcr_std,4)}')"
   ]
  },
  {
   "cell_type": "code",
   "execution_count": 104,
   "metadata": {},
   "outputs": [
    {
     "name": "stdout",
     "output_type": "stream",
     "text": [
      "Média Acurácia     0.509\n",
      "DesvPad Acurácia   0.001\n",
      "Média F1score      0.546\n",
      "DesvPad F1score    0.002\n",
      "Média AUPRC        0.812\n",
      "DesvPad AUPRC      0.002\n",
      "Name: Regressão Logística, dtype: float64\n"
     ]
    }
   ],
   "source": [
    "# Relembrando as métricas do modelo Reg. Logística original\n",
    "print(resumo_metricas['Regressão Logística'])"
   ]
  },
  {
   "cell_type": "markdown",
   "metadata": {},
   "source": [
    "O `smoteenn` reporta o melhor upgrade no nosso modelo, demostrando significativa melhora nos resultados do `f1score` e `AUPRC`. Além disto, o desvio padrão entre as métricas apuradas para cada modelo executado dentro da cross-validation manteve-se relativamente sob controle, o que nos indica certa consistência dos resultados entre os 20 modelos executados. "
   ]
  },
  {
   "cell_type": "markdown",
   "metadata": {},
   "source": [
    "Agora que selecionamos o Modeo KNN com resample pelo método Smoteenn, podemos verificar melhor seus resultados com a sua matriz de confusão e o o ``classification_report()`` do sklearn\n",
    "\n"
   ]
  },
  {
   "cell_type": "code",
   "execution_count": 105,
   "metadata": {},
   "outputs": [
    {
     "name": "stdout",
     "output_type": "stream",
     "text": [
      "              precision    recall  f1-score   support\n",
      "\n",
      "           0       0.30      0.76      0.43       645\n",
      "           1       0.89      0.54      0.67      2480\n",
      "\n",
      "    accuracy                           0.58      3125\n",
      "   macro avg       0.60      0.65      0.55      3125\n",
      "weighted avg       0.77      0.58      0.62      3125\n",
      "\n"
     ]
    }
   ],
   "source": [
    "# Classification Report\n",
    "\n",
    "print(classification_report(y_teste_smoteen, previsao))"
   ]
  },
  {
   "cell_type": "markdown",
   "metadata": {},
   "source": [
    "- Comparando com o modelo KNN original podemos observar que houve significativa melhora em todas as métricas quando nosso modelo tenta prever a classe 0, ou seja, quando ele informa que determinado anúncio não terá um lead. Neste caso os métodos de reamostragem foram adequados para atacar este problema.\n",
    "\n",
    "- Podemos atestar isto também verificando a matriz de confusão deste modelo"
   ]
  },
  {
   "cell_type": "code",
   "execution_count": 106,
   "metadata": {},
   "outputs": [
    {
     "data": {
      "text/plain": [
       "<sklearn.metrics._plot.confusion_matrix.ConfusionMatrixDisplay at 0x243dc266ef0>"
      ]
     },
     "execution_count": 106,
     "metadata": {},
     "output_type": "execute_result"
    },
    {
     "data": {
      "image/png": "[encoded data removed]",
      "text/plain": [
       "<Figure size 432x288 with 1 Axes>"
      ]
     },
     "metadata": {},
     "output_type": "display_data"
    }
   ],
   "source": [
    "# Matriz de Confusão\n",
    "\n",
    "from sklearn.metrics import plot_confusion_matrix\n",
    "plot_confusion_matrix(pipeline_KNN, X_teste_smotenn, y_teste_smoteen, colorbar=False)"
   ]
  },
  {
   "cell_type": "markdown",
   "metadata": {},
   "source": [
    "### Modelos de Regressão:\n",
    "\n",
    "- Agora nosso objetivo é criar modelos que sejam capazes de prever a quantidade de leads que um determinado anúncio pode gerar. Para tal, iremos construir modelos concorrentes de regressão linear, random forest e rede neural simples. \n",
    "\n",
    "- Iremos utilizar os mesmos dados tratados pelas etapas de feature selection e engineering realizadas para o modelo anterior, pois nosso objetivo apesar de ser diferente (prever quantidade de leads e não se ele existirá), há correlação direta entre quantidade de leads e a existência dos mesmos, pois quantidade_leads > 0 = has_leads = 1 e vice-versa"
   ]
  },
  {
   "cell_type": "markdown",
   "metadata": {},
   "source": [
    "Para redefinir nosso target iremos novamente processar os dados para aplicar as transformações nas features de alta cardinaldiade, mas preservando nosso target y = leads"
   ]
  },
  {
   "cell_type": "code",
   "execution_count": 107,
   "metadata": {},
   "outputs": [],
   "source": [
    "# Redefinindo o target para a variável leads e retirando variável has_leads do conjuto de features\n",
    "\n",
    "# Separação dos dados para o encoding (20%  dataset)\n",
    "X_encode = dados.sample(frac=0.20, random_state=0)\n",
    "y_encode = X_encode.pop(\"leads\")\n",
    "\n",
    "# Separação para treinar o encoder (75% dataset)\n",
    "X_pretrain = dados.drop(X_encode.index)\n",
    "y_regressao = X_pretrain.pop(\"leads\")\n",
    "\n",
    "# Selecionando features a serem transformadas e configurando a suaviação (m)\n",
    "encoder = MEstimateEncoder(cols=['cidade','combustivel','cod_marca_veiculo','cod_modelo_veiculo','uf'], m=5)\n",
    "\n",
    "# Realizando fit\n",
    "encoder.fit(X_encode,y_encode)\n",
    "\n",
    "# Aplicando transformação nos dados de treino\n",
    "X_regressao = encoder.transform(X_pretrain, y)"
   ]
  },
  {
   "cell_type": "code",
   "execution_count": 108,
   "metadata": {},
   "outputs": [],
   "source": [
    "# Retirando do conjunto de features a variável `has_leads`\n",
    "\n",
    "X_regressao.drop(['has_leads'],axis=1,inplace=True)"
   ]
  },
  {
   "cell_type": "markdown",
   "metadata": {},
   "source": [
    "OBSERVAÇÃO: \n",
    "\n",
    "- As features selecionadas pelo método de Mutual Information são as mesmas aplicadas aqui e não precisamos repetir este passo. Mas para termos o mesmo conjunto de features usadas no modelo de classificação, iremos processar novamente a criação de features pelo smoothing e pelo Kmeans. Estas estapas são rigorosamente iguais as anteriores, mas agora aplicadas ao nosso novo target."
   ]
  },
  {
   "cell_type": "code",
   "execution_count": 109,
   "metadata": {},
   "outputs": [],
   "source": [
    "# Removendo colunas que não passaram pelo critério anterior do método de Mutual Information\n",
    "\n",
    "X_regressao.drop(['cambio', 'ano_modelo','bancocouro','flg_garantia_fabrica','alarme','arquente',\\\n",
    "'flg_unico_dono','sensorchuva','desembtras','rodasliga','flg_blindado','portas','flg_adaptado_pcd',\\\n",
    "'airbag','sensorestacion','vidroseletr','travaeletr','abs','arcondic'],axis=1,inplace=True)"
   ]
  },
  {
   "cell_type": "code",
   "execution_count": 110,
   "metadata": {},
   "outputs": [
    {
     "data": {
      "text/plain": [
       "1    1\n",
       "2    3\n",
       "3    1\n",
       "5    3\n",
       "6    1\n",
       "Name: Cluster, dtype: int32"
      ]
     },
     "execution_count": 110,
     "metadata": {},
     "output_type": "execute_result"
    }
   ],
   "source": [
    "# Recriando clusters de anúncios similares iguais ao modelo de classificação\n",
    "features = X_regressao.columns\n",
    "\n",
    "# Aplicando padronização: kmeans é sensivel as escalas\n",
    "X_scaled = X_regressao.loc[:, features]\n",
    "X_scaled = (X_scaled - X_scaled.mean(axis=0)) / X_scaled.std(axis=0)\n",
    "\n",
    "X_scaled.fillna(0,axis=0,inplace=True) # a transformação cria zeros e o phyton reconhece como NaN\n",
    "\n",
    "# Realizando Fit\n",
    "kmeans = KMeans(n_clusters=5, random_state=0)\n",
    "X_regressao[\"Cluster\"] = kmeans.fit_predict(X_scaled)\n",
    "X_regressao[\"Cluster\"].head()"
   ]
  },
  {
   "cell_type": "code",
   "execution_count": 111,
   "metadata": {},
   "outputs": [
    {
     "data": {
      "text/plain": [
       "Index(['prioridade', 'views', 'cliques_telefone*', 'cod_marca_veiculo',\n",
       "       'cod_modelo_veiculo', 'vlr_anuncio', 'qtd_fotos', 'km_veiculo',\n",
       "       'vlr_mercado', 'flg_licenciado', 'flg_ipva_pago',\n",
       "       'flg_todas_revisoes_concessionaria',\n",
       "       'flg_todas_revisoes_agenda_veiculo', 'flg_aceita_troca', 'combustivel',\n",
       "       'uf', 'cidade', 'Cluster'],\n",
       "      dtype='object')"
      ]
     },
     "execution_count": 111,
     "metadata": {},
     "output_type": "execute_result"
    }
   ],
   "source": [
    "# Agora temos o mesmo conjunto de features usada no treinamento dos modelos de classificação para nossos modelos regressivos\n",
    "X_regressao.columns"
   ]
  },
  {
   "cell_type": "markdown",
   "metadata": {},
   "source": [
    "1º MODELO: Regressão Linear"
   ]
  },
  {
   "cell_type": "markdown",
   "metadata": {},
   "source": [
    "OBSERVAÇÃO:\n",
    "\n",
    "- Como não estamos mais lidado com um modelo de classificação e nosso target é numérico, iremos utilizar a validação cruzada do tipo ``Kfold()`` e não mais uma validação estratificada, já que não há desbalanceamento de classes neste caso"
   ]
  },
  {
   "cell_type": "code",
   "execution_count": 112,
   "metadata": {},
   "outputs": [],
   "source": [
    "# Aplicando split (valerá para todos os modelos regressivos)\n",
    "from sklearn.model_selection import KFold\n",
    "\n",
    "separador_regressao = KFold(n_splits=4, shuffle=True, random_state=0)\n",
    "\n",
    "for train_index, val_index in separador_regressao.split(X_regressao, y_regressao):\n",
    "    X_treino_regressao, X_teste_regressao = X_regressao.iloc[train_index, :], X_regressao.iloc[val_index, :]\n",
    "    y_treino_regressao, y_teste_regressao = y_regressao.iloc[train_index], y_regressao.iloc[val_index]"
   ]
  },
  {
   "cell_type": "code",
   "execution_count": 113,
   "metadata": {},
   "outputs": [],
   "source": [
    "from sklearn.linear_model import LinearRegression\n",
    "from sklearn.metrics import mean_absolute_error, mean_squared_error\n",
    "import numpy as np\n",
    "\n",
    "# Lista de features categoricas\n",
    "cols_categorica = [coluna for coluna in X_treino_regressao.columns if X_treino_regressao[coluna].dtype == \"object\"]\n",
    "\n",
    "# Lista de features numéricas\n",
    "cols_numerica = [coluna for coluna in X_treino_regressao.columns if X_treino_regressao[coluna].dtype in ['int64', 'float64']]\n",
    "\n",
    "# Instanciando transformador numérico: tratamento de NaN's ja realizado + scaler (normalização)\n",
    "transformador_numerico = Pipeline(steps=[('scaler', StandardScaler())\n",
    "])\n",
    "\n",
    "# Instanciando transformador categorico\n",
    "transformador_categorico = Pipeline(steps=[\n",
    "    ('imputer', SimpleImputer(strategy='most_frequent')),\n",
    "    ('onehot', OneHotEncoder(handle_unknown='ignore'))\n",
    "])\n",
    "\n",
    "# Definindo as transformações a serem realizadas\n",
    "processador = ColumnTransformer(\n",
    "    transformers=[\n",
    "        ('num', transformador_numerico, cols_numerica),\n",
    "        ('cat', transformador_categorico, cols_categorica)\n",
    "    ])\n",
    "\n",
    "# Selecionando o 1º modelo de Regressão\n",
    "modelo_RLIN = LinearRegression()\n",
    "\n",
    "# Criando pipeline (transformadores + modelo)\n",
    "pipeline_RLIN = Pipeline(steps=[('preprocessor', processador),\n",
    "                              ('model', modelo_RLIN)\n",
    "                             ])"
   ]
  },
  {
   "cell_type": "code",
   "execution_count": 114,
   "metadata": {},
   "outputs": [
    {
     "name": "stdout",
     "output_type": "stream",
     "text": [
      "Treinamento Concluído\n"
     ]
    }
   ],
   "source": [
    "# Loop para rodar 5 execuções em cada folder criado no split (n_fold = 4)\n",
    "execucoes = 5\n",
    "lista_mae = []\n",
    "lista_mse = []\n",
    "lista_rmse = []\n",
    "\n",
    "for train_index, val_index in separador_regressao.split(X_regressao, y_regressao):\n",
    "    X_treino_regressao, X_teste_regressao = X_regressao.iloc[train_index, :], X_regressao.iloc[val_index, :]\n",
    "    y_treino_regressao, y_teste_regressao = y_regressao.iloc[train_index], y_regressao.iloc[val_index]\n",
    "    for run in range(execucoes):\n",
    "            \n",
    "      # Treinando o modelo usando o pipeline configurado previamente\n",
    "      pipeline_RLIN.fit(X_treino_regressao, y_treino_regressao)\n",
    "      previsao = pipeline_RLIN.predict(X_teste_regressao)\n",
    "      \n",
    "      # Calculando métricas para cada rodada\n",
    "      mae = mean_absolute_error(y_teste_regressao, previsao)\n",
    "      lista_mae.append(mae)\n",
    "\n",
    "      mse = mean_squared_error(y_teste_regressao, previsao)\n",
    "      lista_mse.append(mse)\n",
    "\n",
    "      rmse = np.sqrt(mse)\n",
    "      lista_rmse.append(rmse)\n",
    "      \n",
    "print(\"Treinamento Concluído\")"
   ]
  },
  {
   "cell_type": "code",
   "execution_count": 115,
   "metadata": {},
   "outputs": [
    {
     "name": "stdout",
     "output_type": "stream",
     "text": [
      "O erro absoluto médio entre as execuções foi de 3.7 leads com desvio padrão de 0.0263\n",
      "O erro quadrático médio entre as execuções foi de 48.23 leads com desvio padrão de 5.6617\n",
      "A raiz do erro quadrático médio entre as execuções foi de 6.93 leads com desvio padrão de 0.4005\n"
     ]
    }
   ],
   "source": [
    "# Calculando média e desvio padrão de MAE das execuções\n",
    "mae_reglin, mae_std_reglin = np.array(lista_mae).mean(), \\\n",
    "  np.array(lista_mae).std()\n",
    "print(f'O erro absoluto médio entre as execuções foi de {round(mae_reglin,2)} leads com desvio padrão de {round(mae_std_reglin,4)}')\n",
    "\n",
    " #Calculando média e desvio padrão de MSE das execuções\n",
    "mse_reglin, mse_std_reglin = np.array(lista_mse).mean(),\\\n",
    " np.array(lista_mse).std()\n",
    "print(f'O erro quadrático médio entre as execuções foi de {round(mse_reglin,2)} leads com desvio padrão de {round(mse_std_reglin,4)}')\n",
    "\n",
    "# Calculando média e desvio padrão de RMSE das execuções\n",
    "rmse_reglin, rmse_std_reglin = np.array(lista_rmse).mean(),\\\n",
    " np.array(lista_rmse).std()\n",
    "print(f'A raiz do erro quadrático médio entre as execuções foi de {round(rmse_reglin,2)} leads com desvio padrão de {round(rmse_std_reglin,4)}')"
   ]
  },
  {
   "cell_type": "markdown",
   "metadata": {},
   "source": [
    "2º MODELO: Baseado em árvores para regressão (RandomForest)"
   ]
  },
  {
   "cell_type": "code",
   "execution_count": 116,
   "metadata": {},
   "outputs": [],
   "source": [
    "from sklearn.ensemble import RandomForestRegressor\n",
    "\n",
    "# Lista de features categoricas\n",
    "cols_categorica = [coluna for coluna in X_treino_regressao.columns if X_treino_regressao[coluna].dtype == \"object\"]\n",
    "\n",
    "# Lista de features numéricas\n",
    "cols_numerica = [coluna for coluna in X_treino_regressao.columns if X_treino_regressao[coluna].dtype in ['int64', 'float64']]\n",
    "\n",
    "# Instanciando transformador numérico: tratamento de NaN's ja realizado + scaler (normalização)\n",
    "transformador_numerico = Pipeline(steps=[('scaler', StandardScaler())\n",
    "])\n",
    "\n",
    "# Instanciando transformador categorico\n",
    "transformador_categorico = Pipeline(steps=[\n",
    "    ('imputer', SimpleImputer(strategy='most_frequent')),\n",
    "    ('onehot', OneHotEncoder(handle_unknown='ignore'))\n",
    "])\n",
    "\n",
    "# Definindo as transformações a serem realizadas\n",
    "processador = ColumnTransformer(\n",
    "    transformers=[\n",
    "        ('num', transformador_numerico, cols_numerica),\n",
    "        ('cat', transformador_categorico, cols_categorica)\n",
    "    ])\n",
    "\n",
    "# Selecionando o 2º modelo de Regressão\n",
    "modelo_REGFOREST = RandomForestRegressor(random_state=0, max_depth=100)\n",
    "\n",
    "# Criando pipeline (transformadores + modelo)\n",
    "pipeline_REGFOREST = Pipeline(steps=[('preprocessor', processador),\n",
    "                              ('model', modelo_REGFOREST)\n",
    "                             ])"
   ]
  },
  {
   "cell_type": "code",
   "execution_count": 117,
   "metadata": {},
   "outputs": [
    {
     "name": "stdout",
     "output_type": "stream",
     "text": [
      "Treinamento Concluído\n"
     ]
    }
   ],
   "source": [
    "# Loop para rodar 5 execuções em cada folder criado no split (n_fold = 4)\n",
    "execucoes = 5\n",
    "lista_mae = []\n",
    "lista_mse = []\n",
    "lista_rmse = []\n",
    "\n",
    "for train_index, val_index in separador_regressao.split(X_regressao, y_regressao):\n",
    "    X_treino_regressao, X_teste_regressao = X_regressao.iloc[train_index, :], X_regressao.iloc[val_index, :]\n",
    "    y_treino_regressao, y_teste_regressao = y_regressao.iloc[train_index], y_regressao.iloc[val_index]\n",
    "    for run in range(execucoes):\n",
    "            \n",
    "      # Treinando o modelo usando o pipeline configurado previamente\n",
    "      pipeline_REGFOREST.fit(X_treino_regressao, y_treino_regressao)\n",
    "      previsao = pipeline_REGFOREST.predict(X_teste_regressao)\n",
    "      \n",
    "      # Calculando métricas para cada rodada\n",
    "      mae = mean_absolute_error(y_teste_regressao, previsao)\n",
    "      lista_mae.append(mae)\n",
    "\n",
    "      mse = mean_squared_error(y_teste_regressao, previsao)\n",
    "      lista_mse.append(mse)\n",
    "\n",
    "      rmse = np.sqrt(mse)\n",
    "      lista_rmse.append(rmse)\n",
    "      \n",
    "print(\"Treinamento Concluído\")"
   ]
  },
  {
   "cell_type": "code",
   "execution_count": 118,
   "metadata": {},
   "outputs": [
    {
     "name": "stdout",
     "output_type": "stream",
     "text": [
      "O erro absoluto médio entre as execuções foi de 3.03 leads com desvio padrão de 0.014\n",
      "O erro quadrático médio entre as execuções foi de 43.04 leads com desvio padrão de 4.8984\n",
      "A raiz do erro quadrático médio entre as execuções foi de 6.55 leads com desvio padrão de 0.3653\n"
     ]
    }
   ],
   "source": [
    "# Calculando média e desvio padrão de MAE das execuções\n",
    "mae_forest, mae_std_forest = np.array(lista_mae).mean(), \\\n",
    "  np.array(lista_mae).std()\n",
    "print(f'O erro absoluto médio entre as execuções foi de {round(mae_forest,2)} leads com desvio padrão de {round(mae_std_forest,4)}')\n",
    "\n",
    " #Calculando média e desvio padrão de MSE das execuções\n",
    "mse_forest, mse_std_forest = np.array(lista_mse).mean(),\\\n",
    " np.array(lista_mse).std()\n",
    "print(f'O erro quadrático médio entre as execuções foi de {round(mse_forest,2)} leads com desvio padrão de {round(mse_std_forest,4)}')\n",
    "\n",
    "# Calculando média e desvio padrão de RMSE das execuções\n",
    "rmse_forest, rmse_std_forest = np.array(lista_rmse).mean(),\\\n",
    " np.array(lista_rmse).std()\n",
    "print(f'A raiz do erro quadrático médio entre as execuções foi de {round(rmse_forest,2)} leads com desvio padrão de {round(rmse_std_forest,4)}')"
   ]
  },
  {
   "cell_type": "markdown",
   "metadata": {},
   "source": [
    "3º MODELO: MLPRegressor (Rede Neural)"
   ]
  },
  {
   "cell_type": "code",
   "execution_count": 119,
   "metadata": {},
   "outputs": [],
   "source": [
    "from sklearn.neural_network import MLPRegressor\n",
    "\n",
    "# Lista de features categoricas\n",
    "cols_categorica = [coluna for coluna in X_treino_regressao.columns if X_treino_regressao[coluna].dtype == \"object\"]\n",
    "\n",
    "# Lista de features numéricas\n",
    "cols_numerica = [coluna for coluna in X_treino_regressao.columns if X_treino_regressao[coluna].dtype in ['int64', 'float64']]\n",
    "\n",
    "# Instanciando transformador numérico: tratamento de NaN's ja realizado + scaler \n",
    "transformador_numerico = Pipeline(steps=[('scaler', StandardScaler())\n",
    "])\n",
    "\n",
    "# Instanciando transformador categorico\n",
    "transformador_categorico = Pipeline(steps=[\n",
    "    ('imputer', SimpleImputer(strategy='most_frequent')),\n",
    "    ('onehot', OneHotEncoder(handle_unknown='ignore'))\n",
    "])\n",
    "\n",
    "# Definindo as transformações a serem realizadas\n",
    "processador = ColumnTransformer(\n",
    "    transformers=[\n",
    "        ('num', transformador_numerico, cols_numerica),\n",
    "        ('cat', transformador_categorico, cols_categorica)\n",
    "    ])\n",
    "\n",
    "# Selecionando o 3º modelo de Regressão\n",
    "modelo_MLP = MLPRegressor(random_state=0, max_iter = 500)\n",
    "\n",
    "# Criando pipeline (transformadores + modelo)\n",
    "pipeline_MLP = Pipeline(steps=[('preprocessor', processador),\n",
    "                              ('model', modelo_MLP)\n",
    "                             ])"
   ]
  },
  {
   "cell_type": "code",
   "execution_count": 120,
   "metadata": {},
   "outputs": [
    {
     "name": "stdout",
     "output_type": "stream",
     "text": [
      "Treinamento Concluído\n"
     ]
    }
   ],
   "source": [
    "# Loop para rodar 5 execuções em cada folder criado no split (n_fold = 4)\n",
    "execucoes = 5\n",
    "lista_mae = []\n",
    "lista_mse = []\n",
    "lista_rmse = []\n",
    "\n",
    "for train_index, val_index in separador_regressao.split(X_regressao, y_regressao):\n",
    "    X_treino_regressao, X_teste_regressao = X_regressao.iloc[train_index, :], X_regressao.iloc[val_index, :]\n",
    "    y_treino_regressao, y_teste_regressao = y_regressao.iloc[train_index], y_regressao.iloc[val_index]\n",
    "    for run in range(execucoes):\n",
    "            \n",
    "      # Treinando o modelo usando o pipeline configurado previamente\n",
    "      pipeline_MLP.fit(X_treino_regressao, y_treino_regressao)\n",
    "      previsao = pipeline_MLP.predict(X_teste_regressao)\n",
    "      \n",
    "      # Calculando métricas para cada rodada\n",
    "      mae = mean_absolute_error(y_teste_regressao, previsao)\n",
    "      lista_mae.append(mae)\n",
    "\n",
    "      mse = mean_squared_error(y_teste_regressao, previsao)\n",
    "      lista_mse.append(mse)\n",
    "\n",
    "      rmse = np.sqrt(mse)\n",
    "      lista_rmse.append(rmse)\n",
    "      \n",
    "print(\"Treinamento Concluído\")"
   ]
  },
  {
   "cell_type": "code",
   "execution_count": 121,
   "metadata": {},
   "outputs": [
    {
     "name": "stdout",
     "output_type": "stream",
     "text": [
      "O erro absoluto médio entre as execuções foi de 3.1 leads com desvio padrão de 0.0245\n",
      "O erro quadrático médio entre as execuções foi de 41.86 leads com desvio padrão de 4.3812\n",
      "A raiz do erro quadrático médio entre as execuções foi de 6.46 leads com desvio padrão de 0.3328\n"
     ]
    }
   ],
   "source": [
    "# Calculando média e desvio padrão de MAE das execuções\n",
    "mae_mlp, mae_std_mlp = np.array(lista_mae).mean(), \\\n",
    "  np.array(lista_mae).std()\n",
    "print(f'O erro absoluto médio entre as execuções foi de {round(mae_mlp,2)} leads com desvio padrão de {round(mae_std_mlp,4)}')\n",
    "\n",
    " #Calculando média e desvio padrão de MSE das execuções\n",
    "mse_mlp, mse_std_mlp = np.array(lista_mse).mean(),\\\n",
    " np.array(lista_mse).std()\n",
    "print(f'O erro quadrático médio entre as execuções foi de {round(mse_mlp,2)} leads com desvio padrão de {round(mse_std_mlp,4)}')\n",
    "\n",
    "# Calculando média e desvio padrão de RMSE das execuções\n",
    "rmse_mlp, rmse_std_mlp = np.array(lista_rmse).mean(),\\\n",
    " np.array(lista_rmse).std()\n",
    "print(f'A raiz do erro quadrático médio entre as execuções foi de {round(rmse_mlp,2)} leads com desvio padrão de {round(rmse_std_mlp,4)}')"
   ]
  },
  {
   "cell_type": "markdown",
   "metadata": {},
   "source": [
    "4º MODELO: ElasticNet.\n",
    "\n",
    "- O objetivo é treinar um modelo com o método ``ElasticNetCV()`` par achar o parâmero alfa ideal e retreinar um novo modelo ajustado pelo parâmetro em questão."
   ]
  },
  {
   "cell_type": "markdown",
   "metadata": {},
   "source": [
    "1º passo: treinar um modelo com o ``ElasticNetCV()``"
   ]
  },
  {
   "cell_type": "code",
   "execution_count": 122,
   "metadata": {},
   "outputs": [],
   "source": [
    "from sklearn.linear_model import ElasticNet, ElasticNetCV\n",
    "\n",
    "# Lista de features categoricas\n",
    "cols_categorica = [coluna for coluna in X_treino_regressao.columns if X_treino_regressao[coluna].dtype == \"object\"]\n",
    "\n",
    "# Lista de features numéricas\n",
    "cols_numerica = [coluna for coluna in X_treino_regressao.columns if X_treino_regressao[coluna].dtype in ['int64', 'float64']]\n",
    "\n",
    "# Instanciando transformador numérico: tratamento de NaN's ja realizado + scaler \n",
    "transformador_numerico = Pipeline(steps=[('scaler', StandardScaler())\n",
    "])\n",
    "\n",
    "# Instanciando transformador categorico\n",
    "transformador_categorico = Pipeline(steps=[\n",
    "    ('imputer', SimpleImputer(strategy='most_frequent')),\n",
    "    ('onehot', OneHotEncoder(handle_unknown='ignore'))\n",
    "])\n",
    "\n",
    "# Definindo as transformações a serem realizadas\n",
    "processador = ColumnTransformer(\n",
    "    transformers=[\n",
    "        ('num', transformador_numerico, cols_numerica),\n",
    "        ('cat', transformador_categorico, cols_categorica)\n",
    "    ])\n",
    "\n",
    "# Selecionando o 4º modelo de Regressão\n",
    "modelo_enetCV = ElasticNetCV(random_state=0, l1_ratio=0.5)\n",
    "\n",
    "# Criando pipeline (transformadores + modelo)\n",
    "pipeline_ELASTICV = Pipeline(steps=[('preprocessor', processador),\n",
    "                              ('model', modelo_enetCV)\n",
    "                             ])"
   ]
  },
  {
   "cell_type": "code",
   "execution_count": 123,
   "metadata": {},
   "outputs": [
    {
     "name": "stdout",
     "output_type": "stream",
     "text": [
      "Treinamento Concluído\n"
     ]
    }
   ],
   "source": [
    "# Loop para rodar 5 execuções em cada folder criado no split (n_fold = 4)\n",
    "execucoes = 5\n",
    "lista_mae = []\n",
    "lista_mse = []\n",
    "lista_rmse = []\n",
    "\n",
    "for train_index, val_index in separador_regressao.split(X_regressao, y_regressao):\n",
    "    X_treino_regressao, X_teste_regressao = X_regressao.iloc[train_index, :], X_regressao.iloc[val_index, :]\n",
    "    y_treino_regressao, y_teste_regressao = y_regressao.iloc[train_index], y_regressao.iloc[val_index]\n",
    "    for run in range(execucoes):\n",
    "            \n",
    "      # Treinando o modelo usando o pipeline configurado previamente\n",
    "      pipeline_ELASTICV.fit(X_treino_regressao, y_treino_regressao)\n",
    "      previsao = pipeline_ELASTICV.predict(X_teste_regressao)\n",
    "      \n",
    "      # Calculando métricas para cada rodada\n",
    "      mae = mean_absolute_error(y_teste_regressao, previsao)\n",
    "      lista_mae.append(mae)\n",
    "\n",
    "      mse = mean_squared_error(y_teste_regressao, previsao)\n",
    "      lista_mse.append(mse)\n",
    "\n",
    "      rmse = np.sqrt(mse)\n",
    "      lista_rmse.append(rmse)\n",
    "      \n",
    "print(\"Treinamento Concluído\")"
   ]
  },
  {
   "cell_type": "code",
   "execution_count": 124,
   "metadata": {},
   "outputs": [
    {
     "data": {
      "text/plain": [
       "0.01802349931352266"
      ]
     },
     "execution_count": 124,
     "metadata": {},
     "output_type": "execute_result"
    }
   ],
   "source": [
    "# Identificando o parâmetro alfa para tuning do modelo\n",
    "\n",
    "modelo_enetCV.alpha_"
   ]
  },
  {
   "cell_type": "markdown",
   "metadata": {},
   "source": [
    "2º passo: Realizar retreino do modelo com o parâmetro alfa"
   ]
  },
  {
   "cell_type": "code",
   "execution_count": 125,
   "metadata": {},
   "outputs": [
    {
     "name": "stdout",
     "output_type": "stream",
     "text": [
      "Treinamento Concluído\n"
     ]
    }
   ],
   "source": [
    "modelo_enetCV_ajustado = ElasticNet(random_state=0, alpha=modelo_enetCV.alpha_)\n",
    "\n",
    "# Passando para o pipeline o modelo ajustado\n",
    "pipeline_ELASTICV_ajust = Pipeline(steps=[('preprocessor', processador),\n",
    "                              ('model', modelo_enetCV_ajustado)\n",
    "                             ])\n",
    "\n",
    "# Loop para rodar 5 execuções em cada folder criado no split (n_fold = 4)\n",
    "execucoes = 5\n",
    "lista_mae = []\n",
    "lista_mse = []\n",
    "lista_rmse = []\n",
    "\n",
    "for train_index, val_index in separador_regressao.split(X_regressao, y_regressao):\n",
    "    X_treino_regressao, X_teste_regressao = X_regressao.iloc[train_index, :], X_regressao.iloc[val_index, :]\n",
    "    y_treino_regressao, y_teste_regressao = y_regressao.iloc[train_index], y_regressao.iloc[val_index]\n",
    "    for run in range(execucoes):\n",
    "            \n",
    "      # Treinando o modelo usando o pipeline configurado previamente\n",
    "      pipeline_ELASTICV_ajust.fit(X_treino_regressao, y_treino_regressao)\n",
    "      previsao = pipeline_ELASTICV_ajust.predict(X_teste_regressao)\n",
    "      \n",
    "      # Calculando métricas para cada rodada\n",
    "      mae = mean_absolute_error(y_teste_regressao, previsao)\n",
    "      lista_mae.append(mae)\n",
    "\n",
    "      mse = mean_squared_error(y_teste_regressao, previsao)\n",
    "      lista_mse.append(mse)\n",
    "\n",
    "      rmse = np.sqrt(mse)\n",
    "      lista_rmse.append(rmse)\n",
    "      \n",
    "print(\"Treinamento Concluído\")"
   ]
  },
  {
   "cell_type": "code",
   "execution_count": 126,
   "metadata": {},
   "outputs": [
    {
     "name": "stdout",
     "output_type": "stream",
     "text": [
      "O erro absoluto médio entre as execuções foi de 3.69 leads com desvio padrão de 0.0253\n",
      "O erro quadrático médio entre as execuções foi de 48.23 leads com desvio padrão de 5.7963\n",
      "A raiz do erro quadrático médio entre as execuções foi de 6.93 leads com desvio padrão de 0.4097\n"
     ]
    }
   ],
   "source": [
    "# Calculando média e desvio padrão de MAE das execuções\n",
    "mae_elastic, mae_std_elastic = np.array(lista_mae).mean(), \\\n",
    "  np.array(lista_mae).std()\n",
    "print(f'O erro absoluto médio entre as execuções foi de {round(mae_elastic,2)} leads com desvio padrão de {round(mae_std_elastic,4)}')\n",
    "\n",
    " #Calculando média e desvio padrão de MSE das execuções\n",
    "mse_elastic, mse_std_elastic = np.array(lista_mse).mean(),\\\n",
    " np.array(lista_mse).std()\n",
    "print(f'O erro quadrático médio entre as execuções foi de {round(mse_elastic,2)} leads com desvio padrão de {round(mse_std_elastic,4)}')\n",
    "\n",
    "# Calculando média e desvio padrão de RMSE das execuções\n",
    "rmse_elastic, rmse_std_elastic = np.array(lista_rmse).mean(),\\\n",
    " np.array(lista_rmse).std()\n",
    "print(f'A raiz do erro quadrático médio entre as execuções foi de {round(rmse_elastic,2)} leads com desvio padrão de {round(rmse_std_elastic,4)}')"
   ]
  },
  {
   "cell_type": "markdown",
   "metadata": {},
   "source": [
    "Agora iremos resumir em um dataframe as métricas de cada modelo com suas respectivas médias e desvio-padrão"
   ]
  },
  {
   "cell_type": "code",
   "execution_count": 127,
   "metadata": {},
   "outputs": [
    {
     "data": {
      "text/html": [
       "<div>\n",
       "<style scoped>\n",
       "    .dataframe tbody tr th:only-of-type {\n",
       "        vertical-align: middle;\n",
       "    }\n",
       "\n",
       "    .dataframe tbody tr th {\n",
       "        vertical-align: top;\n",
       "    }\n",
       "\n",
       "    .dataframe thead th {\n",
       "        text-align: right;\n",
       "    }\n",
       "</style>\n",
       "<table border=\"1\" class=\"dataframe\">\n",
       "  <thead>\n",
       "    <tr style=\"text-align: right;\">\n",
       "      <th></th>\n",
       "      <th>Média MAE</th>\n",
       "      <th>DesvPad MAE</th>\n",
       "      <th>Média MSE</th>\n",
       "      <th>DesvPad MSE</th>\n",
       "      <th>Média RMSE</th>\n",
       "      <th>DesvPad RMSE</th>\n",
       "    </tr>\n",
       "  </thead>\n",
       "  <tbody>\n",
       "    <tr>\n",
       "      <th>Regressão Linear</th>\n",
       "      <td>3.704</td>\n",
       "      <td>0.026</td>\n",
       "      <td>48.226</td>\n",
       "      <td>5.662</td>\n",
       "      <td>6.933</td>\n",
       "      <td>0.400</td>\n",
       "    </tr>\n",
       "    <tr>\n",
       "      <th>Random Forest</th>\n",
       "      <td>3.027</td>\n",
       "      <td>0.014</td>\n",
       "      <td>43.035</td>\n",
       "      <td>4.898</td>\n",
       "      <td>6.550</td>\n",
       "      <td>0.365</td>\n",
       "    </tr>\n",
       "    <tr>\n",
       "      <th>Mlp Regressor</th>\n",
       "      <td>3.096</td>\n",
       "      <td>0.025</td>\n",
       "      <td>41.863</td>\n",
       "      <td>4.381</td>\n",
       "      <td>6.462</td>\n",
       "      <td>0.333</td>\n",
       "    </tr>\n",
       "    <tr>\n",
       "      <th>Elastic Net</th>\n",
       "      <td>3.685</td>\n",
       "      <td>0.025</td>\n",
       "      <td>48.234</td>\n",
       "      <td>5.796</td>\n",
       "      <td>6.933</td>\n",
       "      <td>0.410</td>\n",
       "    </tr>\n",
       "  </tbody>\n",
       "</table>\n",
       "</div>"
      ],
      "text/plain": [
       "                  Média MAE  DesvPad MAE  Média MSE  DesvPad MSE  Média RMSE  \\\n",
       "Regressão Linear      3.704        0.026     48.226        5.662       6.933   \n",
       "Random Forest         3.027        0.014     43.035        4.898       6.550   \n",
       "Mlp Regressor         3.096        0.025     41.863        4.381       6.462   \n",
       "Elastic Net           3.685        0.025     48.234        5.796       6.933   \n",
       "\n",
       "                  DesvPad RMSE  \n",
       "Regressão Linear         0.400  \n",
       "Random Forest            0.365  \n",
       "Mlp Regressor            0.333  \n",
       "Elastic Net              0.410  "
      ]
     },
     "execution_count": 127,
     "metadata": {},
     "output_type": "execute_result"
    }
   ],
   "source": [
    "# Criando listas com as métricas de interesse\n",
    "scores_reg_linear = pd.Series([mae_reglin, mae_std_reglin, mse_reglin, mse_std_reglin, rmse_reglin, rmse_std_reglin], name = 'Regressão Linear')\n",
    "scores_forest = pd.Series([mae_forest, mae_std_forest, mse_forest, mse_std_forest, rmse_forest, rmse_std_forest],name = 'Random Forest')\n",
    "scores_mlp = pd.Series([mae_mlp, mae_std_mlp, mse_mlp, mse_std_mlp, rmse_mlp, rmse_std_mlp],name = 'Mlp Regressor')\n",
    "scores_elastic = pd.Series([mae_elastic, mae_std_elastic, mse_elastic, mse_std_elastic, rmse_elastic, rmse_std_elastic],name = 'Elastic Net')\n",
    "metricas = [scores_reg_linear,scores_forest,scores_mlp,scores_elastic]\n",
    "\n",
    "# Concatenando resultados\n",
    "resumo_metricas = pd.concat(metricas, axis=1)\n",
    "resumo_metricas.rename(index={0 :'Média MAE',1:'DesvPad MAE',2:'Média MSE',3:'DesvPad MSE',4:'Média RMSE',5:'DesvPad RMSE'}, inplace=True)\n",
    "resumo_metricas.T"
   ]
  },
  {
   "cell_type": "markdown",
   "metadata": {},
   "source": [
    "Verificando os Coeficientes dos Modelos Lineares: \n",
    "\n",
    "- Coeficientes positivos indicam uma relação diretamente proporcional entre a feature e nossa variável Leads, vice-versa.\n",
    "\n",
    "- Como o coenficiente pode ser interpretado? Tomando como exemplo a feature de Valor de mercado, temos que o aumento em 1 R$ no valor de mercado do veículo está associado com uma redução (coeficiente negativo) de 0,23 leads por anúncio. Esta interpretação é similar para as features negativamente correlacionadas. No exemplo de cliques ao telefone, o modelo informa que o aumento em 1 clique no telefone está associado com um acréscimo (coeficiente positivo) de 9,2 Leads gerados por anúncio. "
   ]
  },
  {
   "cell_type": "code",
   "execution_count": 128,
   "metadata": {},
   "outputs": [
    {
     "name": "stdout",
     "output_type": "stream",
     "text": [
      "[('prioridade', 0.0826), ('views', 0.0769), ('cliques_telefone*', 8.969), ('cod_marca_veiculo', 0.2617), ('cod_modelo_veiculo', 0.0249), ('vlr_anuncio', -0.0773), ('qtd_fotos', -0.017), ('km_veiculo', -0.0979), ('vlr_mercado', -0.2764), ('flg_licenciado', 0.083), ('flg_ipva_pago', -0.0522), ('flg_todas_revisoes_concessionaria', -0.5108), ('flg_todas_revisoes_agenda_veiculo', 0.0006), ('flg_aceita_troca', 0.0635), ('combustivel', 0.9318)]\n"
     ]
    }
   ],
   "source": [
    "print(list(zip(X_regressao.columns,np.around(modelo_RLIN.coef_,4))))"
   ]
  },
  {
   "cell_type": "code",
   "execution_count": 129,
   "metadata": {},
   "outputs": [
    {
     "name": "stdout",
     "output_type": "stream",
     "text": [
      "[('prioridade', 0.0637), ('views', 0.0611), ('cliques_telefone*', 8.8633), ('cod_marca_veiculo', 0.2518), ('cod_modelo_veiculo', 0.0257), ('vlr_anuncio', -0.0679), ('qtd_fotos', -0.0043), ('km_veiculo', -0.0827), ('vlr_mercado', -0.2574), ('flg_licenciado', 0.0765), ('flg_ipva_pago', -0.0366), ('flg_todas_revisoes_concessionaria', -0.4747), ('flg_todas_revisoes_agenda_veiculo', 0.0), ('flg_aceita_troca', 0.0684), ('combustivel', 0.9204)]\n"
     ]
    }
   ],
   "source": [
    "print(list(zip(X_regressao.columns,np.around(modelo_enetCV_ajustado.coef_,4))))"
   ]
  },
  {
   "cell_type": "markdown",
   "metadata": {},
   "source": [
    "### Considerações finais sobre os regressores:\n",
    "\n",
    "- O melhor modelo em termos de métricas é o ``MLPRegressor()``, pois apresenta o melhor desempenho pelo ``MSE`` e ``RMSE`` em comparação aos demais. Em geral, o erro médio computado pelo RMSE é de aproximadamente 6 leads. Isto indica que caso nosso modelo preveja que determinado anúncio irá gerar 10 Leads, possuímos esta margem de erro de 6 Leads, levando a um intervalo entre 4 e 16 leads. Os melhores resultados entre os modelos foram encontrados com dados padronizados ao invés de dados normalizados, já que reportamos apenas os resultados daquela 1º estratégia. \n",
    "\n",
    "- No entanto este desempenho não é significativamente diferente dos modelos concorrentes. Com isto, argumentamos que este modelo possui maior carga computacional e seu tempo de treinamento não é desprezível, levando em consideração que estamos tratando com uma base relativamente pequena. \n",
    "\n",
    "- Portanto, caso a eficiência computacional seja prioridade no deploy do modelo, recomendamos a utilização dos modelos lineares (Regressão Linear ou ElasticNet), pois seu tempo de execução e sua carga computacional é relativamente menor. "
   ]
  }
 ],
 "metadata": {
  "kernelspec": {
   "display_name": "Python 3.10.7 64-bit (microsoft store)",
   "language": "python",
   "name": "python3"
  },
  "language_info": {
   "codemirror_mode": {
    "name": "ipython",
    "version": 3
   },
   "file_extension": ".py",
   "mimetype": "text/x-python",
   "name": "python",
   "nbconvert_exporter": "python",
   "pygments_lexer": "ipython3",
   "version": "3.10.8"
  },
  "orig_nbformat": 4,
  "vscode": {
   "interpreter": {
    "hash": "24c247fb8a096620e482ed040efe31f843bd05f14c52327ea9785b2ad5d0502e"
   }
  }
 },
 "nbformat": 4,
 "nbformat_minor": 2
}
